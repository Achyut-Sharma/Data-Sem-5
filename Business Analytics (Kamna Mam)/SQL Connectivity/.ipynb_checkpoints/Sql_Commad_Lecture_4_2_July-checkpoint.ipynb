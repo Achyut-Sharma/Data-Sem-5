{
 "cells": [
  {
   "cell_type": "markdown",
   "id": "31712c48",
   "metadata": {},
   "source": [
    "# Joins In MySQL"
   ]
  },
  {
   "cell_type": "code",
   "execution_count": 1,
   "id": "63154188",
   "metadata": {},
   "outputs": [],
   "source": [
    "#Connectivity of jupyter with sql\n",
    "!pip install jupysql --quiet"
   ]
  },
  {
   "cell_type": "code",
   "execution_count": null,
   "id": "912a37dd",
   "metadata": {},
   "outputs": [],
   "source": [
    "## pip install jupysql --upgrade for jupysql upgradation if comes while loading command in orange."
   ]
  },
  {
   "cell_type": "code",
   "execution_count": 2,
   "id": "ae0c1849",
   "metadata": {},
   "outputs": [],
   "source": [
    "#load the sql \n",
    "%load_ext sql"
   ]
  },
  {
   "cell_type": "code",
   "execution_count": 3,
   "id": "ae924f88",
   "metadata": {},
   "outputs": [
    {
     "data": {
      "text/html": [
       "<span style=\"color: green\">1 rows affected.</span>"
      ],
      "text/plain": [
       "1 rows affected."
      ]
     },
     "metadata": {},
     "output_type": "display_data"
    },
    {
     "data": {
      "text/html": [
       "<span style=\"color: green\">1 rows affected.</span>"
      ],
      "text/plain": [
       "1 rows affected."
      ]
     },
     "metadata": {},
     "output_type": "display_data"
    },
    {
     "data": {
      "text/html": [
       "<span style=\"color: green\">1 rows affected.</span>"
      ],
      "text/plain": [
       "1 rows affected."
      ]
     },
     "metadata": {},
     "output_type": "display_data"
    },
    {
     "data": {
      "text/html": [
       "<span style=\"color: green\">1 rows affected.</span>"
      ],
      "text/plain": [
       "1 rows affected."
      ]
     },
     "metadata": {},
     "output_type": "display_data"
    },
    {
     "data": {
      "text/html": [
       "<span style=\"color: green\">1 rows affected.</span>"
      ],
      "text/plain": [
       "1 rows affected."
      ]
     },
     "metadata": {},
     "output_type": "display_data"
    },
    {
     "data": {
      "text/html": [
       "<span style=\"color: green\">1 rows affected.</span>"
      ],
      "text/plain": [
       "1 rows affected."
      ]
     },
     "metadata": {},
     "output_type": "display_data"
    },
    {
     "data": {
      "text/html": [
       "<table>\n",
       "    <thead>\n",
       "        <tr>\n",
       "        </tr>\n",
       "    </thead>\n",
       "    <tbody>\n",
       "    </tbody>\n",
       "</table>\n",
       "<span style='font-style:italic;font-size:11px'><code>ResultSet</code> : to convert to pandas, call <a href='https://jupysql.ploomber.io/en/latest/integrations/pandas.html'><code>.DataFrame()</code></a> or to polars, call <a href='https://jupysql.ploomber.io/en/latest/integrations/polars.html'><code>.PolarsDataFrame()</code></a></span><br>"
      ],
      "text/plain": [
       "++\n",
       "||\n",
       "++\n",
       "++"
      ]
     },
     "execution_count": 3,
     "metadata": {},
     "output_type": "execute_result"
    }
   ],
   "source": [
    "%%sql sqlite://\n",
    "    create table Department(Deptno int primary key, Deptname varchar(20), loc varcar(25));\n",
    "    insert into Department values(10,\"Sales\",\"Chicago\");\n",
    "    insert into Department values(20,\"IT\",\"New York\");\n",
    "    insert into Department values(30,\"Finance\",\"London\");\n",
    "    \n",
    "    create table Employee(Empno int primary key, Empname varchar(20), Job varcar(25), Deptno int, Foreign key (Deptno) references Department (Deptno));\n",
    "    insert into Employee values(101,\"A\",\"Sales\",10);\n",
    "    insert into Employee values(102,\"B\",\"Manager\",10);\n",
    "    insert into Employee values(103,\"C\",\"Manager\",30);"
   ]
  },
  {
   "cell_type": "code",
   "execution_count": 4,
   "id": "89075150",
   "metadata": {},
   "outputs": [
    {
     "data": {
      "text/html": [
       "<span style=\"None\">Running query in &#x27;sqlite://&#x27;</span>"
      ],
      "text/plain": [
       "Running query in 'sqlite://'"
      ]
     },
     "metadata": {},
     "output_type": "display_data"
    },
    {
     "data": {
      "text/html": [
       "<table>\n",
       "    <thead>\n",
       "        <tr>\n",
       "            <th>Deptno</th>\n",
       "            <th>Deptname</th>\n",
       "            <th>loc</th>\n",
       "        </tr>\n",
       "    </thead>\n",
       "    <tbody>\n",
       "        <tr>\n",
       "            <td>10</td>\n",
       "            <td>Sales</td>\n",
       "            <td>Chicago</td>\n",
       "        </tr>\n",
       "        <tr>\n",
       "            <td>20</td>\n",
       "            <td>IT</td>\n",
       "            <td>New York</td>\n",
       "        </tr>\n",
       "        <tr>\n",
       "            <td>30</td>\n",
       "            <td>Finance</td>\n",
       "            <td>London</td>\n",
       "        </tr>\n",
       "    </tbody>\n",
       "</table>\n",
       "<span style='font-style:italic;font-size:11px'><code>ResultSet</code> : to convert to pandas, call <a href='https://jupysql.ploomber.io/en/latest/integrations/pandas.html'><code>.DataFrame()</code></a> or to polars, call <a href='https://jupysql.ploomber.io/en/latest/integrations/polars.html'><code>.PolarsDataFrame()</code></a></span><br>"
      ],
      "text/plain": [
       "+--------+----------+----------+\n",
       "| Deptno | Deptname |   loc    |\n",
       "+--------+----------+----------+\n",
       "|   10   |  Sales   | Chicago  |\n",
       "|   20   |    IT    | New York |\n",
       "|   30   | Finance  |  London  |\n",
       "+--------+----------+----------+"
      ]
     },
     "execution_count": 4,
     "metadata": {},
     "output_type": "execute_result"
    }
   ],
   "source": [
    "%sql select * from Department;"
   ]
  },
  {
   "cell_type": "code",
   "execution_count": 5,
   "id": "2896edb6",
   "metadata": {},
   "outputs": [
    {
     "data": {
      "text/html": [
       "<span style=\"None\">Running query in &#x27;sqlite://&#x27;</span>"
      ],
      "text/plain": [
       "Running query in 'sqlite://'"
      ]
     },
     "metadata": {},
     "output_type": "display_data"
    },
    {
     "data": {
      "text/html": [
       "<table>\n",
       "    <thead>\n",
       "        <tr>\n",
       "            <th>Empno</th>\n",
       "            <th>Empname</th>\n",
       "            <th>Job</th>\n",
       "            <th>Deptno</th>\n",
       "        </tr>\n",
       "    </thead>\n",
       "    <tbody>\n",
       "        <tr>\n",
       "            <td>101</td>\n",
       "            <td>A</td>\n",
       "            <td>Sales</td>\n",
       "            <td>10</td>\n",
       "        </tr>\n",
       "        <tr>\n",
       "            <td>102</td>\n",
       "            <td>B</td>\n",
       "            <td>Manager</td>\n",
       "            <td>10</td>\n",
       "        </tr>\n",
       "        <tr>\n",
       "            <td>103</td>\n",
       "            <td>C</td>\n",
       "            <td>Manager</td>\n",
       "            <td>30</td>\n",
       "        </tr>\n",
       "    </tbody>\n",
       "</table>\n",
       "<span style='font-style:italic;font-size:11px'><code>ResultSet</code> : to convert to pandas, call <a href='https://jupysql.ploomber.io/en/latest/integrations/pandas.html'><code>.DataFrame()</code></a> or to polars, call <a href='https://jupysql.ploomber.io/en/latest/integrations/polars.html'><code>.PolarsDataFrame()</code></a></span><br>"
      ],
      "text/plain": [
       "+-------+---------+---------+--------+\n",
       "| Empno | Empname |   Job   | Deptno |\n",
       "+-------+---------+---------+--------+\n",
       "|  101  |    A    |  Sales  |   10   |\n",
       "|  102  |    B    | Manager |   10   |\n",
       "|  103  |    C    | Manager |   30   |\n",
       "+-------+---------+---------+--------+"
      ]
     },
     "execution_count": 5,
     "metadata": {},
     "output_type": "execute_result"
    }
   ],
   "source": [
    "%sql select * from Employee;"
   ]
  },
  {
   "cell_type": "markdown",
   "id": "41aff823",
   "metadata": {},
   "source": [
    "# Inner Join"
   ]
  },
  {
   "cell_type": "code",
   "execution_count": 13,
   "id": "35347737",
   "metadata": {},
   "outputs": [
    {
     "data": {
      "text/html": [
       "<span style=\"None\">Running query in &#x27;sqlite://&#x27;</span>"
      ],
      "text/plain": [
       "Running query in 'sqlite://'"
      ]
     },
     "metadata": {},
     "output_type": "display_data"
    },
    {
     "data": {
      "text/html": [
       "<table>\n",
       "    <thead>\n",
       "        <tr>\n",
       "            <th>Empno</th>\n",
       "            <th>Empname</th>\n",
       "            <th>Job</th>\n",
       "            <th>Deptname</th>\n",
       "            <th>loc</th>\n",
       "        </tr>\n",
       "    </thead>\n",
       "    <tbody>\n",
       "        <tr>\n",
       "            <td>101</td>\n",
       "            <td>A</td>\n",
       "            <td>Sales</td>\n",
       "            <td>IT</td>\n",
       "            <td>New York</td>\n",
       "        </tr>\n",
       "        <tr>\n",
       "            <td>102</td>\n",
       "            <td>B</td>\n",
       "            <td>Manager</td>\n",
       "            <td>IT</td>\n",
       "            <td>New York</td>\n",
       "        </tr>\n",
       "        <tr>\n",
       "            <td>103</td>\n",
       "            <td>C</td>\n",
       "            <td>Manager</td>\n",
       "            <td>IT</td>\n",
       "            <td>New York</td>\n",
       "        </tr>\n",
       "    </tbody>\n",
       "</table>\n",
       "<span style='font-style:italic;font-size:11px'><code>ResultSet</code> : to convert to pandas, call <a href='https://jupysql.ploomber.io/en/latest/integrations/pandas.html'><code>.DataFrame()</code></a> or to polars, call <a href='https://jupysql.ploomber.io/en/latest/integrations/polars.html'><code>.PolarsDataFrame()</code></a></span><br>"
      ],
      "text/plain": [
       "+-------+---------+---------+----------+----------+\n",
       "| Empno | Empname |   Job   | Deptname |   loc    |\n",
       "+-------+---------+---------+----------+----------+\n",
       "|  101  |    A    |  Sales  |    IT    | New York |\n",
       "|  102  |    B    | Manager |    IT    | New York |\n",
       "|  103  |    C    | Manager |    IT    | New York |\n",
       "+-------+---------+---------+----------+----------+"
      ]
     },
     "execution_count": 13,
     "metadata": {},
     "output_type": "execute_result"
    }
   ],
   "source": [
    "Emp_inner= %sql select Employee.Empno, Employee.Empname, Employee.Job,Department.Deptname,Department.loc from Employee inner join Department where Department.Deptno = 20;\n",
    "\n",
    "Emp_inner"
   ]
  },
  {
   "cell_type": "code",
   "execution_count": 1,
   "id": "421f241e",
   "metadata": {},
   "outputs": [],
   "source": [
    "## Create manager and project table"
   ]
  },
  {
   "cell_type": "code",
   "execution_count": 13,
   "id": "99b6e75d",
   "metadata": {},
   "outputs": [
    {
     "name": "stdout",
     "output_type": "stream",
     "text": [
      "Requirement already satisfied: ipython-sql in c:\\users\\achyut sharma\\anaconda3\\lib\\site-packages (0.5.0)\n",
      "Requirement already satisfied: six in c:\\users\\achyut sharma\\anaconda3\\lib\\site-packages (from ipython-sql) (1.16.0)\n",
      "Requirement already satisfied: ipython-genutils in c:\\users\\achyut sharma\\anaconda3\\lib\\site-packages (from ipython-sql) (0.2.0)\n",
      "Requirement already satisfied: ipython in c:\\users\\achyut sharma\\anaconda3\\lib\\site-packages (from ipython-sql) (7.31.1)\n",
      "Requirement already satisfied: prettytable in c:\\users\\achyut sharma\\anaconda3\\lib\\site-packages (from ipython-sql) (3.8.0)\n",
      "Requirement already satisfied: sqlalchemy>=2.0 in c:\\users\\achyut sharma\\anaconda3\\lib\\site-packages (from ipython-sql) (2.0.19)\n",
      "Requirement already satisfied: sqlparse in c:\\users\\achyut sharma\\anaconda3\\lib\\site-packages (from ipython-sql) (0.4.4)\n",
      "Requirement already satisfied: greenlet!=0.4.17 in c:\\users\\achyut sharma\\anaconda3\\lib\\site-packages (from sqlalchemy>=2.0->ipython-sql) (1.1.1)\n",
      "Requirement already satisfied: typing-extensions>=4.2.0 in c:\\users\\achyut sharma\\anaconda3\\lib\\site-packages (from sqlalchemy>=2.0->ipython-sql) (4.3.0)\n",
      "Requirement already satisfied: colorama in c:\\users\\achyut sharma\\anaconda3\\lib\\site-packages (from ipython->ipython-sql) (0.4.5)\n",
      "Requirement already satisfied: jedi>=0.16 in c:\\users\\achyut sharma\\anaconda3\\lib\\site-packages (from ipython->ipython-sql) (0.18.1)\n",
      "Requirement already satisfied: pickleshare in c:\\users\\achyut sharma\\anaconda3\\lib\\site-packages (from ipython->ipython-sql) (0.7.5)\n",
      "Requirement already satisfied: pygments in c:\\users\\achyut sharma\\anaconda3\\lib\\site-packages (from ipython->ipython-sql) (2.11.2)\n",
      "Requirement already satisfied: decorator in c:\\users\\achyut sharma\\anaconda3\\lib\\site-packages (from ipython->ipython-sql) (5.1.1)\n",
      "Requirement already satisfied: setuptools>=18.5 in c:\\users\\achyut sharma\\anaconda3\\lib\\site-packages (from ipython->ipython-sql) (63.4.1)\n",
      "Requirement already satisfied: prompt-toolkit!=3.0.0,!=3.0.1,<3.1.0,>=2.0.0 in c:\\users\\achyut sharma\\anaconda3\\lib\\site-packages (from ipython->ipython-sql) (3.0.20)\n",
      "Requirement already satisfied: backcall in c:\\users\\achyut sharma\\anaconda3\\lib\\site-packages (from ipython->ipython-sql) (0.2.0)\n",
      "Requirement already satisfied: matplotlib-inline in c:\\users\\achyut sharma\\anaconda3\\lib\\site-packages (from ipython->ipython-sql) (0.1.6)\n",
      "Requirement already satisfied: traitlets>=4.2 in c:\\users\\achyut sharma\\anaconda3\\lib\\site-packages (from ipython->ipython-sql) (5.1.1)\n",
      "Requirement already satisfied: wcwidth in c:\\users\\achyut sharma\\anaconda3\\lib\\site-packages (from prettytable->ipython-sql) (0.2.5)\n",
      "Requirement already satisfied: parso<0.9.0,>=0.8.0 in c:\\users\\achyut sharma\\anaconda3\\lib\\site-packages (from jedi>=0.16->ipython->ipython-sql) (0.8.3)\n"
     ]
    }
   ],
   "source": [
    "!pip install ipython-sql\n"
   ]
  },
  {
   "cell_type": "code",
   "execution_count": 26,
   "id": "ccfab790",
   "metadata": {},
   "outputs": [
    {
     "name": "stdout",
     "output_type": "stream",
     "text": [
      "The sql extension is already loaded. To reload it, use:\n",
      "  %reload_ext sql\n"
     ]
    }
   ],
   "source": [
    "%load_ext sql"
   ]
  },
  {
   "cell_type": "code",
   "execution_count": 28,
   "id": "e61adf2d",
   "metadata": {},
   "outputs": [],
   "source": [
    "%sql sqlite://\n"
   ]
  },
  {
   "cell_type": "code",
   "execution_count": 30,
   "id": "2c16ab78",
   "metadata": {},
   "outputs": [
    {
     "data": {
      "text/html": [
       "<span style=\"None\">Running query in &#x27;sqlite://&#x27;</span>"
      ],
      "text/plain": [
       "Running query in 'sqlite://'"
      ]
     },
     "metadata": {},
     "output_type": "display_data"
    },
    {
     "data": {
      "text/html": [
       "<table>\n",
       "    <thead>\n",
       "        <tr>\n",
       "        </tr>\n",
       "    </thead>\n",
       "    <tbody>\n",
       "    </tbody>\n",
       "</table>\n",
       "<span style='font-style:italic;font-size:11px'><code>ResultSet</code> : to convert to pandas, call <a href='https://jupysql.ploomber.io/en/latest/integrations/pandas.html'><code>.DataFrame()</code></a> or to polars, call <a href='https://jupysql.ploomber.io/en/latest/integrations/polars.html'><code>.PolarsDataFrame()</code></a></span><br>"
      ],
      "text/plain": [
       "++\n",
       "||\n",
       "++\n",
       "++"
      ]
     },
     "execution_count": 30,
     "metadata": {},
     "output_type": "execute_result"
    }
   ],
   "source": [
    "%%sql\n",
    "CREATE TABLE Depatments(\n",
    "dept_id int,\n",
    "dept_name varchar(60)\n",
    ");\n",
    "\n",
    "insert into Departments values ()"
   ]
  },
  {
   "cell_type": "code",
   "execution_count": 31,
   "id": "1019518e",
   "metadata": {},
   "outputs": [
    {
     "data": {
      "text/html": [
       "<span style=\"None\">Running query in &#x27;sqlite://&#x27;</span>"
      ],
      "text/plain": [
       "Running query in 'sqlite://'"
      ]
     },
     "metadata": {},
     "output_type": "display_data"
    },
    {
     "data": {
      "text/html": [
       "<span style=\"None\">(sqlite3.OperationalError) no such table: Departments\n",
       "[SQL: SELECT * from Departments;]\n",
       "(Background on this error at: https://sqlalche.me/e/20/e3q8)</span>"
      ],
      "text/plain": [
       "(sqlite3.OperationalError) no such table: Departments\n",
       "[SQL: SELECT * from Departments;]\n",
       "(Background on this error at: https://sqlalche.me/e/20/e3q8)"
      ]
     },
     "metadata": {},
     "output_type": "display_data"
    }
   ],
   "source": [
    "%sql SELECT * from Departments;"
   ]
  },
  {
   "cell_type": "code",
   "execution_count": 21,
   "id": "7d75914f",
   "metadata": {},
   "outputs": [
    {
     "data": {
      "text/html": [
       "<span style=\"None\">Running query in &#x27;sqlite://&#x27;</span>"
      ],
      "text/plain": [
       "Running query in 'sqlite://'"
      ]
     },
     "metadata": {},
     "output_type": "display_data"
    },
    {
     "data": {
      "text/html": [
       "<span style=\"None\">(sqlite3.OperationalError) no such table: Department_1\n",
       "[SQL: SELECT * from Department_1;]\n",
       "(Background on this error at: https://sqlalche.me/e/20/e3q8)</span>"
      ],
      "text/plain": [
       "(sqlite3.OperationalError) no such table: Department_1\n",
       "[SQL: SELECT * from Department_1;]\n",
       "(Background on this error at: https://sqlalche.me/e/20/e3q8)"
      ]
     },
     "metadata": {},
     "output_type": "display_data"
    }
   ],
   "source": [
    "%sql SELECT * from Department_1;"
   ]
  },
  {
   "cell_type": "code",
   "execution_count": 4,
   "id": "bd71e551",
   "metadata": {},
   "outputs": [
    {
     "name": "stderr",
     "output_type": "stream",
     "text": [
      "UsageError: Cell magic `%%sql` not found.\n"
     ]
    }
   ],
   "source": [
    "%%sql\n",
    "CREATE TABLE Employees(\n",
    "Emp_no int,\n",
    "Emp_name varchar(100),\n",
    "Job varchar(50),\n",
    "Dept_id int);\n"
   ]
  },
  {
   "cell_type": "code",
   "execution_count": 7,
   "id": "28e0e0f1",
   "metadata": {},
   "outputs": [
    {
     "name": "stderr",
     "output_type": "stream",
     "text": [
      "UsageError: Cell magic `%%sql` not found.\n"
     ]
    }
   ],
   "source": [
    "%%sql  sqlite:// \n",
    "SELECT * FROM Employees; "
   ]
  },
  {
   "cell_type": "code",
   "execution_count": null,
   "id": "23b718d3",
   "metadata": {},
   "outputs": [],
   "source": []
  }
 ],
 "metadata": {
  "kernelspec": {
   "display_name": "Python 3 (ipykernel)",
   "language": "python",
   "name": "python3"
  },
  "language_info": {
   "codemirror_mode": {
    "name": "ipython",
    "version": 3
   },
   "file_extension": ".py",
   "mimetype": "text/x-python",
   "name": "python",
   "nbconvert_exporter": "python",
   "pygments_lexer": "ipython3",
   "version": "3.9.13"
  }
 },
 "nbformat": 4,
 "nbformat_minor": 5
}
