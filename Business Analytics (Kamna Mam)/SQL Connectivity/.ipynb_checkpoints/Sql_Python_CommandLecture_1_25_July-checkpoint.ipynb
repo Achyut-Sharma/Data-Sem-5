{
 "cells": [
  {
   "cell_type": "code",
   "execution_count": 1,
   "id": "e0b67fbf",
   "metadata": {},
   "outputs": [],
   "source": [
    "# import pandas\n",
    "import pandas as pd\n",
    "import sqlite3"
   ]
  },
  {
   "cell_type": "code",
   "execution_count": 3,
   "id": "a6b62976",
   "metadata": {},
   "outputs": [
    {
     "name": "stdout",
     "output_type": "stream",
     "text": [
      "Requirement already satisfied: ipython-sql in c:\\users\\achyut sharma\\anaconda3\\lib\\site-packages (0.5.0)\n",
      "Requirement already satisfied: six in c:\\users\\achyut sharma\\anaconda3\\lib\\site-packages (from ipython-sql) (1.16.0)\n",
      "Requirement already satisfied: prettytable in c:\\users\\achyut sharma\\anaconda3\\lib\\site-packages (from ipython-sql) (3.8.0)\n",
      "Requirement already satisfied: sqlalchemy>=2.0 in c:\\users\\achyut sharma\\anaconda3\\lib\\site-packages (from ipython-sql) (2.0.19)\n",
      "Requirement already satisfied: ipython in c:\\users\\achyut sharma\\anaconda3\\lib\\site-packages (from ipython-sql) (7.31.1)\n",
      "Requirement already satisfied: sqlparse in c:\\users\\achyut sharma\\anaconda3\\lib\\site-packages (from ipython-sql) (0.4.4)\n",
      "Requirement already satisfied: ipython-genutils in c:\\users\\achyut sharma\\anaconda3\\lib\\site-packages (from ipython-sql) (0.2.0)\n",
      "Requirement already satisfied: typing-extensions>=4.2.0 in c:\\users\\achyut sharma\\anaconda3\\lib\\site-packages (from sqlalchemy>=2.0->ipython-sql) (4.3.0)\n",
      "Requirement already satisfied: greenlet!=0.4.17 in c:\\users\\achyut sharma\\anaconda3\\lib\\site-packages (from sqlalchemy>=2.0->ipython-sql) (1.1.1)\n",
      "Requirement already satisfied: traitlets>=4.2 in c:\\users\\achyut sharma\\anaconda3\\lib\\site-packages (from ipython->ipython-sql) (5.1.1)\n",
      "Requirement already satisfied: pickleshare in c:\\users\\achyut sharma\\anaconda3\\lib\\site-packages (from ipython->ipython-sql) (0.7.5)\n",
      "Requirement already satisfied: prompt-toolkit!=3.0.0,!=3.0.1,<3.1.0,>=2.0.0 in c:\\users\\achyut sharma\\anaconda3\\lib\\site-packages (from ipython->ipython-sql) (3.0.20)\n",
      "Requirement already satisfied: setuptools>=18.5 in c:\\users\\achyut sharma\\anaconda3\\lib\\site-packages (from ipython->ipython-sql) (63.4.1)\n",
      "Requirement already satisfied: decorator in c:\\users\\achyut sharma\\anaconda3\\lib\\site-packages (from ipython->ipython-sql) (5.1.1)\n",
      "Requirement already satisfied: jedi>=0.16 in c:\\users\\achyut sharma\\anaconda3\\lib\\site-packages (from ipython->ipython-sql) (0.18.1)\n",
      "Requirement already satisfied: matplotlib-inline in c:\\users\\achyut sharma\\anaconda3\\lib\\site-packages (from ipython->ipython-sql) (0.1.6)\n",
      "Requirement already satisfied: colorama in c:\\users\\achyut sharma\\anaconda3\\lib\\site-packages (from ipython->ipython-sql) (0.4.5)\n",
      "Requirement already satisfied: backcall in c:\\users\\achyut sharma\\anaconda3\\lib\\site-packages (from ipython->ipython-sql) (0.2.0)\n",
      "Requirement already satisfied: pygments in c:\\users\\achyut sharma\\anaconda3\\lib\\site-packages (from ipython->ipython-sql) (2.11.2)\n",
      "Requirement already satisfied: wcwidth in c:\\users\\achyut sharma\\anaconda3\\lib\\site-packages (from prettytable->ipython-sql) (0.2.5)\n",
      "Requirement already satisfied: parso<0.9.0,>=0.8.0 in c:\\users\\achyut sharma\\anaconda3\\lib\\site-packages (from jedi>=0.16->ipython->ipython-sql) (0.8.3)\n"
     ]
    }
   ],
   "source": [
    "# insatll the i-python-sql library\n",
    "!pip install ipython-sql\n",
    "# \"!\" used to check if it is already installed so it ignores that install command otherwise installs ."
   ]
  },
  {
   "cell_type": "code",
   "execution_count": 13,
   "id": "9699a6a3",
   "metadata": {},
   "outputs": [],
   "source": [
    "# creating a schema.\n",
    "df = pd.DataFrame ({\"name\":[\"Priya\",\"ram\",\"Arzoo\",\"Mary\"],\n",
    "                   \"age\":[23,25,29,24],\n",
    "                   \"city\":[\"Ahmedabad\",\"Gandhinagar\",\"Surat\",\"Vadodara\"]})\n",
    "\n",
    "# \"DataFrame\" is used to create a database inside it without it's name."
   ]
  },
  {
   "cell_type": "code",
   "execution_count": 20,
   "id": "a67012e1",
   "metadata": {},
   "outputs": [
    {
     "data": {
      "text/html": [
       "<div>\n",
       "<style scoped>\n",
       "    .dataframe tbody tr th:only-of-type {\n",
       "        vertical-align: middle;\n",
       "    }\n",
       "\n",
       "    .dataframe tbody tr th {\n",
       "        vertical-align: top;\n",
       "    }\n",
       "\n",
       "    .dataframe thead th {\n",
       "        text-align: right;\n",
       "    }\n",
       "</style>\n",
       "<table border=\"1\" class=\"dataframe\">\n",
       "  <thead>\n",
       "    <tr style=\"text-align: right;\">\n",
       "      <th></th>\n",
       "      <th>name</th>\n",
       "      <th>age</th>\n",
       "      <th>city</th>\n",
       "    </tr>\n",
       "  </thead>\n",
       "  <tbody>\n",
       "    <tr>\n",
       "      <th>0</th>\n",
       "      <td>Priya</td>\n",
       "      <td>23</td>\n",
       "      <td>Ahmedabad</td>\n",
       "    </tr>\n",
       "    <tr>\n",
       "      <th>1</th>\n",
       "      <td>ram</td>\n",
       "      <td>25</td>\n",
       "      <td>Gandhinagar</td>\n",
       "    </tr>\n",
       "    <tr>\n",
       "      <th>2</th>\n",
       "      <td>Arzoo</td>\n",
       "      <td>29</td>\n",
       "      <td>Surat</td>\n",
       "    </tr>\n",
       "    <tr>\n",
       "      <th>3</th>\n",
       "      <td>Mary</td>\n",
       "      <td>24</td>\n",
       "      <td>Vadodara</td>\n",
       "    </tr>\n",
       "  </tbody>\n",
       "</table>\n",
       "</div>"
      ],
      "text/plain": [
       "    name  age         city\n",
       "0  Priya   23    Ahmedabad\n",
       "1    ram   25  Gandhinagar\n",
       "2  Arzoo   29        Surat\n",
       "3   Mary   24     Vadodara"
      ]
     },
     "execution_count": 20,
     "metadata": {},
     "output_type": "execute_result"
    }
   ],
   "source": [
    "df"
   ]
  },
  {
   "cell_type": "code",
   "execution_count": 21,
   "id": "b210d85a",
   "metadata": {},
   "outputs": [],
   "source": [
    "# we will sqlite3 library and now we can create a connection and name the database.\n",
    "cnn = sqlite3.connect('jupyter_sql_lecture_1_25_July.db')"
   ]
  },
  {
   "cell_type": "code",
   "execution_count": 24,
   "id": "19cc9fd8",
   "metadata": {},
   "outputs": [],
   "source": [
    "# here above it shows the count of attributes of table (values of table)."
   ]
  },
  {
   "cell_type": "code",
   "execution_count": 23,
   "id": "5263f448",
   "metadata": {},
   "outputs": [
    {
     "data": {
      "text/plain": [
       "4"
      ]
     },
     "execution_count": 23,
     "metadata": {},
     "output_type": "execute_result"
    }
   ],
   "source": [
    "# now we can give name of the table that we created previously and \n",
    "df.to_sql('Students',cnn)"
   ]
  },
  {
   "cell_type": "code",
   "execution_count": 25,
   "id": "986cf9fd",
   "metadata": {},
   "outputs": [],
   "source": [
    "#load the sql module to ipython-magic module\n",
    "%load_ext sql"
   ]
  },
  {
   "cell_type": "code",
   "execution_count": 26,
   "id": "c3117c13",
   "metadata": {},
   "outputs": [],
   "source": [
    "## calling the database my this method.\n",
    "%sql sqlite:///jupyter_sql_lecture_1_25_July.db"
   ]
  },
  {
   "cell_type": "code",
   "execution_count": 28,
   "id": "2badacd8",
   "metadata": {},
   "outputs": [],
   "source": [
    "## Here \"%%\" is used to get or use the Table in Sql."
   ]
  },
  {
   "cell_type": "code",
   "execution_count": 27,
   "id": "f73bde62",
   "metadata": {},
   "outputs": [
    {
     "name": "stdout",
     "output_type": "stream",
     "text": [
      " * sqlite:///jupyter_sql_lecture_1_25_July.db\n",
      "Done.\n"
     ]
    },
    {
     "data": {
      "text/html": [
       "<table>\n",
       "    <thead>\n",
       "        <tr>\n",
       "            <th>index</th>\n",
       "            <th>name</th>\n",
       "            <th>age</th>\n",
       "            <th>city</th>\n",
       "        </tr>\n",
       "    </thead>\n",
       "    <tbody>\n",
       "        <tr>\n",
       "            <td>0</td>\n",
       "            <td>Priya</td>\n",
       "            <td>23</td>\n",
       "            <td>Ahmedabad</td>\n",
       "        </tr>\n",
       "        <tr>\n",
       "            <td>1</td>\n",
       "            <td>ram</td>\n",
       "            <td>25</td>\n",
       "            <td>Gandhinagar</td>\n",
       "        </tr>\n",
       "        <tr>\n",
       "            <td>2</td>\n",
       "            <td>Arzoo</td>\n",
       "            <td>29</td>\n",
       "            <td>Surat</td>\n",
       "        </tr>\n",
       "        <tr>\n",
       "            <td>3</td>\n",
       "            <td>Mary</td>\n",
       "            <td>24</td>\n",
       "            <td>Vadodara</td>\n",
       "        </tr>\n",
       "    </tbody>\n",
       "</table>"
      ],
      "text/plain": [
       "[(0, 'Priya', 23, 'Ahmedabad'),\n",
       " (1, 'ram', 25, 'Gandhinagar'),\n",
       " (2, 'Arzoo', 29, 'Surat'),\n",
       " (3, 'Mary', 24, 'Vadodara')]"
      ]
     },
     "execution_count": 27,
     "metadata": {},
     "output_type": "execute_result"
    }
   ],
   "source": [
    "%%sql \n",
    "\n",
    "SELECT * FROM Students"
   ]
  },
  {
   "cell_type": "code",
   "execution_count": 29,
   "id": "33ee0a2a",
   "metadata": {},
   "outputs": [
    {
     "name": "stdout",
     "output_type": "stream",
     "text": [
      " * sqlite:///jupyter_sql_lecture_1_25_July.db\n",
      "Done.\n"
     ]
    },
    {
     "data": {
      "text/html": [
       "<table>\n",
       "    <thead>\n",
       "        <tr>\n",
       "            <th>index</th>\n",
       "            <th>name</th>\n",
       "            <th>age</th>\n",
       "            <th>city</th>\n",
       "        </tr>\n",
       "    </thead>\n",
       "    <tbody>\n",
       "        <tr>\n",
       "            <td>0</td>\n",
       "            <td>Priya</td>\n",
       "            <td>23</td>\n",
       "            <td>Ahmedabad</td>\n",
       "        </tr>\n",
       "    </tbody>\n",
       "</table>"
      ],
      "text/plain": [
       "[(0, 'Priya', 23, 'Ahmedabad')]"
      ]
     },
     "execution_count": 29,
     "metadata": {},
     "output_type": "execute_result"
    }
   ],
   "source": [
    "%%sql\n",
    "\n",
    "SELECT * FROM Students WHERE name = \"Priya\""
   ]
  },
  {
   "cell_type": "code",
   "execution_count": 1,
   "id": "5dfbf455",
   "metadata": {},
   "outputs": [],
   "source": [
    "##THE END FOR TODAY."
   ]
  },
  {
   "cell_type": "code",
   "execution_count": null,
   "id": "04d55d28",
   "metadata": {},
   "outputs": [],
   "source": []
  }
 ],
 "metadata": {
  "kernelspec": {
   "display_name": "Python 3 (ipykernel)",
   "language": "python",
   "name": "python3"
  },
  "language_info": {
   "codemirror_mode": {
    "name": "ipython",
    "version": 3
   },
   "file_extension": ".py",
   "mimetype": "text/x-python",
   "name": "python",
   "nbconvert_exporter": "python",
   "pygments_lexer": "ipython3",
   "version": "3.9.13"
  }
 },
 "nbformat": 4,
 "nbformat_minor": 5
}
