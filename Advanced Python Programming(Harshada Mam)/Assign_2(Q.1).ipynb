{
 "cells": [
  {
   "cell_type": "code",
   "execution_count": 1,
   "id": "6b74e84e",
   "metadata": {},
   "outputs": [
    {
     "name": "stdout",
     "output_type": "stream",
     "text": [
      "Before promotion:\n",
      "Name: John\n",
      "Age: 15\n",
      "Grade: 9\n",
      "After promotion:\n",
      "Name: John\n",
      "Age: 15\n",
      "Grade: 10\n"
     ]
    }
   ],
   "source": [
    "class Student:\n",
    "    def __init__(self, name, age, grade):\n",
    "        self.name = name\n",
    "        self.age = age\n",
    "        self.grade = grade\n",
    "\n",
    "    def display_info(self):\n",
    "        print(\"Name:\", self.name)\n",
    "        print(\"Age:\", self.age)\n",
    "        print(\"Grade:\", self.grade)\n",
    "\n",
    "    def promote(self):\n",
    "        self.grade += 1\n",
    "\n",
    "# Create an instance of the Student class\n",
    "student = Student(\"John\", 15, 9)\n",
    "\n",
    "# Display the student's information\n",
    "print(\"Before promotion:\")\n",
    "student.display_info()\n",
    "\n",
    "# Promote the student\n",
    "student.promote()\n",
    "\n",
    "# Display the updated student's information\n",
    "print(\"After promotion:\")\n",
    "student.display_info()\n"
   ]
  },
  {
   "cell_type": "code",
   "execution_count": null,
   "id": "22421272",
   "metadata": {},
   "outputs": [],
   "source": []
  }
 ],
 "metadata": {
  "kernelspec": {
   "display_name": "Python 3 (ipykernel)",
   "language": "python",
   "name": "python3"
  },
  "language_info": {
   "codemirror_mode": {
    "name": "ipython",
    "version": 3
   },
   "file_extension": ".py",
   "mimetype": "text/x-python",
   "name": "python",
   "nbconvert_exporter": "python",
   "pygments_lexer": "ipython3",
   "version": "3.9.13"
  }
 },
 "nbformat": 4,
 "nbformat_minor": 5
}
