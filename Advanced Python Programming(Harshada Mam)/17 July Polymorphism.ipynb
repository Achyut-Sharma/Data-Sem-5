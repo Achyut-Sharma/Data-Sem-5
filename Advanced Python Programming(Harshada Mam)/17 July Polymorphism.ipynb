{
 "cells": [
  {
   "cell_type": "markdown",
   "id": "143d22c5",
   "metadata": {},
   "source": [
    "## 15 July \n",
    "\n",
    "## Polymorphism Python achieves it through method overiding and method overloading."
   ]
  },
  {
   "cell_type": "markdown",
   "id": "024c07f0",
   "metadata": {},
   "source": [
    "# 1. Method Overriding:-\n",
    "### It occurs when a subclass defines a method that is already present in its superclass."
   ]
  },
  {
   "cell_type": "code",
   "execution_count": 1,
   "id": "7fd2bd4f",
   "metadata": {},
   "outputs": [
    {
     "name": "stdout",
     "output_type": "stream",
     "text": [
      "Maharashtra Having 1576 Number of Pincode\n",
      "Gujarat Having 1018 Number of pincode\n",
      "State having PinCode\n"
     ]
    }
   ],
   "source": [
    "class State:\n",
    "    def pincode(self):\n",
    "        print(\"State having PinCode\")\n",
    "class Maharashtra(State):\n",
    "    def pincode(self):\n",
    "        print(\"Maharashtra Having 1576 Number of Pincode\")\n",
    "class Gujarat(State):\n",
    "    def pincode(self):\n",
    "        print(\"Gujarat Having 1018 Number of pincode\")\n",
    "MH = Maharashtra()\n",
    "MH.pincode()\n",
    "\n",
    "GU = Gujarat()\n",
    "GU.pincode()\n",
    "\n",
    "St = State()\n",
    "St.pincode()"
   ]
  },
  {
   "cell_type": "code",
   "execution_count": 2,
   "id": "90ef4eed",
   "metadata": {},
   "outputs": [],
   "source": [
    "## Here in above program we will get output of those class whose object is created and method is called\n",
    "## not the one which is not called ."
   ]
  },
  {
   "cell_type": "markdown",
   "id": "805ef023",
   "metadata": {},
   "source": [
    "## 2 Method Overloading:-\n",
    "\n",
    "## Python doesn't support method overloading in traditional sense,where multiple methods with the same name but different parameters are defined in a clas. However you can achieve similar functionality by using default parameters values or using *args and **kwargs to habdle arguments."
   ]
  },
  {
   "cell_type": "code",
   "execution_count": 3,
   "id": "8080a76f",
   "metadata": {},
   "outputs": [
    {
     "data": {
      "text/plain": [
       "'The animal Dog which age is 12 and say woof '"
      ]
     },
     "execution_count": 3,
     "metadata": {},
     "output_type": "execute_result"
    }
   ],
   "source": [
    "class Information: #getdata method not supporting overloading.\n",
    "    def getdata(self,name,species):\n",
    "        self.name = name\n",
    "        self.species = species\n",
    "        \n",
    "    def getdata(self,name,species,age):\n",
    "        self.name = name\n",
    "        self.species = species\n",
    "        self.age = age\n",
    "    def make_sound(self,sound):\n",
    "        return \"The animal {} which age is {} and say {} \".format(self.name,self.age,sound)\n",
    "    \n",
    "i1 = Information()\n",
    "i1.getdata(\"Dog\",\"mammal\",12)\n",
    "i1.make_sound('woof')"
   ]
  },
  {
   "cell_type": "code",
   "execution_count": 4,
   "id": "d05b5332",
   "metadata": {},
   "outputs": [
    {
     "name": "stdout",
     "output_type": "stream",
     "text": [
      "The Animal is dog and say woof\n",
      "Age of Dog is 12\n"
     ]
    }
   ],
   "source": [
    "# Positional Argument:-\n",
    "\n",
    "class Information:\n",
    "    def getdata(self,*args): # use of positional args\n",
    "        if len(args) == 1:\n",
    "            self.name = args[0]\n",
    "            \n",
    "        elif len(args) == 2:\n",
    "            self.name = args[0]\n",
    "            self.species= args[1]\n",
    "            \n",
    "        elif len(args) == 3:\n",
    "            self.name = args[0]\n",
    "            self.species = args[1]\n",
    "            self.age = args[2]\n",
    "            \n",
    "    def make_sound(self,sound):\n",
    "            print(\"The Animal is {} and say {}\".format(self.name,sound))\n",
    "i1 = Information()\n",
    "i1.getdata(\"dog\",\"mammal\",12)\n",
    "\n",
    "i1.make_sound(\"woof\")\n",
    "\n",
    "print(f\"Age of Dog is {i1.age}\")"
   ]
  },
  {
   "cell_type": "code",
   "execution_count": null,
   "id": "2dc80fc8",
   "metadata": {},
   "outputs": [],
   "source": []
  }
 ],
 "metadata": {
  "kernelspec": {
   "display_name": "Python 3 (ipykernel)",
   "language": "python",
   "name": "python3"
  },
  "language_info": {
   "codemirror_mode": {
    "name": "ipython",
    "version": 3
   },
   "file_extension": ".py",
   "mimetype": "text/x-python",
   "name": "python",
   "nbconvert_exporter": "python",
   "pygments_lexer": "ipython3",
   "version": "3.9.13"
  }
 },
 "nbformat": 4,
 "nbformat_minor": 5
}
