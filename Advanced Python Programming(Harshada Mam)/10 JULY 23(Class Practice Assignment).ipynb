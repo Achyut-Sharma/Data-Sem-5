{
 "cells": [
  {
   "cell_type": "markdown",
   "id": "d8f71dc7",
   "metadata": {},
   "source": [
    "Assignment On Class and Object\n",
    "\n",
    "Assignment 1: Create A student Managemenet System\n",
    "\n",
    "You are tasked with creating a student management system using class and object .\n",
    "the system should be able to store and manage info about students.\n",
    "\n",
    "\n",
    "Requirements:-\n",
    "1.Create class named Student with following attributes.\n",
    "-> name(string) : to store tudent's name.\n",
    "->age(int):to store student's age.\n",
    "->grade(int): \n",
    "    "
   ]
  },
  {
   "cell_type": "code",
   "execution_count": 4,
   "id": "6c7fab8f",
   "metadata": {},
   "outputs": [
    {
     "name": "stdout",
     "output_type": "stream",
     "text": [
      "Name ABC\n",
      "Age 15\n",
      "Grade 6\n",
      "Name ABC\n",
      "Age 15\n",
      "Grade 7\n"
     ]
    }
   ],
   "source": [
    "'Assignment:- 1'\n",
    "\n",
    "class Student:\n",
    "    def __init__(self,name,age,grade):\n",
    "        self.Name = name\n",
    "        self.Age = age\n",
    "        self.Grade = grade\n",
    "    def display_info(self):\n",
    "        print(\"Name\",self.Name)\n",
    "        print(\"Age\",self.Age)\n",
    "        print(\"Grade\",self.Grade)\n",
    "    def promote(self):\n",
    "            self.Grade +=1\n",
    "s1 = Student(\"ABC\",15,6)\n",
    "s1.display_info()\n",
    "s1.promote()\n",
    "s1.display_info()\n",
    "s1.promote()"
   ]
  },
  {
   "cell_type": "code",
   "execution_count": null,
   "id": "f53dd033",
   "metadata": {},
   "outputs": [],
   "source": [
    "\"Assignment:- 2\"\n",
    "class BankAccount:\n",
    "    def __init(self,Acc_Name,Acc_Holder,Balance):\n",
    "        self.Acc_Name = account_name\n",
    "        self.Acc_Holder = account_holder\n",
    "        self."
   ]
  }
 ],
 "metadata": {
  "kernelspec": {
   "display_name": "Python 3 (ipykernel)",
   "language": "python",
   "name": "python3"
  },
  "language_info": {
   "codemirror_mode": {
    "name": "ipython",
    "version": 3
   },
   "file_extension": ".py",
   "mimetype": "text/x-python",
   "name": "python",
   "nbconvert_exporter": "python",
   "pygments_lexer": "ipython3",
   "version": "3.9.13"
  }
 },
 "nbformat": 4,
 "nbformat_minor": 5
}
