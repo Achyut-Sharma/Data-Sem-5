{
 "cells": [
  {
   "cell_type": "markdown",
   "id": "d4ecdab4",
   "metadata": {},
   "source": [
    "# Assignment :- 1"
   ]
  },
  {
   "cell_type": "markdown",
   "id": "859b2b78",
   "metadata": {},
   "source": [
    "## Question :-2"
   ]
  },
  {
   "cell_type": "code",
   "execution_count": 1,
   "id": "1a9084b4",
   "metadata": {},
   "outputs": [
    {
     "name": "stdout",
     "output_type": "stream",
     "text": [
      "0\n",
      "1\n",
      "Player\n",
      "100\n",
      "2\n",
      "Alice\n",
      "0\n",
      "1\n",
      "Player\n"
     ]
    }
   ],
   "source": [
    "class Game:\n",
    "    score = 0\n",
    "    level = 1\n",
    "    player_name = \"Player\"\n",
    "\n",
    "    @classmethod\n",
    "    def __init__(cls):\n",
    "        cls.score = 0\n",
    "        cls.level = 1\n",
    "        cls.player_name = \"Player\"\n",
    "\n",
    "# Accessing class variables\n",
    "print(Game.score)           # Output: 0\n",
    "print(Game.level)           # Output: 1\n",
    "print(Game.player_name)     # Output: Player\n",
    "\n",
    "# Creating instances of the Game class\n",
    "game1 = Game()\n",
    "game2 = Game()\n",
    "\n",
    "# Modifying class variables through instances\n",
    "game1.score = 100\n",
    "game1.level = 2\n",
    "game1.player_name = \"Alice\"\n",
    "\n",
    "# Accessing class variables through instances\n",
    "print(game1.score)          # Output: 100\n",
    "print(game1.level)          # Output: 2\n",
    "print(game1.player_name)    # Output: Alice\n",
    "\n",
    "# Accessing class variables directly\n",
    "print(game2.score)          # Output: 0\n",
    "print(game2.level)          # Output: 1\n",
    "print(game2.player_name)    # Output: Player\n"
   ]
  },
  {
   "cell_type": "code",
   "execution_count": null,
   "id": "40807704",
   "metadata": {},
   "outputs": [],
   "source": []
  }
 ],
 "metadata": {
  "kernelspec": {
   "display_name": "Python 3 (ipykernel)",
   "language": "python",
   "name": "python3"
  },
  "language_info": {
   "codemirror_mode": {
    "name": "ipython",
    "version": 3
   },
   "file_extension": ".py",
   "mimetype": "text/x-python",
   "name": "python",
   "nbconvert_exporter": "python",
   "pygments_lexer": "ipython3",
   "version": "3.9.13"
  }
 },
 "nbformat": 4,
 "nbformat_minor": 5
}
