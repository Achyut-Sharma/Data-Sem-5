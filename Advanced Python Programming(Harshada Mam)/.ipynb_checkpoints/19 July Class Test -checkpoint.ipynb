{
 "cells": [
  {
   "cell_type": "markdown",
   "id": "69d966e6",
   "metadata": {},
   "source": [
    "# Class Test"
   ]
  },
  {
   "cell_type": "code",
   "execution_count": 26,
   "id": "b8ff49f3",
   "metadata": {},
   "outputs": [
    {
     "ename": "IndentationError",
     "evalue": "expected an indented block (863665033.py, line 4)",
     "output_type": "error",
     "traceback": [
      "\u001b[1;36m  File \u001b[1;32m\"C:\\Users\\Achyut Sharma\\AppData\\Local\\Temp\\ipykernel_17044\\863665033.py\"\u001b[1;36m, line \u001b[1;32m4\u001b[0m\n\u001b[1;33m    self.name = name\u001b[0m\n\u001b[1;37m    ^\u001b[0m\n\u001b[1;31mIndentationError\u001b[0m\u001b[1;31m:\u001b[0m expected an indented block\n"
     ]
    }
   ],
   "source": [
    "class Employee:\n",
    "    def __init__(self,name,id):\n",
    "        \n",
    "    self.name = name\n",
    "    self.id = id\n",
    "    \n",
    "    def display_info(name,id):\n",
    "        \n",
    "e1 = Employee(\"ABC\",101)\n",
    "e1.display_info()"
   ]
  },
  {
   "cell_type": "code",
   "execution_count": null,
   "id": "1782db2c",
   "metadata": {},
   "outputs": [],
   "source": [
    "class Department(Employee):\n",
    "    def __init__(self,dept_name,dept_id):\n",
    "    super()__(self.name,self.id) \n",
    "        self.dept_name = dept_name\n",
    "        self.dept_id = dept_id\n",
    "    def dept_info(dept_name,dept_id): \n",
    "        \n",
    "        \n",
    "class Company(Employee,Department):\n",
    "    def __init__(self,cmp_name,cmp_desg):\n",
    "        super()__(self,name,id,dept_name,dept_id)\n",
    "        self.cmp_name = cmp_name\n",
    "        self.cmp_desg = cmp_desg\n",
    "        \n",
    "    def cmp_info(cmp_name,cmp_desg):\n",
    "        \n",
    "c1 = Company(\"TCS\",\"H.R.\")\n",
    "c1.cmp_info()\n",
    "\n",
    "d1 = Department(\"Admin\",201)\n",
    "d1.dept_info()\n",
    "\n",
    "e2 = Employee(\"DEF\",102)\n",
    "e2.display_info()\n"
   ]
  },
  {
   "cell_type": "code",
   "execution_count": null,
   "id": "56cd7fcc",
   "metadata": {},
   "outputs": [],
   "source": [
    "class Employee:\n",
    "    def __init__(self,name,id):\n",
    "        self.name = name\n",
    "        self.id = id\n",
    "        \n",
    "    def dis_info(name,id):\n",
    "e3 = Employee(\"hij\",103)\n",
    "e3.dis_info()\n",
    "\n",
    "class Dept(Employee):\n",
    "    def __init__(self,name,id):\n",
    "        self.name = name\n",
    "        self.id = id\n",
    "        \n",
    "    def dip_info(name,id):\n",
    "        \n",
    "d3 = Dept(\"klm\",104)\n",
    "d3.dip_info()"
   ]
  }
 ],
 "metadata": {
  "kernelspec": {
   "display_name": "Python 3 (ipykernel)",
   "language": "python",
   "name": "python3"
  },
  "language_info": {
   "codemirror_mode": {
    "name": "ipython",
    "version": 3
   },
   "file_extension": ".py",
   "mimetype": "text/x-python",
   "name": "python",
   "nbconvert_exporter": "python",
   "pygments_lexer": "ipython3",
   "version": "3.9.13"
  }
 },
 "nbformat": 4,
 "nbformat_minor": 5
}
