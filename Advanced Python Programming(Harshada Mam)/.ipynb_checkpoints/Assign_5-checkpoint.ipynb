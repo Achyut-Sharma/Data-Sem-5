{
 "cells": [
  {
   "cell_type": "code",
   "execution_count": 1,
   "id": "422f20c3",
   "metadata": {},
   "outputs": [
    {
     "name": "stdout",
     "output_type": "stream",
     "text": [
      "Rectangle Area: 50\n",
      "Circle Area: 153.93804002589985\n",
      "Triangle Area: 48.0\n"
     ]
    }
   ],
   "source": [
    "# Polymorphism :-\n",
    "\n",
    "import math\n",
    "\n",
    "class Rectangle:\n",
    "    def __init__(self, length, width):\n",
    "        self.length = length\n",
    "        self.width = width\n",
    "    \n",
    "    def area(self):\n",
    "        return self.length * self.width\n",
    "\n",
    "class Circle:\n",
    "    def __init__(self, radius):\n",
    "        self.radius = radius\n",
    "    \n",
    "    def area(self):\n",
    "        return math.pi * self.radius**2\n",
    "\n",
    "class Triangle:\n",
    "    def __init__(self, base, height):\n",
    "        self.base = base\n",
    "        self.height = height\n",
    "    \n",
    "    def area(self):\n",
    "        return 0.5 * self.base * self.height\n",
    "\n",
    "# Creating instances of each class\n",
    "rectangle = Rectangle(5, 10)\n",
    "circle = Circle(7)\n",
    "triangle = Triangle(8, 12)\n",
    "\n",
    "# Demonstrate polymorphic behavior\n",
    "shapes = [rectangle, circle, triangle]\n",
    "\n",
    "for shape in shapes:\n",
    "    if isinstance(shape, Rectangle):\n",
    "        print(\"Rectangle Area:\", shape.area())\n",
    "    elif isinstance(shape, Circle):\n",
    "        print(\"Circle Area:\", shape.area())\n",
    "    elif isinstance(shape, Triangle):\n",
    "        print(\"Triangle Area:\", shape.area())\n"
   ]
  }
 ],
 "metadata": {
  "kernelspec": {
   "display_name": "Python 3 (ipykernel)",
   "language": "python",
   "name": "python3"
  },
  "language_info": {
   "codemirror_mode": {
    "name": "ipython",
    "version": 3
   },
   "file_extension": ".py",
   "mimetype": "text/x-python",
   "name": "python",
   "nbconvert_exporter": "python",
   "pygments_lexer": "ipython3",
   "version": "3.9.13"
  }
 },
 "nbformat": 4,
 "nbformat_minor": 5
}
