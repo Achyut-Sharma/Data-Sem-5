{
 "cells": [
  {
   "cell_type": "code",
   "execution_count": 1,
   "id": "c1744a28",
   "metadata": {},
   "outputs": [
    {
     "name": "stdout",
     "output_type": "stream",
     "text": [
      "Before deposit:\n",
      "Account Number: 123456789\n",
      "Account Holder: John Doe\n",
      "Balance: 0.0\n",
      "After deposit:\n",
      "Account Number: 123456789\n",
      "Account Holder: John Doe\n",
      "Balance: 1000.0\n"
     ]
    }
   ],
   "source": [
    "class BankAccount:\n",
    "    def __init__(self, account_number, account_holder, balance=0.0):\n",
    "        self.account_number = account_number\n",
    "        self.account_holder = account_holder\n",
    "        self.balance = balance\n",
    "\n",
    "    def display_account_info(self):\n",
    "        print(\"Account Number:\", self.account_number)\n",
    "        print(\"Account Holder:\", self.account_holder)\n",
    "        print(\"Balance:\", self.balance)\n",
    "\n",
    "    def deposit(self, amount):\n",
    "        self.balance += amount\n",
    "\n",
    "# Create an instance of the BankAccount class\n",
    "account = BankAccount(\"123456789\", \"John Doe\")\n",
    "\n",
    "# Display the account information\n",
    "print(\"Before deposit:\")\n",
    "account.display_account_info()\n",
    "\n",
    "# Deposit a specific amount\n",
    "amount = 1000.0\n",
    "account.deposit(amount)\n",
    "\n",
    "# Display the updated account information\n",
    "print(\"After deposit:\")\n",
    "account.display_account_info()\n"
   ]
  }
 ],
 "metadata": {
  "kernelspec": {
   "display_name": "Python 3 (ipykernel)",
   "language": "python",
   "name": "python3"
  },
  "language_info": {
   "codemirror_mode": {
    "name": "ipython",
    "version": 3
   },
   "file_extension": ".py",
   "mimetype": "text/x-python",
   "name": "python",
   "nbconvert_exporter": "python",
   "pygments_lexer": "ipython3",
   "version": "3.9.13"
  }
 },
 "nbformat": 4,
 "nbformat_minor": 5
}
