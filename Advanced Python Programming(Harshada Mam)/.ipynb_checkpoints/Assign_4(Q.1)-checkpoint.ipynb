{
 "cells": [
  {
   "cell_type": "code",
   "execution_count": 2,
   "id": "9233ef76",
   "metadata": {},
   "outputs": [
    {
     "name": "stdout",
     "output_type": "stream",
     "text": [
      "Car Details: Brand - Toyota, Color - Blue, Number of Doors - 4\n",
      "The Blue Toyota is being driven.\n"
     ]
    }
   ],
   "source": [
    "#Assignment-4\n",
    "# Q.1\n",
    "\n",
    "# Superclass\n",
    "class Vehicle:\n",
    "    def __init__(self, brand, color):\n",
    "        self.brand = brand\n",
    "        self.color = color\n",
    "\n",
    "    def drive(self):\n",
    "        print(f\"The {self.color} {self.brand} is being driven.\")\n",
    "\n",
    "# Subclass\n",
    "class Car(Vehicle):\n",
    "    def __init__(self, brand, color, num_doors):\n",
    "        super().__init__(brand, color)\n",
    "        self.num_doors = num_doors\n",
    "\n",
    "    def display_info(self):\n",
    "        print(f\"Car Details: Brand - {self.brand}, Color - {self.color}, Number of Doors - {self.num_doors}\")\n",
    "\n",
    "# Creating an instance of the Car class and demonstrating inherited methods\n",
    "my_car = Car(\"Toyota\", \"Blue\", 4)\n",
    "my_car.display_info()\n",
    "my_car.drive()\n"
   ]
  }
 ],
 "metadata": {
  "kernelspec": {
   "display_name": "Python 3 (ipykernel)",
   "language": "python",
   "name": "python3"
  },
  "language_info": {
   "codemirror_mode": {
    "name": "ipython",
    "version": 3
   },
   "file_extension": ".py",
   "mimetype": "text/x-python",
   "name": "python",
   "nbconvert_exporter": "python",
   "pygments_lexer": "ipython3",
   "version": "3.9.13"
  }
 },
 "nbformat": 4,
 "nbformat_minor": 5
}
