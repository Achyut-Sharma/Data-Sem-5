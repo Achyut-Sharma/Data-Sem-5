{
 "cells": [
  {
   "cell_type": "markdown",
   "id": "d8f71dc7",
   "metadata": {},
   "source": [
    "Assignment On Class and Object\n",
    "\n",
    "Assignment 1: Create A student Managemenet System\n",
    "\n",
    "You are tasked with creating a student management system using class and object .\n",
    "the system should be able to store and manage info about students.\n",
    "\n",
    "\n",
    "Requirements:-\n",
    "1.Create class named Student with following attributes.\n",
    "-> name(string) : to store tudent's name.\n",
    "->age(int):to store student's age.\n",
    "->grade(int): \n",
    "    "
   ]
  },
  {
   "cell_type": "code",
   "execution_count": 1,
   "id": "6c7fab8f",
   "metadata": {},
   "outputs": [
    {
     "name": "stdout",
     "output_type": "stream",
     "text": [
      "Name ABC\n",
      "Age 15\n",
      "Grade 6\n",
      "Name ABC\n",
      "Age 15\n",
      "Grade 7\n"
     ]
    }
   ],
   "source": [
    "'Assignment:- 1'\n",
    "\n",
    "class Student:\n",
    "    def __init__(self,name,age,grade):\n",
    "        self.Name = name\n",
    "        self.Age = age\n",
    "        self.Grade = grade\n",
    "    def display_info(self):\n",
    "        print(\"Name\",self.Name)\n",
    "        print(\"Age\",self.Age)\n",
    "        print(\"Grade\",self.Grade)\n",
    "    def promote(self):\n",
    "            self.Grade +=1\n",
    "s1 = Student(\"ABC\",15,6)\n",
    "s1.display_info()\n",
    "s1.promote()\n",
    "s1.display_info()\n",
    "s1.promote()"
   ]
  },
  {
   "cell_type": "code",
   "execution_count": 2,
   "id": "f53dd033",
   "metadata": {},
   "outputs": [
    {
     "ename": "SyntaxError",
     "evalue": "invalid syntax (331864853.py, line 6)",
     "output_type": "error",
     "traceback": [
      "\u001b[1;36m  File \u001b[1;32m\"C:\\Users\\Achyut Sharma\\AppData\\Local\\Temp\\ipykernel_13124\\331864853.py\"\u001b[1;36m, line \u001b[1;32m6\u001b[0m\n\u001b[1;33m    self.\u001b[0m\n\u001b[1;37m         ^\u001b[0m\n\u001b[1;31mSyntaxError\u001b[0m\u001b[1;31m:\u001b[0m invalid syntax\n"
     ]
    }
   ],
   "source": [
    "\"Assignment:- 2\"\n",
    "class BankAccount:\n",
    "    def __init(self,Acc_Name,Acc_Holder,Balance):\n",
    "        self.Acc_Name = account_name\n",
    "        self.Acc_Holder = account_holder\n",
    "        self."
   ]
  },
  {
   "cell_type": "markdown",
   "id": "f8b5c912",
   "metadata": {},
   "source": [
    "## Date:- 12/July/23"
   ]
  },
  {
   "cell_type": "code",
   "execution_count": 9,
   "id": "5eac2154",
   "metadata": {},
   "outputs": [
    {
     "name": "stdout",
     "output_type": "stream",
     "text": [
      " Car brand is Toyota\n",
      " Car color is white\n",
      " number of doors in car are 4\n"
     ]
    }
   ],
   "source": [
    "class Vehicle:                      ## class \"Vehicle\" is created.\n",
    "    def __init__(self,brand,color): ## \n",
    "        self.Brand = brand\n",
    "        self.Color = color\n",
    "    def drive(self):\n",
    "        print(\"the car is driven\")\n",
    "class Car(Vehicle):\n",
    "    def __init__ (self,brand,color,num_doors):\n",
    "        super().__init__(brand,color)\n",
    "        self.Num_Doors = num_doors\n",
    "    def display_info(self):\n",
    "        print(\" Car brand is {}\\n Car color is {}\\n number of doors in car are {}\".format(self.Brand,self.Color,self.Num_Doors))\n",
    "c1 = Car(\"Toyota\",\"white\",4)\n",
    "c1.display_info()        "
   ]
  },
  {
   "cell_type": "code",
   "execution_count": null,
   "id": "6857b894",
   "metadata": {},
   "outputs": [],
   "source": []
  },
  {
   "cell_type": "code",
   "execution_count": null,
   "id": "ca49afa2",
   "metadata": {},
   "outputs": [],
   "source": []
  },
  {
   "cell_type": "code",
   "execution_count": null,
   "id": "52025536",
   "metadata": {},
   "outputs": [],
   "source": []
  }
 ],
 "metadata": {
  "kernelspec": {
   "display_name": "Python 3 (ipykernel)",
   "language": "python",
   "name": "python3"
  },
  "language_info": {
   "codemirror_mode": {
    "name": "ipython",
    "version": 3
   },
   "file_extension": ".py",
   "mimetype": "text/x-python",
   "name": "python",
   "nbconvert_exporter": "python",
   "pygments_lexer": "ipython3",
   "version": "3.9.13"
  }
 },
 "nbformat": 4,
 "nbformat_minor": 5
}
