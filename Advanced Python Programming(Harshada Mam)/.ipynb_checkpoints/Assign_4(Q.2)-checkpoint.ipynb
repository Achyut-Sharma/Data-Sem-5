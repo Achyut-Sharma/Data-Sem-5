{
 "cells": [
  {
   "cell_type": "code",
   "execution_count": 1,
   "id": "c5e9832c",
   "metadata": {},
   "outputs": [
    {
     "name": "stdout",
     "output_type": "stream",
     "text": [
      "Device: Desktop, Manufacturer: HP, Price: 800$\n",
      "Performance Score: Processor - Intel i5, RAM - 8GB\n",
      "----------------------\n",
      "Device: Laptop, Manufacturer: Dell, Price: 1200$\n",
      "Performance Score: Processor - Intel i7, RAM - 16GB\n",
      "----------------------\n",
      "Device: UltraBook, Manufacturer: Lenovo, Price: 1500$\n",
      "Performance Score: Processor - AMD Ryzen 7, RAM - 16GB\n",
      "Portability: Battery Life - 10 hours, Weight - 1.5kg\n"
     ]
    }
   ],
   "source": [
    "#Assign_4\n",
    "# Q.2\n",
    "\n",
    "# Base class\n",
    "class Device:\n",
    "    def __init__(self, name, manufacturer, price):\n",
    "        self.name = name\n",
    "        self.manufacturer = manufacturer\n",
    "        self.price = price\n",
    "\n",
    "    def display_details(self):\n",
    "        print(f\"Device: {self.name}, Manufacturer: {self.manufacturer}, Price: {self.price}$\")\n",
    "\n",
    "# Derived class from Device\n",
    "class Computer(Device):\n",
    "    def __init__(self, name, manufacturer, price, processor, ram):\n",
    "        super().__init__(name, manufacturer, price)\n",
    "        self.processor = processor\n",
    "        self.ram = ram\n",
    "\n",
    "    def performance_details(self):\n",
    "        print(f\"Performance Score: Processor - {self.processor}, RAM - {self.ram}GB\")\n",
    "\n",
    "# Derived class from Computer\n",
    "class Laptop(Computer):\n",
    "    def __init__(self, name, manufacturer, price, processor, ram, battery_life, weight):\n",
    "        super().__init__(name, manufacturer, price, processor, ram)\n",
    "        self.battery_life = battery_life\n",
    "        self.weight = weight\n",
    "\n",
    "    def display_portability(self):\n",
    "        print(f\"Portability: Battery Life - {self.battery_life} hours, Weight - {self.weight}kg\")\n",
    "\n",
    "# Creating objects and demonstrating functionality\n",
    "computer1 = Computer(\"Desktop\", \"HP\", 800, \"Intel i5\", 8)\n",
    "computer2 = Computer(\"Laptop\", \"Dell\", 1200, \"Intel i7\", 16)\n",
    "laptop1 = Laptop(\"UltraBook\", \"Lenovo\", 1500, \"AMD Ryzen 7\", 16, 10, 1.5)\n",
    "\n",
    "# Displaying details and performance of each device\n",
    "computer1.display_details()\n",
    "computer1.performance_details()\n",
    "print(\"----------------------\")\n",
    "computer2.display_details()\n",
    "computer2.performance_details()\n",
    "print(\"----------------------\")\n",
    "laptop1.display_details()\n",
    "laptop1.performance_details()\n",
    "laptop1.display_portability()\n"
   ]
  }
 ],
 "metadata": {
  "kernelspec": {
   "display_name": "Python 3 (ipykernel)",
   "language": "python",
   "name": "python3"
  },
  "language_info": {
   "codemirror_mode": {
    "name": "ipython",
    "version": 3
   },
   "file_extension": ".py",
   "mimetype": "text/x-python",
   "name": "python",
   "nbconvert_exporter": "python",
   "pygments_lexer": "ipython3",
   "version": "3.9.13"
  }
 },
 "nbformat": 4,
 "nbformat_minor": 5
}
