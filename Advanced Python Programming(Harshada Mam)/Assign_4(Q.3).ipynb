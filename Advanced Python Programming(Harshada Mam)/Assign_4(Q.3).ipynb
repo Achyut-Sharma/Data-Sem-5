{
 "cells": [
  {
   "cell_type": "code",
   "execution_count": 1,
   "id": "fb9964fe",
   "metadata": {},
   "outputs": [
    {
     "name": "stdout",
     "output_type": "stream",
     "text": [
      "Paneer Information - Name: Fresh Paneer, Price: 5$\n",
      "Butter Information - Name: Salted Butter, Price: 2$\n",
      "Manufacturing Date: 2023-07-01\n",
      "Expiry Date: 2023-12-31\n"
     ]
    }
   ],
   "source": [
    "# Assign_4 \n",
    "# Q.3\n",
    "\n",
    "# 1st superclass\n",
    "class Paneer:\n",
    "    def __init__(self):\n",
    "        self.p1_name = \"\"\n",
    "        self.p1_price = 0\n",
    "\n",
    "    def display1(self, p_name, p_price):\n",
    "        self.p1_name = p_name\n",
    "        self.p1_price = p_price\n",
    "\n",
    "# 2nd superclass\n",
    "class Butter:\n",
    "    def __init__(self):\n",
    "        self.p2_name = \"\"\n",
    "        self.p2_price = 0\n",
    "\n",
    "    def display2(self, p_name, p_price):\n",
    "        self.p2_name = p_name\n",
    "        self.p2_price = p_price\n",
    "\n",
    "# Subclass inheriting from both Paneer and Butter classes\n",
    "class Dairy_Product(Paneer, Butter):\n",
    "    def __init__(self, p1_name, p1_price, p2_name, p2_price, m_date, e_date):\n",
    "        Paneer.__init__(self)\n",
    "        Butter.__init__(self)\n",
    "        self.display1(p1_name, p1_price)\n",
    "        self.display2(p2_name, p2_price)\n",
    "        self.m_date = m_date\n",
    "        self.e_date = e_date\n",
    "\n",
    "    def p_info(self):\n",
    "        print(f\"Paneer Information - Name: {self.p1_name}, Price: {self.p1_price}$\")\n",
    "        print(f\"Butter Information - Name: {self.p2_name}, Price: {self.p2_price}$\")\n",
    "        print(f\"Manufacturing Date: {self.m_date}\")\n",
    "        print(f\"Expiry Date: {self.e_date}\")\n",
    "\n",
    "# Creating an instance of the Dairy_Product class and demonstrating multiple inheritance\n",
    "dairy_product = Dairy_Product(\"Fresh Paneer\", 5, \"Salted Butter\", 2, \"2023-07-01\", \"2023-12-31\")\n",
    "dairy_product.p_info()\n"
   ]
  }
 ],
 "metadata": {
  "kernelspec": {
   "display_name": "Python 3 (ipykernel)",
   "language": "python",
   "name": "python3"
  },
  "language_info": {
   "codemirror_mode": {
    "name": "ipython",
    "version": 3
   },
   "file_extension": ".py",
   "mimetype": "text/x-python",
   "name": "python",
   "nbconvert_exporter": "python",
   "pygments_lexer": "ipython3",
   "version": "3.9.13"
  }
 },
 "nbformat": 4,
 "nbformat_minor": 5
}
