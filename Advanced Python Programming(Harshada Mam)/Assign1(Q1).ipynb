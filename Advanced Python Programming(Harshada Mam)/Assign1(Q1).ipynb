{
 "cells": [
  {
   "cell_type": "markdown",
   "id": "8c03af13",
   "metadata": {},
   "source": [
    "# Assignment :-1 "
   ]
  },
  {
   "cell_type": "markdown",
   "id": "11af4265",
   "metadata": {},
   "source": [
    "## Question :-1"
   ]
  },
  {
   "cell_type": "code",
   "execution_count": 1,
   "id": "e03778e5",
   "metadata": {},
   "outputs": [
    {
     "name": "stdout",
     "output_type": "stream",
     "text": [
      "Default Title\n",
      "Default Author\n",
      "1900\n"
     ]
    }
   ],
   "source": [
    "class Book:\n",
    "    def __init__(self):\n",
    "        self.title = \"Default Title\"\n",
    "        self.author = \"Default Author\"\n",
    "        self.publication_year = 1900\n",
    "\n",
    "# Creating an instance of the Book class\n",
    "book = Book()\n",
    "\n",
    "# Accessing the attributes\n",
    "print(book.title)               # Output: Default Title\n",
    "print(book.author)              # Output: Default Author\n",
    "print(book.publication_year)    # Output: 1900\n"
   ]
  },
  {
   "cell_type": "code",
   "execution_count": null,
   "id": "c6efcac6",
   "metadata": {},
   "outputs": [],
   "source": []
  }
 ],
 "metadata": {
  "kernelspec": {
   "display_name": "Python 3 (ipykernel)",
   "language": "python",
   "name": "python3"
  },
  "language_info": {
   "codemirror_mode": {
    "name": "ipython",
    "version": 3
   },
   "file_extension": ".py",
   "mimetype": "text/x-python",
   "name": "python",
   "nbconvert_exporter": "python",
   "pygments_lexer": "ipython3",
   "version": "3.9.13"
  }
 },
 "nbformat": 4,
 "nbformat_minor": 5
}
