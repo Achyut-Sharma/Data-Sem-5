{
 "cells": [
  {
   "cell_type": "markdown",
   "id": "16482d06",
   "metadata": {},
   "source": [
    "## 12/7/23 Multi Level Inheriatnce."
   ]
  },
  {
   "cell_type": "code",
   "execution_count": null,
   "id": "af675559",
   "metadata": {},
   "outputs": [],
   "source": [
    "#Example 1\n",
    "class DairyProduct:\n",
    "    def __init__(self,p_name,p_price):\n",
    "        self.p_name = p_name\n",
    "        self.p_price = p_price\n",
    "    def product(self):\n",
    "        print(\"p_name is {}\\n p_price is {} \")\n",
    "class Paneer(DairyProduct):\n",
    "    def __init__(self,p_name,p_price,m_date):\n",
    "        super().__init__(p_name,p_price)\n",
    "        self.m_date = m_date\n",
    "    def details(self):\n",
    "        print(\"m_date is {}\\n\")\n",
    "class Butter(Paneer):\n",
    "    def "
   ]
  },
  {
   "cell_type": "code",
   "execution_count": null,
   "id": "687ee39e",
   "metadata": {},
   "outputs": [],
   "source": []
  }
 ],
 "metadata": {
  "kernelspec": {
   "display_name": "Python 3 (ipykernel)",
   "language": "python",
   "name": "python3"
  },
  "language_info": {
   "codemirror_mode": {
    "name": "ipython",
    "version": 3
   },
   "file_extension": ".py",
   "mimetype": "text/x-python",
   "name": "python",
   "nbconvert_exporter": "python",
   "pygments_lexer": "ipython3",
   "version": "3.9.13"
  }
 },
 "nbformat": 4,
 "nbformat_minor": 5
}
