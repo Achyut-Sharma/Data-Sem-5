{
 "cells": [
  {
   "cell_type": "code",
   "execution_count": 1,
   "id": "f1e0e528",
   "metadata": {},
   "outputs": [
    {
     "name": "stdout",
     "output_type": "stream",
     "text": [
      "Inherits the father's properties\n",
      "Inherits mother's properties\n",
      "It inherit's Father and Mother's properties\n"
     ]
    }
   ],
   "source": [
    "# Multiple Inheritance\n",
    "class Father:\n",
    "    def display1(self):\n",
    "        print(\"Inherits the father's properties\")\n",
    "class Mother:\n",
    "    def display2(self):\n",
    "        print(\"Inherits mother's properties\")\n",
    "class Child(Father,Mother):\n",
    "    def display3(self):\n",
    "        print(\"It inherit's Father and Mother's properties\")\n",
    "        \n",
    "#creating an instance of Child class.\n",
    "child_obj = Child()\n",
    "\n",
    "#caliing father method\n",
    "child_obj.display1()\n",
    "\n",
    "#calling mother method\n",
    "child_obj.display2()\n",
    "\n",
    "#calling children method\n",
    "child_obj.display3()"
   ]
  },
  {
   "cell_type": "code",
   "execution_count": 3,
   "id": "4f9621e9",
   "metadata": {},
   "outputs": [
    {
     "name": "stdout",
     "output_type": "stream",
     "text": [
      "Employee Name: John Doe\n",
      "Employee ID :1234\n",
      "Department:Sales\n"
     ]
    }
   ],
   "source": [
    "# Multiple Inheriatnce with constructor\n",
    "class Employee:\n",
    "    def __init__(self,Emp_name,Emp_id):\n",
    "        self.name = Emp_name\n",
    "        self.employee_id = Emp_id\n",
    "        \n",
    "    def display_info(self):\n",
    "        print(f\"Employee Name: {self.name}\")\n",
    "        print(f\"Employee ID :{self.employee_id}\")\n",
    "        \n",
    "class Department:\n",
    "    def __init__(self,dept_name):\n",
    "        self.department_name = dept_name\n",
    "        \n",
    "    def display_department(self):\n",
    "        print(f\"Department:{self.department_name}\")\n",
    "        \n",
    "class Manager(Employee,Department):\n",
    "    def __init__(self,Emp_name,Emp_id,dept_name):\n",
    "        Employee.__init__(self,Emp_name,Emp_id)\n",
    "        Department.__init__(self,dept_name)\n",
    "        \n",
    "    def display_manager_info(self):\n",
    "        self.display_info()\n",
    "        self.display_department()\n",
    "        \n",
    "manager = Manager(\"John Doe\",1234,\"Sales\")\n",
    "manager.display_manager_info()"
   ]
  },
  {
   "cell_type": "code",
   "execution_count": 13,
   "id": "9337a716",
   "metadata": {},
   "outputs": [
    {
     "name": "stdout",
     "output_type": "stream",
     "text": [
      "Value of A IS :  1\n"
     ]
    },
    {
     "ename": "AttributeError",
     "evalue": "'C' object has no attribute 'display_b'",
     "output_type": "error",
     "traceback": [
      "\u001b[1;31m---------------------------------------------------------------------------\u001b[0m",
      "\u001b[1;31mAttributeError\u001b[0m                            Traceback (most recent call last)",
      "\u001b[1;32m~\\AppData\\Local\\Temp\\ipykernel_8384\\3395344115.py\u001b[0m in \u001b[0;36m<module>\u001b[1;34m\u001b[0m\n\u001b[0;32m     23\u001b[0m \u001b[1;33m\u001b[0m\u001b[0m\n\u001b[0;32m     24\u001b[0m \u001b[0mc\u001b[0m \u001b[1;33m=\u001b[0m \u001b[0mC\u001b[0m\u001b[1;33m(\u001b[0m\u001b[1;36m1\u001b[0m\u001b[1;33m,\u001b[0m\u001b[1;36m2\u001b[0m\u001b[1;33m)\u001b[0m\u001b[1;33m\u001b[0m\u001b[1;33m\u001b[0m\u001b[0m\n\u001b[1;32m---> 25\u001b[1;33m \u001b[0mc\u001b[0m\u001b[1;33m.\u001b[0m\u001b[0mdisplay_d\u001b[0m\u001b[1;33m(\u001b[0m\u001b[1;33m)\u001b[0m\u001b[1;33m\u001b[0m\u001b[1;33m\u001b[0m\u001b[0m\n\u001b[0m",
      "\u001b[1;32m~\\AppData\\Local\\Temp\\ipykernel_8384\\3395344115.py\u001b[0m in \u001b[0;36mdisplay_d\u001b[1;34m(self)\u001b[0m\n\u001b[0;32m     20\u001b[0m     \u001b[1;32mdef\u001b[0m \u001b[0mdisplay_d\u001b[0m\u001b[1;33m(\u001b[0m\u001b[0mself\u001b[0m\u001b[1;33m)\u001b[0m\u001b[1;33m:\u001b[0m\u001b[1;33m\u001b[0m\u001b[1;33m\u001b[0m\u001b[0m\n\u001b[0;32m     21\u001b[0m         \u001b[0mself\u001b[0m\u001b[1;33m.\u001b[0m\u001b[0mdisplay_a\u001b[0m\u001b[1;33m(\u001b[0m\u001b[1;33m)\u001b[0m\u001b[1;33m\u001b[0m\u001b[1;33m\u001b[0m\u001b[0m\n\u001b[1;32m---> 22\u001b[1;33m         \u001b[0mself\u001b[0m\u001b[1;33m.\u001b[0m\u001b[0mdisplay_b\u001b[0m\u001b[1;33m(\u001b[0m\u001b[1;33m)\u001b[0m\u001b[1;33m\u001b[0m\u001b[1;33m\u001b[0m\u001b[0m\n\u001b[0m\u001b[0;32m     23\u001b[0m \u001b[1;33m\u001b[0m\u001b[0m\n\u001b[0;32m     24\u001b[0m \u001b[0mc\u001b[0m \u001b[1;33m=\u001b[0m \u001b[0mC\u001b[0m\u001b[1;33m(\u001b[0m\u001b[1;36m1\u001b[0m\u001b[1;33m,\u001b[0m\u001b[1;36m2\u001b[0m\u001b[1;33m)\u001b[0m\u001b[1;33m\u001b[0m\u001b[1;33m\u001b[0m\u001b[0m\n",
      "\u001b[1;31mAttributeError\u001b[0m: 'C' object has no attribute 'display_b'"
     ]
    }
   ],
   "source": [
    "# Practice by own of multiple inheritance.\n",
    "\n",
    "class A:\n",
    "    def __init__(self,a):\n",
    "        self.a = a\n",
    "    def display_a(self):\n",
    "        print(\"Value of A IS : \",self.a)\n",
    "        \n",
    "class B:\n",
    "    def __init__(self,b):\n",
    "        self.b = b\n",
    "        def display_b(self):\n",
    "            print(f\"Value of B is {self.b}\")\n",
    "            \n",
    "class C(A,B):\n",
    "    def __init__(self,a,b):\n",
    "        A.__init__(self,a)\n",
    "        B.__init__(self,b)\n",
    "        \n",
    "    def display_d(self):\n",
    "        self.display_a()\n",
    "        self.display_b()\n",
    "        \n",
    "c = C(1,2)\n",
    "c.display_d()"
   ]
  },
  {
   "cell_type": "code",
   "execution_count": null,
   "id": "b8393c66",
   "metadata": {},
   "outputs": [],
   "source": []
  },
  {
   "cell_type": "code",
   "execution_count": null,
   "id": "a78d5550",
   "metadata": {},
   "outputs": [],
   "source": []
  }
 ],
 "metadata": {
  "kernelspec": {
   "display_name": "Python 3 (ipykernel)",
   "language": "python",
   "name": "python3"
  },
  "language_info": {
   "codemirror_mode": {
    "name": "ipython",
    "version": 3
   },
   "file_extension": ".py",
   "mimetype": "text/x-python",
   "name": "python",
   "nbconvert_exporter": "python",
   "pygments_lexer": "ipython3",
   "version": "3.9.13"
  }
 },
 "nbformat": 4,
 "nbformat_minor": 5
}
