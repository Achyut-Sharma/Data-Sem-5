{
 "cells": [
  {
   "cell_type": "markdown",
   "id": "66a01e13",
   "metadata": {},
   "source": [
    "### Date: 04/08/2023"
   ]
  },
  {
   "cell_type": "code",
   "execution_count": 8,
   "id": "1f71aa95",
   "metadata": {},
   "outputs": [],
   "source": [
    "from tkinter import *\n",
    "root =Tk()\n",
    "root.title(\"Registration Form\")\n",
    "root.geometry(\"600x400\")\n",
    "\n",
    "f1 = Frame(root,borderwidth=5).grid(row=0,column=3)\n",
    "t1 = Label(f1,text=\"Student Registration Form\").grid(row=0,column=3)\n",
    "\n",
    "l1=Label(root,text=\"Username\")\n",
    "l2=Label(root,text=\"Password\")\n",
    "\n",
    "b1=Button(root,text=\"Submit\")\n",
    "\n",
    "l1.grid(row=1)\n",
    "l2.grid(row=2)\n",
    "\n",
    "b1.grid(row=4)\n",
    "\n",
    "c1 = Checkbutton(root,text=\"Select Me\").grid(row=4,column=1)\n",
    "\n",
    "e1 = Entry(root).grid(row=1,column=1)\n",
    "e2 = Entry(root).grid(row=2,column=1)\n",
    "\n",
    "root.mainloop()"
   ]
  },
  {
   "cell_type": "code",
   "execution_count": null,
   "id": "28b12ae4",
   "metadata": {},
   "outputs": [],
   "source": []
  }
 ],
 "metadata": {
  "kernelspec": {
   "display_name": "Python 3 (ipykernel)",
   "language": "python",
   "name": "python3"
  },
  "language_info": {
   "codemirror_mode": {
    "name": "ipython",
    "version": 3
   },
   "file_extension": ".py",
   "mimetype": "text/x-python",
   "name": "python",
   "nbconvert_exporter": "python",
   "pygments_lexer": "ipython3",
   "version": "3.10.9"
  }
 },
 "nbformat": 4,
 "nbformat_minor": 5
}
