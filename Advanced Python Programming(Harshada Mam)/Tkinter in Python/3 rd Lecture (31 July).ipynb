{
 "cells": [
  {
   "cell_type": "code",
   "execution_count": null,
   "id": "767f5759",
   "metadata": {},
   "outputs": [],
   "source": [
    "from tkinter import *\n",
    "root =Tk()\n",
    "root.title(\"my website\")\n",
    "\n",
    "label1=Label(root,text=\"username\")\n",
    "label2=Label(root,text=\"password\")\n",
    "\n",
    "\n",
    "button1=Button(root,text=\"sign in\")\n",
    "button2 =Button(root,text=\"sign up\")\n",
    "\n",
    "label1.grid(row=0)\n",
    "label2.grid(row=1)\n",
    "\n",
    "\n",
    "button1.grid(row=3)\n",
    "button2.grid(row=3 ,column=1)\n",
    "\n",
    "entry1= Entry(root)\n",
    "entry2=Entry(root)\n",
    "\n",
    "entry1.grid(row=0,column=1)\n",
    "entry2.grid(row=1,column=1)\n",
    "\n",
    "root.mainloop()"
   ]
  },
  {
   "cell_type": "code",
   "execution_count": 2,
   "id": "e73633e8",
   "metadata": {},
   "outputs": [],
   "source": [
    "from tkinter import *\n",
    "\n",
    "root = Tk()#blank window\n",
    "\n",
    "#root.mainloop()#to hold the window\n",
    "\n",
    "#weight x height\n",
    "root.geometry(\"733x434\")\n",
    "root.title(\"my gui\")\n",
    "#weight,height\n",
    "#root.minsize(200,100)\n",
    "\n",
    "#weight,height\n",
    "#root.maxsize(1290,900)\n",
    "\n",
    "title_1=Label(text='''fghjkdfghjkldsdfghjklkjhgfcdcvbnm,mnbvc mn bvcvhjkjhgffghjjhgfdsdfghjfdfghjkjhgfdfghjkjh\n",
    "dfgthjkjhgvbnmnbvvbnmnbvcvbjkjhgvvbkjhgfcvjbvcvbn.\n",
    "wertyuiolp;xcvbnm,sderfgtyhujikvgbhjk'''\n",
    "             ,bg=\"yellow\",fg=\"black\",\n",
    "             padx=30,pady=10,font=(\"arial\",14,\"bold\"),\n",
    "             borderwidth=5,relief=SUNKEN)\n",
    "\n",
    "\n",
    "#gui logic\n",
    "#x = Label(text=\"tkinter is easy\")\n",
    "\n",
    "#x.pack() #like wrap content/text\n",
    "title_1.pack()\n",
    "\n",
    "root.mainloop()#to stop the window"
   ]
  },
  {
   "cell_type": "code",
   "execution_count": null,
   "id": "2f4ec78a",
   "metadata": {},
   "outputs": [],
   "source": []
  }
 ],
 "metadata": {
  "kernelspec": {
   "display_name": "Python 3 (ipykernel)",
   "language": "python",
   "name": "python3"
  },
  "language_info": {
   "codemirror_mode": {
    "name": "ipython",
    "version": 3
   },
   "file_extension": ".py",
   "mimetype": "text/x-python",
   "name": "python",
   "nbconvert_exporter": "python",
   "pygments_lexer": "ipython3",
   "version": "3.9.13"
  }
 },
 "nbformat": 4,
 "nbformat_minor": 5
}
