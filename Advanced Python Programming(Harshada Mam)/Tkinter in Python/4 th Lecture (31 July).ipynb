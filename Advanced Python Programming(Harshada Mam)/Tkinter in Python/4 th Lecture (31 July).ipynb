{
 "cells": [
  {
   "cell_type": "markdown",
   "id": "6c42a6da",
   "metadata": {},
   "source": [
    "### Day 4\n",
    "#### Date: 28-04-2023"
   ]
  },
  {
   "cell_type": "code",
   "execution_count": 1,
   "id": "02a6963f",
   "metadata": {},
   "outputs": [],
   "source": [
    "from tkinter import *\n",
    "\n",
    "root = Tk()#blank window\n",
    "\n",
    "#root.mainloop()#to hold the window\n",
    "\n",
    "#weight x height\n",
    "root.geometry(\"733x434\")\n",
    "root.title(\"my gui\")\n",
    "#weight,height\n",
    "#root.minsize(200,100)\n",
    "\n",
    "#weight,height\n",
    "#root.maxsize(1290,900)\n",
    "\n",
    "title_1=Label(text=\"fghjkdfghjkldsdfghjklkjhgfcdcvbnm\"\n",
    "             ,bg=\"yellow\",fg=\"black\",\n",
    "             padx=30,pady=10,font=(\"arial\",14,\"bold\"),\n",
    "             borderwidth=5,relief=SUNKEN)\n",
    "\n",
    "\n",
    "#gui logic\n",
    "#x = Label(text=\"tkinter is easy\")\n",
    "\n",
    "#x.pack() #like wrap content/text\n",
    "title_1.pack(side=\"left\",anchor=\"nw\")\n",
    "# side have 4 options: \"top\",\"bottom\",\"left\",\"right\"\n",
    "# anchor have 4 options: \"ne\",\"nw\",\"sw\",\"se\"\n",
    "\n",
    "root.mainloop()#to stop the window"
   ]
  },
  {
   "cell_type": "code",
   "execution_count": 2,
   "id": "85b64616",
   "metadata": {},
   "outputs": [],
   "source": [
    "# use of place widget\n",
    "from tkinter import *\n",
    "root =Tk()\n",
    "\n",
    "root.geometry(\"400x500\")\n",
    "\n",
    "l1 = Label(root,text=\"username\").place(x=25,y=50) #label to write in\n",
    "l2 = Label(root,text=\"password\").place(x=25, y=75)\n",
    "\n",
    "b1 = Button(root,text=\"sign in\").place(x=25,y=120) # button to perform action\n",
    "b2 = Button(root,text=\"sign up\").place(x=100,y=120)\n",
    "\n",
    "e1 = Entry(root).place(x=85,y=50) # Entry to get a box to get data from user\n",
    "e2 = Entry(root).place(x=85,y=75)\n",
    "\n",
    "root.mainloop()"
   ]
  }
 ],
 "metadata": {
  "kernelspec": {
   "display_name": "Python 3 (ipykernel)",
   "language": "python",
   "name": "python3"
  },
  "language_info": {
   "codemirror_mode": {
    "name": "ipython",
    "version": 3
   },
   "file_extension": ".py",
   "mimetype": "text/x-python",
   "name": "python",
   "nbconvert_exporter": "python",
   "pygments_lexer": "ipython3",
   "version": "3.9.13"
  }
 },
 "nbformat": 4,
 "nbformat_minor": 5
}
