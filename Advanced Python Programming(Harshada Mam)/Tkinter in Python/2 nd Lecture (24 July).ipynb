{
 "cells": [
  {
   "cell_type": "code",
   "execution_count": 12,
   "id": "23fee384",
   "metadata": {},
   "outputs": [],
   "source": [
    "# Layouts (Buttons).\n",
    "\n",
    "from tkinter  import  * \n",
    "root = Tk()\n",
    "fm = Frame(root)\n",
    "fm.pack(fill = BOTH)\n",
    "Button(fm,text=\"Button1\",fg =\"red\").pack()\n",
    "Button(fm,text=\"Button2\",fg =\"green\").pack(side = LEFT)\n",
    "Button(fm,text=\"Button3\",fg =\"blue\").pack(side = RIGHT)\n",
    "root.mainloop()\n",
    "\n",
    "# Here fm used to save fram class and root inside braces means it inherits root window properties.\n",
    "# fm.pack() used to wrap up frame class.\n",
    "# Button widget inside it fm object,fg it's color then .pack() means it wrap a widget \n",
    "# root.mainloop() means to hold the window after making changes.\n",
    "\n",
    "\n",
    "# \"fill = BOTH\" means it will allow position of butttons inside the frame.\n",
    "# \"side =LEFT or RIGHT \" inside pack() means it allows button position inside the frame"
   ]
  },
  {
   "cell_type": "code",
   "execution_count": 17,
   "id": "833659c1",
   "metadata": {},
   "outputs": [
    {
     "ename": "TclError",
     "evalue": "cannot use geometry manager grid inside . which already has slaves managed by pack",
     "output_type": "error",
     "traceback": [
      "\u001b[1;31m---------------------------------------------------------------------------\u001b[0m",
      "\u001b[1;31mTclError\u001b[0m                                  Traceback (most recent call last)",
      "\u001b[1;32m~\\AppData\\Local\\Temp\\ipykernel_11140\\788621564.py\u001b[0m in \u001b[0;36m<module>\u001b[1;34m\u001b[0m\n\u001b[0;32m     11\u001b[0m \u001b[1;33m\u001b[0m\u001b[0m\n\u001b[0;32m     12\u001b[0m \u001b[1;31m# to set label into grid layout.\u001b[0m\u001b[1;33m\u001b[0m\u001b[1;33m\u001b[0m\u001b[0m\n\u001b[1;32m---> 13\u001b[1;33m \u001b[0mlabel_1\u001b[0m\u001b[1;33m.\u001b[0m\u001b[0mgrid\u001b[0m\u001b[1;33m(\u001b[0m\u001b[0mrow\u001b[0m\u001b[1;33m=\u001b[0m\u001b[1;36m0\u001b[0m\u001b[1;33m)\u001b[0m\u001b[1;33m\u001b[0m\u001b[1;33m\u001b[0m\u001b[0m\n\u001b[0m\u001b[0;32m     14\u001b[0m \u001b[0mlabel_2\u001b[0m\u001b[1;33m.\u001b[0m\u001b[0mgrid\u001b[0m\u001b[1;33m(\u001b[0m\u001b[0mrow\u001b[0m\u001b[1;33m=\u001b[0m\u001b[1;36m1\u001b[0m\u001b[1;33m)\u001b[0m\u001b[1;33m\u001b[0m\u001b[1;33m\u001b[0m\u001b[0m\n\u001b[0;32m     15\u001b[0m \u001b[0mButton\u001b[0m\u001b[1;33m.\u001b[0m\u001b[0mgrid\u001b[0m\u001b[1;33m(\u001b[0m\u001b[0mrow\u001b[0m \u001b[1;33m=\u001b[0m \u001b[1;36m2\u001b[0m\u001b[1;33m)\u001b[0m\u001b[1;33m\u001b[0m\u001b[1;33m\u001b[0m\u001b[0m\n",
      "\u001b[1;32m~\\Anaconda3\\lib\\tkinter\\__init__.py\u001b[0m in \u001b[0;36mgrid_configure\u001b[1;34m(self, cnf, **kw)\u001b[0m\n\u001b[0;32m   2491\u001b[0m                       \u001b[0mwidget\u001b[0m \u001b[0mstick\u001b[0m \u001b[0mto\u001b[0m \u001b[0mthe\u001b[0m \u001b[0mcell\u001b[0m \u001b[0mboundary\u001b[0m\u001b[1;33m\u001b[0m\u001b[1;33m\u001b[0m\u001b[0m\n\u001b[0;32m   2492\u001b[0m         \"\"\"\n\u001b[1;32m-> 2493\u001b[1;33m         self.tk.call(\n\u001b[0m\u001b[0;32m   2494\u001b[0m               \u001b[1;33m(\u001b[0m\u001b[1;34m'grid'\u001b[0m\u001b[1;33m,\u001b[0m \u001b[1;34m'configure'\u001b[0m\u001b[1;33m,\u001b[0m \u001b[0mself\u001b[0m\u001b[1;33m.\u001b[0m\u001b[0m_w\u001b[0m\u001b[1;33m)\u001b[0m\u001b[1;33m\u001b[0m\u001b[1;33m\u001b[0m\u001b[0m\n\u001b[0;32m   2495\u001b[0m               + self._options(cnf, kw))\n",
      "\u001b[1;31mTclError\u001b[0m: cannot use geometry manager grid inside . which already has slaves managed by pack"
     ]
    }
   ],
   "source": [
    "# Grid Layout = Rows and Columns\n",
    "# creating Login Screen\n",
    "\n",
    "from tkinter import *\n",
    "root = Tk()\n",
    "fm = Frame(root)\n",
    "fm.pack(fill = BOTH)\n",
    "label_1 = Label(root,text=\"Username\")\n",
    "label_2 = Label(root,text=\"Password\")\n",
    "Button(fm,text=\"Submit\",fg=\"green\").pack(side = LEFT)\n",
    "\n",
    "# to set label into grid layout.\n",
    "label_1.grid(row=0)\n",
    "label_2.grid(row=1)\n",
    "Button.grid(row = 2)\n",
    "# to set the entry field for the tables\n",
    "entry_1 = Entry(root)\n",
    "entry_2 = Entry(root)\n",
    "Button = \n",
    "\n",
    "entry_1.grid(row =0, column =1)\n",
    "entry_2.grid(row = 1, column =1)\n",
    "#entry_3.grid(row =2, column = 1)\n",
    "root.mainloop()\n",
    "\n",
    "\n"
   ]
  },
  {
   "cell_type": "markdown",
   "id": "3b2be0a2",
   "metadata": {},
   "source": [
    "## 3 rd Lecture (26 July)"
   ]
  },
  {
   "cell_type": "code",
   "execution_count": 2,
   "id": "ab36677d",
   "metadata": {},
   "outputs": [],
   "source": [
    "## Creating a Login Page\n",
    "from tkinter import *\n",
    "root = Tk()\n",
    "root.title(\"My Website\")\n",
    "label_1 = Label(root,text =\"User name\")\n",
    "label_2 = Label(root,text =\" Password\")\n",
    "\n",
    "button_1 = Button(root,text=\"Sign In\")\n",
    "button_2 = Button(root,text=\"Sign Up\")\n",
    "\n",
    "# to set label into grid layout.\n",
    "\n",
    "\n",
    "label_1.grid(row = 0)\n",
    "label_2.grid(row = 1)\n",
    "button_1.grid(row =3)\n",
    "button_2.grid(row = 3, column = 1)\n",
    "\n",
    "\n",
    "# to set the entry fields fro tables.\n",
    "\n",
    "entry_1 = Entry(root) \n",
    "entry_2 = Entry(root)\n",
    "\n",
    "entry_1.grid(row = 0, column =1)\n",
    "entry_2.grid(row = 1, column =1)\n",
    "root.mainloop()\n",
    "# here label.grid to set label in grid layout with index values just as matrix.\n",
    "# entry_ = Entry(root) to set values in label.\n",
    "# entry_.grid(row = column = )  means it locates permission to enter in label "
   ]
  },
  {
   "cell_type": "markdown",
   "id": "dc2c74e0",
   "metadata": {},
   "source": [
    "## Label Options:-\n",
    "\n",
    "## 1 text:- Adds the text.\n",
    "## 2 bd:- Background\n",
    "## 3 fg:- Foreground\n",
    "## 4 font:- sets the font\n",
    "## 5 padx :- x padding.\n",
    "## 6 pady :- y padding.\n",
    "## 7 relief:- border styling:- SUNKEN,RAISED,GROOVE,RIDGE                       "
   ]
  },
  {
   "cell_type": "code",
   "execution_count": null,
   "id": "03284cde",
   "metadata": {},
   "outputs": [],
   "source": [
    "## Here padx is for spacing within right and left columns of box , \n",
    "##whereas pady for spacing top and bottom of box, fg for foreground color means \"text color\""
   ]
  },
  {
   "cell_type": "code",
   "execution_count": 4,
   "id": "b144e073",
   "metadata": {},
   "outputs": [],
   "source": [
    "## Creating a Login Page\n",
    "from tkinter import *\n",
    "root = Tk()\n",
    "root.geometry(\"600x300\")\n",
    "root.title(\"My GUI\")\n",
    "\n",
    "# Label Options\n",
    "title_label1 = Label(text='''The immutability of tuple is the primary difference between tuples and lists.\\n \n",
    "Lists ,on the other hand, are mutable, allowing you to add , remove,or modify to \n",
    "add,remove,or modify elements freely'''\n",
    ",bg=\"yellow\",fg=\"black\",padx=50,pady=30,font=(\"arial\",11,\"bold\"),\n",
    "borderwidth=5,relief=RAISED)\n",
    "\n",
    "# to pack label.\n",
    "title_label1.pack()\n",
    "root.mainloop()"
   ]
  }
 ],
 "metadata": {
  "kernelspec": {
   "display_name": "Python 3 (ipykernel)",
   "language": "python",
   "name": "python3"
  },
  "language_info": {
   "codemirror_mode": {
    "name": "ipython",
    "version": 3
   },
   "file_extension": ".py",
   "mimetype": "text/x-python",
   "name": "python",
   "nbconvert_exporter": "python",
   "pygments_lexer": "ipython3",
   "version": "3.9.13"
  }
 },
 "nbformat": 4,
 "nbformat_minor": 5
}
