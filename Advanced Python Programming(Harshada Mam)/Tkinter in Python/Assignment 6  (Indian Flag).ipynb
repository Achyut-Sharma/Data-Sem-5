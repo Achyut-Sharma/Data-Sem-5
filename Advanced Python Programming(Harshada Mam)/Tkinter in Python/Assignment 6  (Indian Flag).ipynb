{
 "cells": [
  {
   "cell_type": "code",
   "execution_count": 1,
   "id": "1388f0cc",
   "metadata": {},
   "outputs": [],
   "source": [
    "# Assignment 6:-"
   ]
  },
  {
   "cell_type": "code",
   "execution_count": 2,
   "id": "440ceb35",
   "metadata": {},
   "outputs": [],
   "source": [
    "# National Flag with Tkinter"
   ]
  },
  {
   "cell_type": "code",
   "execution_count": null,
   "id": "b3f292eb",
   "metadata": {},
   "outputs": [],
   "source": [
    "\n"
   ]
  },
  {
   "cell_type": "code",
   "execution_count": null,
   "id": "9f3a6b6c",
   "metadata": {},
   "outputs": [],
   "source": []
  }
 ],
 "metadata": {
  "kernelspec": {
   "display_name": "Python 3 (ipykernel)",
   "language": "python",
   "name": "python3"
  },
  "language_info": {
   "codemirror_mode": {
    "name": "ipython",
    "version": 3
   },
   "file_extension": ".py",
   "mimetype": "text/x-python",
   "name": "python",
   "nbconvert_exporter": "python",
   "pygments_lexer": "ipython3",
   "version": "3.9.13"
  }
 },
 "nbformat": 4,
 "nbformat_minor": 5
}
