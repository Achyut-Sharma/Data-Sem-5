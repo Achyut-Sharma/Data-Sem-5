{
 "cells": [
  {
   "cell_type": "code",
   "execution_count": 3,
   "id": "31a4ef29",
   "metadata": {},
   "outputs": [
    {
     "name": "stdout",
     "output_type": "stream",
     "text": [
      "Welcome to C\n"
     ]
    }
   ],
   "source": [
    "from tkinter import *\n",
    "root = Tk()\n",
    "root.geometry(\"600x400\")\n",
    "\n",
    "def Call1():\n",
    "    print(\"Welcome to C\")\n",
    "    \n",
    "f1 = Frame(root,bg=\"red\",borderwidth=6)    \n",
    "f1.pack(side=LEFT,anchor=\"nw\")\n",
    "\n",
    "#calling the method on button click\n",
    "b1=Button(f1,fg=\"red\",text=\"Start-C\",command = Call1)\n",
    "b1.pack(side=LEFT,padx=23)\n",
    "root.mainloop()"
   ]
  },
  {
   "cell_type": "code",
   "execution_count": null,
   "id": "5bf7735a",
   "metadata": {},
   "outputs": [],
   "source": [
    "from tkinter import *\n",
    "root.geometry(\"600x400\")\n",
    "root.title(\"Student Details\")\n",
    "def Call1():\n",
    "    print(\"Name is Achyut\")\n",
    "    \n",
    "f1 =Frame(root,bg=\"red\",borderwidth=3)    \n",
    "f1.pack(side=CENTER)\n",
    "\n",
    "\n",
    "b1=Button(f1,fg=\"red\",text=\"Name\",command=Call1)\n",
    "b1.pack(side=CENTER,padx=15)\n",
    "\n",
    "\n",
    "def Call2():\n",
    "    print(\"Email is sharmaachyut78@gmail.com\")\n",
    "    \n",
    "f2 = Frame(root,bg=\"yellow\",borderwidth=3)\n",
    "f2.pack(side=CENTER)\n",
    "\n",
    "\n",
    "b2=Button(f2,fg=\"green\",text=\"Email\",command=Call2)\n",
    "b2.pack(side=CENTER,padx=15)\n",
    "\n",
    "\n",
    "def Call3():\n",
    "    print(\"Address is \")\n",
    "    \n",
    "f3=Frame(root,fg=\"orange\",text=\"Address\",borderwidth=15)\n",
    "f3.pack(side=CENTER)\n",
    "\n",
    "b1=Button(f3,fg=\"red\")\n",
    "\n",
    "root.mainloop()"
   ]
  }
 ],
 "metadata": {
  "kernelspec": {
   "display_name": "Python 3 (ipykernel)",
   "language": "python",
   "name": "python3"
  },
  "language_info": {
   "codemirror_mode": {
    "name": "ipython",
    "version": 3
   },
   "file_extension": ".py",
   "mimetype": "text/x-python",
   "name": "python",
   "nbconvert_exporter": "python",
   "pygments_lexer": "ipython3",
   "version": "3.9.13"
  }
 },
 "nbformat": 4,
 "nbformat_minor": 5
}
