{
 "cells": [
  {
   "cell_type": "markdown",
   "id": "c6bbcee0",
   "metadata": {},
   "source": [
    "## Tkinter in Python \n",
    "\n",
    "## ->Tkinter is a standard pyhton library used for creating graphical user interfaces (GUIs).\n",
    "\n",
    "## -> It provides a set of tools and widgets to buid desktop applications with graphical elements, making it easier to design interactive and user-friendly applications."
   ]
  },
  {
   "cell_type": "code",
   "execution_count": 1,
   "id": "31a53398",
   "metadata": {},
   "outputs": [],
   "source": [
    "# Import Tkinter from Library.\n",
    "#from tkinter import *  # here \"*\" means  all classes,methods are called present in Tkinter. \n",
    "\n",
    "#root = Tk() # blank window\n",
    "\n",
    "#root.mainloop() # holding blank window"
   ]
  },
  {
   "cell_type": "code",
   "execution_count": 6,
   "id": "b0c71889",
   "metadata": {},
   "outputs": [
    {
     "ename": "TclError",
     "evalue": "can't invoke \"wm\" command: application has been destroyed",
     "output_type": "error",
     "traceback": [
      "\u001b[1;31m---------------------------------------------------------------------------\u001b[0m",
      "\u001b[1;31mTclError\u001b[0m                                  Traceback (most recent call last)",
      "\u001b[1;32m~\\AppData\\Local\\Temp\\ipykernel_7568\\15486481.py\u001b[0m in \u001b[0;36m<module>\u001b[1;34m\u001b[0m\n\u001b[0;32m      8\u001b[0m \u001b[1;33m\u001b[0m\u001b[0m\n\u001b[0;32m      9\u001b[0m \u001b[1;31m# width and height\u001b[0m\u001b[1;33m\u001b[0m\u001b[1;33m\u001b[0m\u001b[0m\n\u001b[1;32m---> 10\u001b[1;33m \u001b[0mroot\u001b[0m\u001b[1;33m.\u001b[0m\u001b[0mgeometry\u001b[0m\u001b[1;33m(\u001b[0m\u001b[1;34m\"733x434\"\u001b[0m\u001b[1;33m)\u001b[0m\u001b[1;33m\u001b[0m\u001b[1;33m\u001b[0m\u001b[0m\n\u001b[0m\u001b[0;32m     11\u001b[0m \u001b[1;33m\u001b[0m\u001b[0m\n\u001b[0;32m     12\u001b[0m \u001b[1;31m# min width ,height\u001b[0m\u001b[1;33m\u001b[0m\u001b[1;33m\u001b[0m\u001b[0m\n",
      "\u001b[1;32m~\\Anaconda3\\lib\\tkinter\\__init__.py\u001b[0m in \u001b[0;36mwm_geometry\u001b[1;34m(self, newGeometry)\u001b[0m\n\u001b[0;32m   2042\u001b[0m         \"\"\"Set geometry to NEWGEOMETRY of the form =widthxheight+x+y. Return\n\u001b[0;32m   2043\u001b[0m         current value if None is given.\"\"\"\n\u001b[1;32m-> 2044\u001b[1;33m         \u001b[1;32mreturn\u001b[0m \u001b[0mself\u001b[0m\u001b[1;33m.\u001b[0m\u001b[0mtk\u001b[0m\u001b[1;33m.\u001b[0m\u001b[0mcall\u001b[0m\u001b[1;33m(\u001b[0m\u001b[1;34m'wm'\u001b[0m\u001b[1;33m,\u001b[0m \u001b[1;34m'geometry'\u001b[0m\u001b[1;33m,\u001b[0m \u001b[0mself\u001b[0m\u001b[1;33m.\u001b[0m\u001b[0m_w\u001b[0m\u001b[1;33m,\u001b[0m \u001b[0mnewGeometry\u001b[0m\u001b[1;33m)\u001b[0m\u001b[1;33m\u001b[0m\u001b[1;33m\u001b[0m\u001b[0m\n\u001b[0m\u001b[0;32m   2045\u001b[0m \u001b[1;33m\u001b[0m\u001b[0m\n\u001b[0;32m   2046\u001b[0m     \u001b[0mgeometry\u001b[0m \u001b[1;33m=\u001b[0m \u001b[0mwm_geometry\u001b[0m\u001b[1;33m\u001b[0m\u001b[1;33m\u001b[0m\u001b[0m\n",
      "\u001b[1;31mTclError\u001b[0m: can't invoke \"wm\" command: application has been destroyed"
     ]
    }
   ],
   "source": [
    "# resizing a window.\n",
    "\n",
    "from tkinter import *  \n",
    "\n",
    "root = Tk() # blank window\n",
    "\n",
    "\n",
    "# width and height\n",
    "root.geometry(\"733x434\")\n",
    "\n",
    "# min width ,height\n",
    "root.minsize(200,100)\n",
    "\n",
    "# max width , height\n",
    "#root.maxsize(1200,900)\n",
    "\n",
    "# GUI Logic\n",
    "#x=Label(text=\"Tkinter is easy\")\n",
    "\n",
    "#x.pack() # like wrap content/text after initialize a widget .\n",
    "\n",
    "root.mainloop() # to hold the window so gui logic apply and shown.\n",
    "\n",
    "# use mainloop() method after making every changes in window or widget\n",
    "# and mention it at end of program to hold window a=with changes."
   ]
  },
  {
   "cell_type": "code",
   "execution_count": 23,
   "id": "9e102125",
   "metadata": {},
   "outputs": [],
   "source": [
    "# taking images in window.\n",
    "\n",
    "#from tkinter import *  \n",
    "# from IPL import Image, ImageK.\n",
    "\n",
    "root = Tk() # blank window\n",
    "\n",
    "root.geometry(\"455x244\")\n",
    "\n",
    "# for .png images.\n",
    "#photo = PhotoImage(file=\"image 3.png\")\n",
    "\n",
    "#\"PhotoImage\" is a predefined method for png images.\n",
    "\n",
    "#label=Label(image=photo)\n",
    "#label.pack()\n",
    "\n",
    "# for jpg images.\n",
    "\n",
    "\n",
    "\n",
    "#root.mainloop()"
   ]
  },
  {
   "cell_type": "code",
   "execution_count": 33,
   "id": "ea376bcd",
   "metadata": {},
   "outputs": [],
   "source": [
    "# install pillow library for jpg images in cmd.\n",
    "\n",
    "# syntax for installing pip install pillow \n",
    "from tkinter import *\n",
    "from PIL import Image, ImageTk   # syntax for iporting pillow libraray and default var \"Image\" & \"ImageTk\"\n",
    "\n",
    "root = Tk()\n",
    "root.geometry(\"455x244\")\n",
    "\n",
    "# For jpg images\n",
    "image = Image.open(\"Tiger.jpg\")\n",
    "photo = ImageTk.PhotoImage(image)\n",
    "\n",
    "label = Label(image=photo)\n",
    "label.pack()\n",
    "root.mainloop()\n"
   ]
  },
  {
   "cell_type": "code",
   "execution_count": 32,
   "id": "27ab032c",
   "metadata": {},
   "outputs": [],
   "source": [
    "\n"
   ]
  },
  {
   "cell_type": "code",
   "execution_count": null,
   "id": "d5323d8f",
   "metadata": {},
   "outputs": [],
   "source": []
  }
 ],
 "metadata": {
  "kernelspec": {
   "display_name": "Python 3 (ipykernel)",
   "language": "python",
   "name": "python3"
  },
  "language_info": {
   "codemirror_mode": {
    "name": "ipython",
    "version": 3
   },
   "file_extension": ".py",
   "mimetype": "text/x-python",
   "name": "python",
   "nbconvert_exporter": "python",
   "pygments_lexer": "ipython3",
   "version": "3.9.13"
  }
 },
 "nbformat": 4,
 "nbformat_minor": 5
}
