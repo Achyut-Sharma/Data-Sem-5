{
 "cells": [
  {
   "cell_type": "code",
   "execution_count": null,
   "id": "ba5142b2",
   "metadata": {},
   "outputs": [],
   "source": [
    "## Tkinter Variables\n",
    "\n",
    "\n",
    "#Tkinter variables are practically useful when you want to create responsive GUI's\n",
    "#that reflect changes made by the user and vice versa.\n",
    "\n",
    "# By associating variables with widgtes you can easily read and update the widget\n",
    "# values while keeping track of the underlying data.\n",
    "\n",
    "\n",
    "# Tkinter provides four types of varaibles "
   ]
  }
 ],
 "metadata": {
  "kernelspec": {
   "display_name": "Python 3 (ipykernel)",
   "language": "python",
   "name": "python3"
  },
  "language_info": {
   "codemirror_mode": {
    "name": "ipython",
    "version": 3
   },
   "file_extension": ".py",
   "mimetype": "text/x-python",
   "name": "python",
   "nbconvert_exporter": "python",
   "pygments_lexer": "ipython3",
   "version": "3.9.13"
  }
 },
 "nbformat": 4,
 "nbformat_minor": 5
}
