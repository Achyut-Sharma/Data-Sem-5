{
 "cells": [
  {
   "cell_type": "markdown",
   "id": "e71d9cf2",
   "metadata": {},
   "source": [
    "# Class & Object."
   ]
  },
  {
   "cell_type": "code",
   "execution_count": 12,
   "id": "a272c47f",
   "metadata": {},
   "outputs": [
    {
     "name": "stdout",
     "output_type": "stream",
     "text": [
      "Id:101\n",
      "Name:Maruti\n"
     ]
    }
   ],
   "source": [
    "# \":\" is used for creating a class.\n",
    "class Cars:\n",
    "    id = 101    # class variables\n",
    "    name= 'Maruti' # class variables.\n",
    "        \n",
    "    def display(self):\n",
    "        print(\"Id:%d\\nName:%s\"%(self.id,self.name)) #\"def\" is used to define method,(self) used as reference point for particular class & object.\n",
    "car = Cars()   ## object creation as \"car\". \n",
    "car.display()  ## method calling by object."
   ]
  },
  {
   "cell_type": "code",
   "execution_count": 14,
   "id": "4ff22468",
   "metadata": {},
   "outputs": [
    {
     "name": "stdout",
     "output_type": "stream",
     "text": [
      "Id:101\n",
      "Name:Maruti\n",
      "Id:101\n",
      "Name:Maruti\n"
     ]
    },
    {
     "ename": "NameError",
     "evalue": "name 'car1' is not defined",
     "output_type": "error",
     "traceback": [
      "\u001b[1;31m---------------------------------------------------------------------------\u001b[0m",
      "\u001b[1;31mNameError\u001b[0m                                 Traceback (most recent call last)",
      "\u001b[1;32m~\\AppData\\Local\\Temp\\ipykernel_15284\\1931829184.py\u001b[0m in \u001b[0;36m<module>\u001b[1;34m\u001b[0m\n\u001b[0;32m     11\u001b[0m \u001b[0mcar1\u001b[0m\u001b[1;33m.\u001b[0m\u001b[0mdisplay\u001b[0m\u001b[1;33m(\u001b[0m\u001b[1;33m)\u001b[0m\u001b[1;33m\u001b[0m\u001b[1;33m\u001b[0m\u001b[0m\n\u001b[0;32m     12\u001b[0m \u001b[1;32mdel\u001b[0m \u001b[0mcar1\u001b[0m        \u001b[1;31m# \"del\" is a keyword used for deletion of an object.\u001b[0m\u001b[1;33m\u001b[0m\u001b[1;33m\u001b[0m\u001b[0m\n\u001b[1;32m---> 13\u001b[1;33m \u001b[0mcar1\u001b[0m\u001b[1;33m.\u001b[0m\u001b[0mdisplay\u001b[0m\u001b[1;33m(\u001b[0m\u001b[1;33m)\u001b[0m\u001b[1;33m\u001b[0m\u001b[1;33m\u001b[0m\u001b[0m\n\u001b[0m",
      "\u001b[1;31mNameError\u001b[0m: name 'car1' is not defined"
     ]
    }
   ],
   "source": [
    "class Cars:\n",
    "    id = 101    # class variables\n",
    "    name= 'Maruti' # class variables.\n",
    "    \n",
    "    def display(self):\n",
    "        print(\"Id:%d\\nName:%s\"%(self.id,self.name)) \n",
    "        \n",
    "car = Cars()   ## object creation as \"car\". \n",
    "car.display() \n",
    "car1 = Cars()\n",
    "car1.display()\n",
    "del car1        # \"del\" is a keyword used for deletion of an object.\n",
    "car1.display()"
   ]
  },
  {
   "cell_type": "markdown",
   "id": "445f3712",
   "metadata": {},
   "source": [
    "## Constructors in Python .\n",
    "\n",
    "### It is used while initialization of object creation. "
   ]
  },
  {
   "cell_type": "code",
   "execution_count": 25,
   "id": "000cf02c",
   "metadata": {},
   "outputs": [
    {
     "name": "stdout",
     "output_type": "stream",
     "text": [
      "ID:101\n",
      "Name:John\n",
      "ID:102\n",
      "Name:David\n"
     ]
    }
   ],
   "source": [
    "## Creating the constructor in python.\n",
    "class Employee:\n",
    "    def __init__(self,name,id): ##syntax for constructor creation.\n",
    "        self.id = id \n",
    "        self.name = name\n",
    "        \n",
    "    def display(self):\n",
    "            print(\"ID:%d\\nName:%s\"%(self.id,self.name))\n",
    "            \n",
    "emp1 = Employee(\"John\",101)\n",
    "emp2 = Employee(\"David\",102)\n",
    "            \n",
    "emp1.display()\n",
    "emp2.display()"
   ]
  },
  {
   "cell_type": "markdown",
   "id": "241b1157",
   "metadata": {},
   "source": [
    "# Date 23 June "
   ]
  },
  {
   "cell_type": "markdown",
   "id": "c929205e",
   "metadata": {},
   "source": [
    "### String Formatting (Exact starting of study for exam purposes)."
   ]
  },
  {
   "cell_type": "markdown",
   "id": "ee9f59c3",
   "metadata": {},
   "source": [
    "1. ## Use of % operator for string formatting (older approach)"
   ]
  },
  {
   "cell_type": "code",
   "execution_count": 6,
   "id": "fa3fb720",
   "metadata": {},
   "outputs": [
    {
     "name": "stdout",
     "output_type": "stream",
     "text": [
      "Student name is Kartik and ID is 100\n"
     ]
    }
   ],
   "source": [
    "Name = \"Kartik\"\n",
    "ID =100\n",
    "print(\"Student name is %s and ID is %d\"%(Name,ID))"
   ]
  },
  {
   "cell_type": "markdown",
   "id": "b53c2e10",
   "metadata": {},
   "source": [
    "## Use of format() method for string formatting."
   ]
  },
  {
   "cell_type": "code",
   "execution_count": 8,
   "id": "45346042",
   "metadata": {},
   "outputs": [
    {
     "name": "stdout",
     "output_type": "stream",
     "text": [
      "Student name is Karan and ID is 102\n"
     ]
    }
   ],
   "source": [
    "Name =\"Karan\"\n",
    "ID =102\n",
    "print(\"Student name is {} and ID is {}\".format(Name,ID))"
   ]
  },
  {
   "cell_type": "markdown",
   "id": "2152dee5",
   "metadata": {},
   "source": [
    "### use of %f operator for string formatting."
   ]
  },
  {
   "cell_type": "code",
   "execution_count": 12,
   "id": "7b917731",
   "metadata": {},
   "outputs": [
    {
     "name": "stdout",
     "output_type": "stream",
     "text": [
      "Student name is Kavya and ID is 102\n"
     ]
    }
   ],
   "source": [
    "Name = \"Kavya\"\n",
    "ID = 102\n",
    "print(f\"Student name is {Name} and ID is {ID}\")"
   ]
  },
  {
   "cell_type": "markdown",
   "id": "aa2730ca",
   "metadata": {},
   "source": [
    "\n",
    "# Example 2 for parameterized constructor"
   ]
  },
  {
   "cell_type": "code",
   "execution_count": 18,
   "id": "45f75222",
   "metadata": {},
   "outputs": [
    {
     "name": "stdout",
     "output_type": "stream",
     "text": [
      "car details\n",
      "Car:Toyota,Corolla,2023\n",
      "Mileage:0 miles\n",
      "Car:Toyota,Corolla,2023\n",
      "Mileage:150 miles\n"
     ]
    }
   ],
   "source": [
    "class Car:\n",
    "    def __init__(self,Make,Model,Year):\n",
    "        self.make= Make\n",
    "        self.model =Model\n",
    "        self.year = Year\n",
    "        self.mileage = 0\n",
    "    def drive(self,miles):\n",
    "            self.mileage += miles\n",
    "            \n",
    "    def display_info(self):\n",
    "            print(\"Car:{},{},{}\".format(self.make,self.model,self.year))\n",
    "            print(\"Mileage:{} miles\".format(self.mileage))\n",
    "            \n",
    "# Creating an instance of Car Class\n",
    "print(\"car details\")\n",
    "car1  = Car(\"Toyota\",\"Corolla\",2023)\n",
    "car1.display_info()\n",
    "car1.drive(150)\n",
    "car1.display_info()\n",
    "\n"
   ]
  },
  {
   "cell_type": "code",
   "execution_count": null,
   "id": "5a30f044",
   "metadata": {},
   "outputs": [],
   "source": []
  }
 ],
 "metadata": {
  "kernelspec": {
   "display_name": "Python 3 (ipykernel)",
   "language": "python",
   "name": "python3"
  },
  "language_info": {
   "codemirror_mode": {
    "name": "ipython",
    "version": 3
   },
   "file_extension": ".py",
   "mimetype": "text/x-python",
   "name": "python",
   "nbconvert_exporter": "python",
   "pygments_lexer": "ipython3",
   "version": "3.9.13"
  }
 },
 "nbformat": 4,
 "nbformat_minor": 5
}
