{
 "cells": [
  {
   "cell_type": "markdown",
   "id": "71d1ca7b",
   "metadata": {},
   "source": [
    "# Date 3 July 23"
   ]
  },
  {
   "cell_type": "markdown",
   "id": "49975727",
   "metadata": {},
   "source": [
    "# Positional And KeyWord "
   ]
  },
  {
   "cell_type": "code",
   "execution_count": 8,
   "id": "ad75d535",
   "metadata": {},
   "outputs": [
    {
     "name": "stdout",
     "output_type": "stream",
     "text": [
      "Hello Swarali you are 24 years old\n"
     ]
    }
   ],
   "source": [
    "\n",
    "def hello(name,age):#Positional Argument.\n",
    "    print(\"Hello \"+name+\" you are \"+str(age)+\" years old\")\n",
    "hello(\"Swarali\",24)"
   ]
  },
  {
   "cell_type": "code",
   "execution_count": 9,
   "id": "edc3ceb6",
   "metadata": {},
   "outputs": [
    {
     "name": "stdout",
     "output_type": "stream",
     "text": [
      "Hello Swarali you are 30 years old\n"
     ]
    }
   ],
   "source": [
    "def hello(name,age=30):#Keyword argument.\n",
    "    print(\"Hello \"+name+\" you are \"+str(age)+\" years old\")\n",
    "hello(\"Swarali\",30)"
   ]
  },
  {
   "cell_type": "code",
   "execution_count": 16,
   "id": "29f885fd",
   "metadata": {},
   "outputs": [
    {
     "name": "stdout",
     "output_type": "stream",
     "text": [
      "('John', 'Jenny')\n",
      "{'age': 30, 'year': 2023}\n"
     ]
    }
   ],
   "source": [
    "def hello(*args,**kwargs):\n",
    "    print(args)\n",
    "    print(kwargs)\n",
    "hello(\"John\",\"Jenny\",age=30,year=2023)\n",
    "\n"
   ]
  },
  {
   "cell_type": "code",
   "execution_count": 12,
   "id": "b94adf50",
   "metadata": {},
   "outputs": [
    {
     "name": "stdout",
     "output_type": "stream",
     "text": [
      "('john', 'jenny', 'jinal')\n",
      "{'age': 30, 'D.O.B': 1985, 'year': 2023}\n"
     ]
    }
   ],
   "source": [
    "def hello(*args,**kwargs):\n",
    "    print(args)\n",
    "    print(kwargs)\n",
    "#hello(\"John\",\"Jenny\",age=30,year=2023)\n",
    "lst=list((\"john\",\"jenny\",\"jinal\"))\n",
    "dictionary={'age':30,'D.O.B':1985,'year':2023}\n",
    "\n",
    "hello(*lst,**dictionary)#method calling.\n",
    "\n",
    "#hello('john','jenny','1','Delhi',42358,age=24,dob=1985)"
   ]
  },
  {
   "cell_type": "code",
   "execution_count": 19,
   "id": "bab3916d",
   "metadata": {},
   "outputs": [
    {
     "name": "stdout",
     "output_type": "stream",
     "text": [
      "Animal species is Dog and says bhoow bhoow\n"
     ]
    }
   ],
   "source": [
    "## Practice of Positional and keyword argument.\n",
    "# Multiple init methods within one class.\n",
    "class Animal:\n",
    "    def __init__(self,name,species):\n",
    "        self.name = name\n",
    "        self.species = species\n",
    "    def __init__(self,name,species,age):\n",
    "        self.name = name\n",
    "        self.species = species\n",
    "        self.age = age  \n",
    "        \n",
    "    def __init__(self,name,species,age,number):\n",
    "        self.name = name\n",
    "        self.species = species\n",
    "        self.age = age\n",
    "        self.number = number\n",
    "        \n",
    "    def make_sound(self,sound):\n",
    "        print (\"Animal species is {} and says {}\".format(self.name,sound))\n",
    "\n",
    "dog = Animal(\"Dog\",\"Mammal\",12,200)\n",
    "dog.make_sound(\"bhoow bhoow\")\n",
    "        "
   ]
  },
  {
   "cell_type": "code",
   "execution_count": 26,
   "id": "42220ad3",
   "metadata": {},
   "outputs": [
    {
     "name": "stdout",
     "output_type": "stream",
     "text": [
      "Animal species is Dog and says bhoow bhoow\n"
     ]
    }
   ],
   "source": [
    "# reference pointer method from c language \n",
    "class Animal:\n",
    "    def __init__(self,*args): # use of positional args.\n",
    "        if len(args) == 1:\n",
    "            self.name= args[0]\n",
    "    \n",
    "        elif len(args) == 2:\n",
    "            self.name = args[0]\n",
    "            self.species = args[1]\n",
    "        \n",
    "        elif len(args) == 3:\n",
    "            self.name = args[0]\n",
    "            self.species = args[1]\n",
    "            self.age = args[2]\n",
    "        \n",
    "    def make_sound(self,sound):\n",
    "        print (\"Animal species is {} and says {}\".format(self.name,sound))\n",
    "\n",
    "dog = Animal(\"Dog\",\"Mammal\")\n",
    "dog.make_sound(\"bhoow bhoow\")"
   ]
  },
  {
   "cell_type": "code",
   "execution_count": null,
   "id": "85f70526",
   "metadata": {},
   "outputs": [],
   "source": []
  }
 ],
 "metadata": {
  "kernelspec": {
   "display_name": "Python 3 (ipykernel)",
   "language": "python",
   "name": "python3"
  },
  "language_info": {
   "codemirror_mode": {
    "name": "ipython",
    "version": 3
   },
   "file_extension": ".py",
   "mimetype": "text/x-python",
   "name": "python",
   "nbconvert_exporter": "python",
   "pygments_lexer": "ipython3",
   "version": "3.9.13"
  }
 },
 "nbformat": 4,
 "nbformat_minor": 5
}
