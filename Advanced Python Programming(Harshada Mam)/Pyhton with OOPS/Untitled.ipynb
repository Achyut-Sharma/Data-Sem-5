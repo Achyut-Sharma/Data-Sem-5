{
 "cells": [
  {
   "cell_type": "markdown",
   "id": "e71d9cf2",
   "metadata": {},
   "source": [
    "# Class & Object."
   ]
  },
  {
   "cell_type": "code",
   "execution_count": 12,
   "id": "a272c47f",
   "metadata": {},
   "outputs": [
    {
     "name": "stdout",
     "output_type": "stream",
     "text": [
      "Id:101\n",
      "Name:Maruti\n"
     ]
    }
   ],
   "source": [
    "# \":\" is used for creating a class.\n",
    "class Cars:\n",
    "    id = 101    # class variables\n",
    "    name= 'Maruti' # class variables.\n",
    "        \n",
    "    def display(self):\n",
    "        print(\"Id:%d\\nName:%s\"%(self.id,self.name)) #\"def\" is used to define method,(self) used as reference point for particular class & object.\n",
    "car = Cars()   ## object creation as \"car\". \n",
    "car.display()  ## method calling by object."
   ]
  },
  {
   "cell_type": "code",
   "execution_count": 14,
   "id": "4ff22468",
   "metadata": {},
   "outputs": [
    {
     "name": "stdout",
     "output_type": "stream",
     "text": [
      "Id:101\n",
      "Name:Maruti\n",
      "Id:101\n",
      "Name:Maruti\n"
     ]
    },
    {
     "ename": "NameError",
     "evalue": "name 'car1' is not defined",
     "output_type": "error",
     "traceback": [
      "\u001b[1;31m---------------------------------------------------------------------------\u001b[0m",
      "\u001b[1;31mNameError\u001b[0m                                 Traceback (most recent call last)",
      "\u001b[1;32m~\\AppData\\Local\\Temp\\ipykernel_15284\\1931829184.py\u001b[0m in \u001b[0;36m<module>\u001b[1;34m\u001b[0m\n\u001b[0;32m     11\u001b[0m \u001b[0mcar1\u001b[0m\u001b[1;33m.\u001b[0m\u001b[0mdisplay\u001b[0m\u001b[1;33m(\u001b[0m\u001b[1;33m)\u001b[0m\u001b[1;33m\u001b[0m\u001b[1;33m\u001b[0m\u001b[0m\n\u001b[0;32m     12\u001b[0m \u001b[1;32mdel\u001b[0m \u001b[0mcar1\u001b[0m        \u001b[1;31m# \"del\" is a keyword used for deletion of an object.\u001b[0m\u001b[1;33m\u001b[0m\u001b[1;33m\u001b[0m\u001b[0m\n\u001b[1;32m---> 13\u001b[1;33m \u001b[0mcar1\u001b[0m\u001b[1;33m.\u001b[0m\u001b[0mdisplay\u001b[0m\u001b[1;33m(\u001b[0m\u001b[1;33m)\u001b[0m\u001b[1;33m\u001b[0m\u001b[1;33m\u001b[0m\u001b[0m\n\u001b[0m",
      "\u001b[1;31mNameError\u001b[0m: name 'car1' is not defined"
     ]
    }
   ],
   "source": [
    "class Cars:\n",
    "    id = 101    # class variables\n",
    "    name= 'Maruti' # class variables.\n",
    "    \n",
    "    def display(self):\n",
    "        print(\"Id:%d\\nName:%s\"%(self.id,self.name)) \n",
    "        \n",
    "car = Cars()   ## object creation as \"car\". \n",
    "car.display() \n",
    "car1 = Cars()\n",
    "car1.display()\n",
    "del car1        # \"del\" is a keyword used for deletion of an object.\n",
    "car1.display()"
   ]
  },
  {
   "cell_type": "markdown",
   "id": "445f3712",
   "metadata": {},
   "source": [
    "## Constructors in Python .\n",
    "\n",
    "### It is used while initialization of object creation. "
   ]
  },
  {
   "cell_type": "code",
   "execution_count": 25,
   "id": "000cf02c",
   "metadata": {},
   "outputs": [
    {
     "name": "stdout",
     "output_type": "stream",
     "text": [
      "ID:101\n",
      "Name:John\n",
      "ID:102\n",
      "Name:David\n"
     ]
    }
   ],
   "source": [
    "## Creating the constructor in python.\n",
    "class Employee:\n",
    "    def __init__(self,name,id): ##syntax for constructor creation.\n",
    "        self.id = id \n",
    "        self.name = name\n",
    "        \n",
    "    def display(self):\n",
    "            print(\"ID:%d\\nName:%s\"%(self.id,self.name))\n",
    "            \n",
    "emp1 = Employee(\"John\",101)\n",
    "emp2 = Employee(\"David\",102)\n",
    "            \n",
    "emp1.display()\n",
    "emp2.display()"
   ]
  },
  {
   "cell_type": "markdown",
   "id": "416f5d55",
   "metadata": {},
   "source": [
    "# Date 23 June "
   ]
  },
  {
   "cell_type": "markdown",
   "id": "bb4d0d3d",
   "metadata": {},
   "source": [
    "### String Formatting (Exact starting of study for exam purposes)."
   ]
  },
  {
   "cell_type": "markdown",
   "id": "b8028e86",
   "metadata": {},
   "source": [
    "1. ## Use of % operator for string formatting (older approach)"
   ]
  },
  {
   "cell_type": "code",
   "execution_count": 6,
   "id": "f18e9c30",
   "metadata": {},
   "outputs": [
    {
     "name": "stdout",
     "output_type": "stream",
     "text": [
      "Student name is Kartik and ID is 100\n"
     ]
    }
   ],
   "source": [
    "Name = \"Kartik\"\n",
    "ID =100\n",
    "print(\"Student name is %s and ID is %d\"%(Name,ID))"
   ]
  },
  {
   "cell_type": "markdown",
   "id": "f28d7738",
   "metadata": {},
   "source": [
    "## Use of format() method for string formatting."
   ]
  },
  {
   "cell_type": "code",
   "execution_count": 8,
   "id": "b95f7017",
   "metadata": {},
   "outputs": [
    {
     "name": "stdout",
     "output_type": "stream",
     "text": [
      "Student name is Karan and ID is 102\n"
     ]
    }
   ],
   "source": [
    "Name =\"Karan\"\n",
    "ID =102\n",
    "print(\"Student name is {} and ID is {}\".format(Name,ID))"
   ]
  },
  {
   "cell_type": "markdown",
   "id": "19687d4b",
   "metadata": {},
   "source": [
    "### use of %f operator for string formatting."
   ]
  },
  {
   "cell_type": "code",
   "execution_count": 12,
   "id": "f811d1f0",
   "metadata": {},
   "outputs": [
    {
     "name": "stdout",
     "output_type": "stream",
     "text": [
      "Student name is Kavya and ID is 102\n"
     ]
    }
   ],
   "source": [
    "Name = \"Kavya\"\n",
    "ID = 102\n",
    "print(f\"Student name is {Name} and ID is {ID}\")"
   ]
  },
  {
   "cell_type": "markdown",
   "id": "18651ad4",
   "metadata": {},
   "source": [
    "\n",
    "# Example 2 for parameterized constructor"
   ]
  },
  {
   "cell_type": "code",
   "execution_count": 18,
   "id": "03e5cfe0",
   "metadata": {},
   "outputs": [
    {
     "name": "stdout",
     "output_type": "stream",
     "text": [
      "car details\n",
      "Car:Toyota,Corolla,2023\n",
      "Mileage:0 miles\n",
      "Car:Toyota,Corolla,2023\n",
      "Mileage:150 miles\n"
     ]
    }
   ],
   "source": [
    "class Car:\n",
    "    def __init__(self,Make,Model,Year):\n",
    "        self.make= Make\n",
    "        self.model =Model\n",
    "        self.year = Year\n",
    "        self.mileage = 0\n",
    "    def drive(self,miles):\n",
    "            self.mileage += miles\n",
    "            \n",
    "    def display_info(self):\n",
    "            print(\"Car:{},{},{}\".format(self.make,self.model,self.year))\n",
    "            print(\"Mileage:{} miles\".format(self.mileage))\n",
    "            \n",
    "# Creating an instance of Car Class\n",
    "print(\"car details\")\n",
    "car1  = Car(\"Toyota\",\"Corolla\",2023)\n",
    "car1.display_info()\n",
    "car1.drive(150)\n",
    "car1.display_info()\n",
    "\n"
   ]
  },
  {
   "cell_type": "markdown",
   "id": "65791362",
   "metadata": {},
   "source": [
    "## Class Variables ( 26 June 23)."
   ]
  },
  {
   "cell_type": "code",
   "execution_count": 2,
   "id": "7ce3618f",
   "metadata": {},
   "outputs": [
    {
     "name": "stdout",
     "output_type": "stream",
     "text": [
      "The no.of objects of class: 4\n"
     ]
    }
   ],
   "source": [
    "## Example 1\n",
    "## Counting the number of objects of a class.\n",
    "\n",
    "class Student:\n",
    "    counter =0 #class variable.\n",
    "    def __init__(self):\n",
    "        Student.counter = Student.counter +1\n",
    "s1=Student()\n",
    "s2 =Student()\n",
    "s3=Student()\n",
    "s4=Student()\n",
    "print(\"The no.of objects of class:\",Student.counter)"
   ]
  },
  {
   "cell_type": "markdown",
   "id": "3ef95fd0",
   "metadata": {},
   "source": [
    "## Python With Non-Parameterized Constructor."
   ]
  },
  {
   "cell_type": "code",
   "execution_count": 16,
   "id": "7fa961f6",
   "metadata": {},
   "outputs": [
    {
     "name": "stdout",
     "output_type": "stream",
     "text": [
      "This is non parameterized Constructor\n",
      "Hello John\n"
     ]
    }
   ],
   "source": [
    "##Example 1 \n",
    "## Non-Parameterized Constructor.\n",
    "class Student:\n",
    "    def __init__(self):\n",
    "        print(\"This is non parameterized Constructor\")\n",
    "        \n",
    "    def show(self,name):\n",
    "        print(\"Hello\",name)\n",
    "        \n",
    "student = Student()\n",
    "student.show(\"John\")\n",
    "        "
   ]
  },
  {
   "cell_type": "markdown",
   "id": "3b5355a2",
   "metadata": {},
   "source": [
    "## Class variables with non paramterized constructor"
   ]
  },
  {
   "cell_type": "code",
   "execution_count": 22,
   "id": "2631dab0",
   "metadata": {},
   "outputs": [
    {
     "name": "stdout",
     "output_type": "stream",
     "text": [
      "This is Non-Parameterized Constructor...\n",
      "Car price is: 6.71 Lakh\n",
      "Car manufactured by Toyota\n",
      "Car Model is: Corolla\n",
      "Car year is: 2023\n"
     ]
    }
   ],
   "source": [
    "class Car:\n",
    "    Make = \"Toyota\"\n",
    "    Model = \"Corolla\"\n",
    "    Year = 2023\n",
    "    \n",
    "    def __init__(self):\n",
    "        Price = \"6.71 Lakh\"\n",
    "        print(\"This is Non-Parameterized Constructor...\")\n",
    "        print(\"Car price is:\",Price)\n",
    "        \n",
    "    def get_info(self):\n",
    "        print(\"Car manufactured by\",Car.Make)\n",
    "        print(\"Car Model is:\",Car.Model)\n",
    "        print(\"Car year is:\",Car.Year)\n",
    "        \n",
    "car1 = Car()\n",
    "car1.get_info()"
   ]
  },
  {
   "cell_type": "code",
   "execution_count": 28,
   "id": "060cc3eb",
   "metadata": {},
   "outputs": [
    {
     "name": "stdout",
     "output_type": "stream",
     "text": [
      "Title is Godfather\n",
      "Author is Francis Ford Coppola\n",
      "year is 1972\n"
     ]
    }
   ],
   "source": [
    "## Assignment 1 practice in class  \n",
    "#Question 1\n",
    "\n",
    "class Book:   ##Class Creation\n",
    "    \n",
    "    def __init__(self):  #\n",
    "        title = \"Godfather\"\n",
    "        author = \"Francis Ford Coppola\"\n",
    "        year = 1972\n",
    "        print(\"Title is {}\\nAuthor is {}\\nyear is {}\".format(title,author,year))\n",
    "\n",
    "Book1 = Book()        "
   ]
  },
  {
   "cell_type": "code",
   "execution_count": 25,
   "id": "0d909354",
   "metadata": {},
   "outputs": [
    {
     "name": "stdout",
     "output_type": "stream",
     "text": [
      "Score of Player is: 270\n",
      "Level of Player is: 3 rd level\n",
      "Name of player is: ABC\n"
     ]
    }
   ],
   "source": [
    "## Assignment practice in class \n",
    "##Assignment 2\n",
    "#Question 2 \n",
    "class Game:\n",
    "    Score = \"270\"\n",
    "    Level = \"3 rd level\"\n",
    "    Name = \"ABC\"\n",
    "    \n",
    "    def __init__(self):\n",
    "        print(\"Score of Player is:\",Game.Score)\n",
    "        print(\"Level of Player is:\",Game.Level)\n",
    "        print(\"Name of player is:\",Game.Name)\n",
    "        \n",
    "game = Game()\n"
   ]
  },
  {
   "cell_type": "markdown",
   "id": "ed4bcf27",
   "metadata": {},
   "source": [
    "## Assignment 1 of  Google Classroom"
   ]
  },
  {
   "cell_type": "code",
   "execution_count": 1,
   "id": "33d89691",
   "metadata": {},
   "outputs": [
    {
     "name": "stdout",
     "output_type": "stream",
     "text": [
      "Product Name: Example Product\n",
      "Price: 10.99\n",
      "Quantity: 5\n"
     ]
    }
   ],
   "source": [
    "class Product:\n",
    "    def __init__(self, name, price, quantity):\n",
    "        self.name = name\n",
    "        self.price = price\n",
    "        self.quantity = quantity\n",
    "\n",
    "    def display_info(self):\n",
    "        print(\"Product Name:\", self.name)\n",
    "        print(\"Price:\", self.price)\n",
    "        print(\"Quantity:\", self.quantity)\n",
    "\n",
    "# Example usage:\n",
    "product1 = Product(\"Example Product\", 10.99, 5)\n",
    "product1.display_info()\n"
   ]
  },
  {
   "cell_type": "code",
   "execution_count": null,
   "id": "e2ac2571",
   "metadata": {},
   "outputs": [],
   "source": []
  }
 ],
 "metadata": {
  "kernelspec": {
   "display_name": "Python 3 (ipykernel)",
   "language": "python",
   "name": "python3"
  },
  "language_info": {
   "codemirror_mode": {
    "name": "ipython",
    "version": 3
   },
   "file_extension": ".py",
   "mimetype": "text/x-python",
   "name": "python",
   "nbconvert_exporter": "python",
   "pygments_lexer": "ipython3",
   "version": "3.9.13"
  }
 },
 "nbformat": 4,
 "nbformat_minor": 5
}
