{
 "cells": [
  {
   "cell_type": "markdown",
   "id": "0ffe12cf",
   "metadata": {},
   "source": [
    "## Types of Methods In Python"
   ]
  },
  {
   "cell_type": "markdown",
   "id": "c5469e25",
   "metadata": {},
   "source": [
    "## Instance, Class And Static Methods."
   ]
  },
  {
   "cell_type": "code",
   "execution_count": 3,
   "id": "743c6fb6",
   "metadata": {},
   "outputs": [
    {
     "name": "stdout",
     "output_type": "stream",
     "text": [
      "Employee Details...\n",
      "Employee Details:Employee name is John and Id is 101\n",
      "Employee Details:Employee name is Jenny and Id is 102\n",
      "\n",
      "\n",
      "Employee Details using the variable...\n",
      "John\n",
      "101\n",
      "\n",
      "\n",
      "Employee Details using get and set method...\n",
      "John\n",
      "H.R.\n",
      "Jenny\n"
     ]
    }
   ],
   "source": [
    "# Instance Method.\n",
    "\n",
    "class Employee:\n",
    "    def __init__(self,name,id):\n",
    "        self.name = name\n",
    "        self.id = id\n",
    "        \n",
    "    def details(self):   #instance methods \n",
    "        print(\"Employee Details:Employee name is {} and Id is {}\".format(self.name,self.id))\n",
    "    def get_name(self): # accessor methods - fetching the values\n",
    "        return self.name\n",
    "    def set_name(self,name): # mutator methods - modifying/set the values.\n",
    "        return name\n",
    "emp1 = Employee(\"John\",101)\n",
    "emp2 = Employee(\"Jenny\",102)\n",
    "\n",
    "print(\"Employee Details...\") #calling the methods.\n",
    "emp1.details()\n",
    "emp2.details()\n",
    "print(\"\\n\")\n",
    "\n",
    "# accessing the value using the variable \n",
    "print(\"Employee Details using the variable...\")\n",
    "print(emp1.name)\n",
    "print(emp1.id)\n",
    "print(\"\\n\")\n",
    "\n",
    "# accessing the value using the get set methods.\n",
    "print(\"Employee Details using get and set method...\")\n",
    "print(emp1.get_name())\n",
    "print(emp2.set_name('H.R.'))\n",
    "print(emp2.name)"
   ]
  },
  {
   "cell_type": "code",
   "execution_count": 8,
   "id": "f7ce459d",
   "metadata": {},
   "outputs": [
    {
     "name": "stdout",
     "output_type": "stream",
     "text": [
      "Employee name is jenny and Id is 202\n",
      "Employee name is john and Id is 101\n",
      "Jenny work in T.C.S\n",
      "John work in T.C.S\n"
     ]
    }
   ],
   "source": [
    "# Class Method.\n",
    "class Employee:\n",
    "    company =\"T.C.S\" #Class Variable.\n",
    "    def __init__(self,name,id):\n",
    "            self.name = name\n",
    "            self.id = id\n",
    "    def details(self):\n",
    "        print(\"Employee name is {} and Id is {}\".format(self.name,self.id))\n",
    "        \n",
    "    @classmethod #decorator\n",
    "    def display(cls):         # here 'cls' means 'self' for reference .\n",
    "            return cls.company\n",
    "        \n",
    "emp1 = Employee(\"jenny\",202)\n",
    "emp2 = Employee(\"john\",101)\n",
    "emp1.details() #accessing the instance method.\n",
    "emp2.details()\n",
    "\n",
    "print(\"Jenny work in\",Employee.display()) #accessing the class\n",
    "print(\"John work in\",Employee.display())\n"
   ]
  },
  {
   "cell_type": "code",
   "execution_count": null,
   "id": "872a6f94",
   "metadata": {},
   "outputs": [],
   "source": [
    "#static method.\n",
    "\n",
    "class Employee:\n",
    "    def __init__(self,name,id):\n",
    "        self.name = name\n",
    "        self.id = id\n",
    "        \n",
    "        @staticmethod #decorator\n",
    "        def display() "
   ]
  },
  {
   "cell_type": "markdown",
   "id": "a303fe94",
   "metadata": {},
   "source": [
    "## 7 July 23 Friday."
   ]
  },
  {
   "cell_type": "markdown",
   "id": "92c0706d",
   "metadata": {},
   "source": [
    "## Python Inheritance"
   ]
  },
  {
   "cell_type": "markdown",
   "id": "1e300bcb",
   "metadata": {},
   "source": [
    "# 1. Single Level Inheritance :-\n",
    "# (In exam except Single Level Inheritance every inheritance will be asked)."
   ]
  },
  {
   "cell_type": "code",
   "execution_count": 10,
   "id": "83f54086",
   "metadata": {},
   "outputs": [
    {
     "name": "stdout",
     "output_type": "stream",
     "text": [
      "Product is Paneer (100 grams) and Price is 100 Rupee.\n",
      "Paneer (100grams) contains 18 grams of Protein.\n"
     ]
    }
   ],
   "source": [
    "## Single Level Inheritance there is on parent class and one child class.\n",
    "\n",
    "class DairyProduct: # Parent Class.\n",
    "    \n",
    "    def __init__(self,p_name,p_price):\n",
    "        self.name = p_name\n",
    "        self.price = p_price\n",
    "        \n",
    "    def product(self): #instance method.\n",
    "        print(\"Product is {} (100 grams) and Price is {} Rupee.\".format(self.name,self.price))\n",
    "        \n",
    "class Paneer(DairyProduct): # Child Class.\n",
    "    def details(self,protein): # instance method.\n",
    "        print(\"{} (100grams) contains {} grams of Protein.\".format(self.name,protein))\n",
    "\n",
    "paneer = Paneer(\"Paneer\",100)\n",
    "paneer.product()\n",
    "paneer.details(18)"
   ]
  },
  {
   "cell_type": "markdown",
   "id": "bf316bb1",
   "metadata": {},
   "source": [
    "# 2. MultiLevel Inheritance:-"
   ]
  },
  {
   "cell_type": "code",
   "execution_count": 21,
   "id": "7832d47d",
   "metadata": {},
   "outputs": [
    {
     "name": "stdout",
     "output_type": "stream",
     "text": [
      "Product is Butter (100 grams) and Price is 220 Rupee.\n",
      "Butter (100grams) contains 0.9grams of protein\n",
      "Mnaufacturing date 5 th July\n",
      "___________________________\n",
      "Product is Paneer (100 grams) and Price is 110 Rupee.\n",
      "Paneer (100grams) contains 18grams of protein\n",
      "Mnaufacturing date 10 th July\n"
     ]
    }
   ],
   "source": [
    "#example -1\n",
    "class DairyProduct: # Parent Class.\n",
    "    \n",
    "    def __init__(self,p_name,p_price):\n",
    "        self.name = p_name\n",
    "        self.price = p_price\n",
    "        \n",
    "    def product(self): #instance method.\n",
    "        print(\"Product is {} (100 grams) and Price is {} Rupee.\".format(self.name,self.price))\n",
    "        \n",
    "class Paneer(DairyProduct):\n",
    "    def __init__(self,p_name,p_price,mdate):\n",
    "        super().__init__(p_name,p_price) #to access parent class constructor we use 'super' keyword in child class.\n",
    "        self.mdate = mdate\n",
    "        \n",
    "    def details(self,protein):\n",
    "        print(\"{} (100grams) contains {}grams of protein\".format(self.name,protein))\n",
    "        \n",
    "    def m_details(self):\n",
    "        print(f\"Mnaufacturing date {self.mdate}\")\n",
    "        \n",
    "class Butter(Paneer):\n",
    "    def __init__(self,p_name,p_price,mdate,edate):\n",
    "        super().__init__(p_name,p_price,mdate) #to access parent constructor\n",
    "        self.edate = edate\n",
    "        \n",
    "    def e_details(self,protein):\n",
    "        print(f\"Expiry date {self.edate}\")\n",
    "    \n",
    "butter1 = Butter(\"Butter\",220,\"5 th July\",\"13 Nov\")\n",
    "butter1.product()\n",
    "butter1.details(0.9)\n",
    "butter1.m_details()   \n",
    "\n",
    "print(\"___________________________\")\n",
    "butter2 = Butter(\"Paneer\",110,\"10 th July\",\"15 August\")\n",
    "butter2.product()\n",
    "butter2.details(18)\n",
    "butter2.m_details()   "
   ]
  },
  {
   "cell_type": "code",
   "execution_count": null,
   "id": "aab80ce3",
   "metadata": {},
   "outputs": [],
   "source": []
  },
  {
   "cell_type": "code",
   "execution_count": null,
   "id": "f29d15e8",
   "metadata": {},
   "outputs": [],
   "source": []
  }
 ],
 "metadata": {
  "kernelspec": {
   "display_name": "Python 3 (ipykernel)",
   "language": "python",
   "name": "python3"
  },
  "language_info": {
   "codemirror_mode": {
    "name": "ipython",
    "version": 3
   },
   "file_extension": ".py",
   "mimetype": "text/x-python",
   "name": "python",
   "nbconvert_exporter": "python",
   "pygments_lexer": "ipython3",
   "version": "3.9.13"
  }
 },
 "nbformat": 4,
 "nbformat_minor": 5
}
