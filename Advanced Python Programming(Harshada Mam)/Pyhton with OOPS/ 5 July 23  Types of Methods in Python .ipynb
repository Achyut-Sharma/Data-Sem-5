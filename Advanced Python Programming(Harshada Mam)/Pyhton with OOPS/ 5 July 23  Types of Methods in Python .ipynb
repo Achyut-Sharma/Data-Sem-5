{
 "cells": [
  {
   "cell_type": "markdown",
   "id": "0ffe12cf",
   "metadata": {},
   "source": [
    "## Types of Methods In Python"
   ]
  },
  {
   "cell_type": "markdown",
   "id": "c5469e25",
   "metadata": {},
   "source": [
    "## Instance, Class And Static Methods."
   ]
  },
  {
   "cell_type": "code",
   "execution_count": 3,
   "id": "743c6fb6",
   "metadata": {},
   "outputs": [
    {
     "name": "stdout",
     "output_type": "stream",
     "text": [
      "Employee Details...\n",
      "Employee Details:Employee name is John and Id is 101\n",
      "Employee Details:Employee name is Jenny and Id is 102\n",
      "\n",
      "\n",
      "Employee Details using the variable...\n",
      "John\n",
      "101\n",
      "\n",
      "\n",
      "Employee Details using get and set method...\n",
      "John\n",
      "H.R.\n",
      "Jenny\n"
     ]
    }
   ],
   "source": [
    "# Instance Method.\n",
    "\n",
    "class Employee:\n",
    "    def __init__(self,name,id):\n",
    "        self.name = name\n",
    "        self.id = id\n",
    "        \n",
    "    def details(self):   #instance methods \n",
    "        print(\"Employee Details:Employee name is {} and Id is {}\".format(self.name,self.id))\n",
    "    def get_name(self): # accessor methods - fetching the values\n",
    "        return self.name\n",
    "    def set_name(self,name): # mutator methods - modifying/set the values.\n",
    "        return name\n",
    "emp1 = Employee(\"John\",101)\n",
    "emp2 = Employee(\"Jenny\",102)\n",
    "\n",
    "print(\"Employee Details...\") #calling the methods.\n",
    "emp1.details()\n",
    "emp2.details()\n",
    "print(\"\\n\")\n",
    "\n",
    "# accessing the value using the variable \n",
    "print(\"Employee Details using the variable...\")\n",
    "print(emp1.name)\n",
    "print(emp1.id)\n",
    "print(\"\\n\")\n",
    "\n",
    "# accessing the value using the get set methods.\n",
    "print(\"Employee Details using get and set method...\")\n",
    "print(emp1.get_name())\n",
    "print(emp2.set_name('H.R.'))\n",
    "print(emp2.name)"
   ]
  },
  {
   "cell_type": "code",
   "execution_count": 8,
   "id": "f7ce459d",
   "metadata": {},
   "outputs": [
    {
     "name": "stdout",
     "output_type": "stream",
     "text": [
      "Employee name is jenny and Id is 202\n",
      "Employee name is john and Id is 101\n",
      "Jenny work in T.C.S\n",
      "John work in T.C.S\n"
     ]
    }
   ],
   "source": [
    "# Class Method.\n",
    "class Employee:\n",
    "    company =\"T.C.S\" #Class Variable.\n",
    "    def __init__(self,name,id):\n",
    "            self.name = name\n",
    "            self.id = id\n",
    "    def details(self):\n",
    "        print(\"Employee name is {} and Id is {}\".format(self.name,self.id))\n",
    "        \n",
    "    @classmethod #decorator\n",
    "    def display(cls):         # here 'cls' means 'self' for reference .\n",
    "            return cls.company\n",
    "        \n",
    "emp1 = Employee(\"jenny\",202)\n",
    "emp2 = Employee(\"john\",101)\n",
    "emp1.details() #accessing the instance method.\n",
    "emp2.details()\n",
    "\n",
    "print(\"Jenny work in\",Employee.display()) #accessing the class\n",
    "print(\"John work in\",Employee.display())\n"
   ]
  },
  {
   "cell_type": "code",
   "execution_count": null,
   "id": "872a6f94",
   "metadata": {},
   "outputs": [],
   "source": [
    "#static method.\n",
    "\n",
    "class Employee:\n",
    "    def __init__(self,name,id):\n",
    "        self.name = name\n",
    "        self.id = id\n",
    "        \n",
    "        @staticmethod #decorator\n",
    "        def display() "
   ]
  }
 ],
 "metadata": {
  "kernelspec": {
   "display_name": "Python 3 (ipykernel)",
   "language": "python",
   "name": "python3"
  },
  "language_info": {
   "codemirror_mode": {
    "name": "ipython",
    "version": 3
   },
   "file_extension": ".py",
   "mimetype": "text/x-python",
   "name": "python",
   "nbconvert_exporter": "python",
   "pygments_lexer": "ipython3",
   "version": "3.9.13"
  }
 },
 "nbformat": 4,
 "nbformat_minor": 5
}
