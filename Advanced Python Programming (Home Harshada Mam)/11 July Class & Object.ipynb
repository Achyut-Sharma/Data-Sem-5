{
 "cells": [
  {
   "cell_type": "code",
   "execution_count": 2,
   "id": "a914b066",
   "metadata": {},
   "outputs": [
    {
     "name": "stdout",
     "output_type": "stream",
     "text": [
      "i am making a call\n",
      "i am playing game\n"
     ]
    }
   ],
   "source": [
    "class Phone:                             ## create a class \"Phone\"\n",
    "    def make_call(self):                 ## define a method \"make_call\" with no parameter except \"self\"  \n",
    "        print(\"i am making a call\")      ## print the statement within make_call.\n",
    "    def play_game(self):                  ## define a method called \"play_game\" except self.\n",
    "        print(\"i am playing game\")        ## print statement within play_game.\n",
    "p1 = Phone()                              ## create object \"p1\" with using \"Phone\" class .\n",
    "p1.make_call()                             ## call method \"make_call\" by p1 object.\n",
    "p1.play_game()                               ## call method \"play_game\" by p1 object"
   ]
  },
  {
   "cell_type": "code",
   "execution_count": 8,
   "id": "7f22e6fb",
   "metadata": {},
   "outputs": [
    {
     "data": {
      "text/plain": [
       "<bound method Phone.show_cost of <__main__.Phone object at 0x000001DB1111DDF0>>"
      ]
     },
     "execution_count": 8,
     "metadata": {},
     "output_type": "execute_result"
    }
   ],
   "source": [
    "## Adding Parameters in Class \"Phone\".\n",
    "class Phone:\n",
    "    def set_color(self,color):\n",
    "            self.color = color\n",
    "    def set_cost(self,cost):\n",
    "          self.cost = cost\n",
    "    def show_color(self):\n",
    "        return self.color\n",
    "    def show_cost(self):\n",
    "        return self.show_cost\n",
    "    def make_call(self):\n",
    "        print(\"i am making call\")\n",
    "    def play_game(self):\n",
    "        print(\"i am playing game\")\n"
   ]
  },
  {
   "cell_type": "code",
   "execution_count": 10,
   "id": "34096c20",
   "metadata": {},
   "outputs": [
    {
     "data": {
      "text/plain": [
       "<bound method Phone.show_cost of <__main__.Phone object at 0x000001DB112C5940>>"
      ]
     },
     "execution_count": 10,
     "metadata": {},
     "output_type": "execute_result"
    }
   ],
   "source": [
    "p2 = Phone()\n",
    "p2.set_color(\"green\")\n",
    "p2.set_cost(50000)\n",
    "p2.show_color()\n",
    "p2.show_cost()"
   ]
  }
 ],
 "metadata": {
  "kernelspec": {
   "display_name": "Python 3 (ipykernel)",
   "language": "python",
   "name": "python3"
  },
  "language_info": {
   "codemirror_mode": {
    "name": "ipython",
    "version": 3
   },
   "file_extension": ".py",
   "mimetype": "text/x-python",
   "name": "python",
   "nbconvert_exporter": "python",
   "pygments_lexer": "ipython3",
   "version": "3.9.13"
  }
 },
 "nbformat": 4,
 "nbformat_minor": 5
}
