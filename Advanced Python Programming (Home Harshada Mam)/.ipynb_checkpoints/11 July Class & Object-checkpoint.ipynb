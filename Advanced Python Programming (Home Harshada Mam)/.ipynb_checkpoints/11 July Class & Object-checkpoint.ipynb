{
 "cells": [
  {
   "cell_type": "code",
   "execution_count": 1,
   "id": "a914b066",
   "metadata": {},
   "outputs": [
    {
     "name": "stdout",
     "output_type": "stream",
     "text": [
      "i am making a call\n",
      "i am playing game\n"
     ]
    }
   ],
   "source": [
    "class Phone:                             ## create a class \"Phone\"\n",
    "    def make_call(self):                 ## define a method \"make_call\" with no parameter except \"self\"  \n",
    "        print(\"i am making a call\")      ## print the statement within make_call.\n",
    "    def play_game(self):                  ## define a method called \"play_game\" except self.\n",
    "        print(\"i am playing game\")        ## print statement within play_game.\n",
    "p1 = Phone()                              ## create object \"p1\" with using \"Phone\" class .\n",
    "p1.make_call()                             ## call method \"make_call\" by p1 object.\n",
    "p1.play_game()                               ## call method \"play_game\" by p1 object"
   ]
  },
  {
   "cell_type": "code",
   "execution_count": 2,
   "id": "4f799905",
   "metadata": {},
   "outputs": [
    {
     "name": "stdout",
     "output_type": "stream",
     "text": [
      "color of Phone is green\n",
      "Cost of phone is 50000\n"
     ]
    }
   ],
   "source": [
    "class Phone:\n",
    "    def set_color(self, color):\n",
    "        self.color = color\n",
    "\n",
    "    def set_cost(self, cost):\n",
    "        self.cost = cost\n",
    "\n",
    "    def show_color(self):\n",
    "        return self.color\n",
    "\n",
    "    def show_cost(self):\n",
    "        return self.cost\n",
    "\n",
    "    def make_call(self):\n",
    "        print(\"I am making a call\")\n",
    "\n",
    "    def play_game(self):\n",
    "        print(\"I am playing a game\")\n",
    "\n",
    "p2 = Phone()\n",
    "p2.set_color(\"color of Phone is green\")\n",
    "p2.set_cost(\"Cost of phone is 50000\")\n",
    "print(p2.show_color())\n",
    "print(p2.show_cost())\n"
   ]
  },
  {
   "cell_type": "markdown",
   "id": "2a06ae58",
   "metadata": {},
   "source": [
    "## Date :- 12/July/23"
   ]
  },
  {
   "cell_type": "markdown",
   "id": "c3733517",
   "metadata": {},
   "source": [
    "## Creating a Class With a Constructor "
   ]
  },
  {
   "cell_type": "code",
   "execution_count": 3,
   "id": "53a72864",
   "metadata": {},
   "outputs": [
    {
     "name": "stdout",
     "output_type": "stream",
     "text": [
      "Name of Employee is  Achyut\n",
      "Age of Employee is  19\n",
      "Salary of Employee is  50000\n",
      "Gender of Employee is  Male\n"
     ]
    }
   ],
   "source": [
    "class Employee:\n",
    "    def __init__(self,name,age,salary,gender):\n",
    "        self.name = name\n",
    "        self.age = age\n",
    "        self.salary = salary\n",
    "        self.gender = gender\n",
    "    def employee_details(self):\n",
    "        print(\"Name of Employee is \",self.name)\n",
    "        print(\"Age of Employee is \",self.age)\n",
    "        print(\"Salary of Employee is \",self.salary)\n",
    "        print(\"Gender of Employee is \",self.gender)\n",
    "\n",
    "e1 = Employee(\"Achyut\",19,50000,\"Male\")\n",
    "e1.employee_details()"
   ]
  },
  {
   "cell_type": "code",
   "execution_count": 4,
   "id": "f5342525",
   "metadata": {},
   "outputs": [],
   "source": [
    "## 1. Write a Python class named Rectangle that has two attributes, \n",
    "## length and width, and a constructor that takes two arguments to initialize. "
   ]
  },
  {
   "cell_type": "code",
   "execution_count": 5,
   "id": "2e910955",
   "metadata": {},
   "outputs": [],
   "source": [
    "## 2.Write a Python class named Circle that has one attribute, radius, and a constructor that takes one argument to initialize this attribute. \n",
    "## The constructor should also set the value of the constant pi to 3.14."
   ]
  },
  {
   "cell_type": "code",
   "execution_count": 6,
   "id": "ba91d3d0",
   "metadata": {},
   "outputs": [],
   "source": [
    "## 3.Write a Python class named Student that has three attributes, name, age, and major, and a constructor that takes three arguments to initialize these attributes. \n",
    "## The constructor should also set the value of the attribute enrolled to True.\n"
   ]
  },
  {
   "cell_type": "code",
   "execution_count": 7,
   "id": "db8ec494",
   "metadata": {},
   "outputs": [],
   "source": [
    "## 4.Write a Python class named BankAccount that has two attributes, balance and interest_rate, and a constructor that takes two arguments to initialize these attributes. \n",
    "## The constructor should also set the value of the attribute account_number to a random 10-digit number."
   ]
  },
  {
   "cell_type": "code",
   "execution_count": 8,
   "id": "19852df8",
   "metadata": {},
   "outputs": [],
   "source": [
    "## Q.1\n",
    "class Rectangle:\n",
    "    def __init__(self,length,width):\n",
    "        self.length = length\n",
    "        self.width = width\n",
    "    def display(self):\n",
    "        print(\"Length of Rectangle is \",self.length)\n",
    "        print(\"Width of Rectangle is \",self.width)"
   ]
  },
  {
   "cell_type": "code",
   "execution_count": 9,
   "id": "cab16e5f",
   "metadata": {},
   "outputs": [
    {
     "name": "stdout",
     "output_type": "stream",
     "text": [
      "Length of Rectangle is  20\n",
      "Width of Rectangle is  30\n"
     ]
    }
   ],
   "source": [
    "r1 = Rectangle(20,30)\n",
    "r1.display()"
   ]
  },
  {
   "cell_type": "code",
   "execution_count": 10,
   "id": "e0e0ff7d",
   "metadata": {},
   "outputs": [],
   "source": [
    "## Q.2\n",
    "class Circle:\n",
    "    def __init__(self,radius,pi=3.14):\n",
    "        self.radius = radius\n",
    "        self.pi = pi\n",
    "    def display(self):\n",
    "        print(\" The radius of Circle is \",self.radius)\n",
    "        print(\"Value of PI is \",self.pi)"
   ]
  },
  {
   "cell_type": "code",
   "execution_count": 11,
   "id": "f12b571e",
   "metadata": {},
   "outputs": [
    {
     "name": "stdout",
     "output_type": "stream",
     "text": [
      " The radius of Circle is  12\n",
      "Value of PI is  3.14\n"
     ]
    }
   ],
   "source": [
    "c1 = Circle(12)\n",
    "c1.display()"
   ]
  },
  {
   "cell_type": "code",
   "execution_count": 12,
   "id": "00c6aab9",
   "metadata": {},
   "outputs": [],
   "source": [
    "## Q.3\n",
    "class Student:\n",
    "    def __init__(self,name,age,major):\n",
    "        self.name = name\n",
    "        self.age = age\n",
    "        self.major = major\n",
    "        self.enrolled = \"True\"\n",
    "    def display(self):\n",
    "        print(\"Name of Student is \",self.name)\n",
    "        print(\"Age of Student is \",self.age)\n",
    "        print(\"Major of Student is \",self.major)\n",
    "        print(\"Enrolled\",self.enrolled)"
   ]
  },
  {
   "cell_type": "code",
   "execution_count": 13,
   "id": "905aa103",
   "metadata": {},
   "outputs": [
    {
     "name": "stdout",
     "output_type": "stream",
     "text": [
      "Name of Student is  Achyut\n",
      "Age of Student is  19\n",
      "Major of Student is  Data\n",
      "Enrolled True\n"
     ]
    }
   ],
   "source": [
    "s1 = Student(\"Achyut\",19,\"Data\")\n",
    "s1.display()"
   ]
  },
  {
   "cell_type": "code",
   "execution_count": 20,
   "id": "f08d2371",
   "metadata": {},
   "outputs": [],
   "source": [
    "## Q.4\n",
    "class BankAccount:\n",
    "    def __init__(self,balance,interest_rate,acc_no =682755529658):\n",
    "        self.balance = balance\n",
    "        self.interest_rate = interest_rate\n",
    "        self.acc_no = acc_no \n",
    "    def show(self):\n",
    "        print(\"Balance in Bank is \",self.balance)\n",
    "        print(\"Interest Rate Of Bank is \",self.interest_rate)\n",
    "        print(\"Account no of Bank is \",self.acc_no)\n",
    "        "
   ]
  },
  {
   "cell_type": "code",
   "execution_count": 21,
   "id": "123102f5",
   "metadata": {},
   "outputs": [
    {
     "name": "stdout",
     "output_type": "stream",
     "text": [
      "Balance in Bank is  90000\n",
      "Interest Rate Of Bank is  12\n",
      "Account no of Bank is  682755529658\n"
     ]
    }
   ],
   "source": [
    "b1 = BankAccount(90000,12)\n",
    "b1.show()"
   ]
  }
 ],
 "metadata": {
  "kernelspec": {
   "display_name": "Python 3 (ipykernel)",
   "language": "python",
   "name": "python3"
  },
  "language_info": {
   "codemirror_mode": {
    "name": "ipython",
    "version": 3
   },
   "file_extension": ".py",
   "mimetype": "text/x-python",
   "name": "python",
   "nbconvert_exporter": "python",
   "pygments_lexer": "ipython3",
   "version": "3.9.13"
  }
 },
 "nbformat": 4,
 "nbformat_minor": 5
}
