{
 "cells": [
  {
   "cell_type": "code",
   "execution_count": 2,
   "id": "935e91d1",
   "metadata": {},
   "outputs": [],
   "source": [
    "## Inheritance in Python\n",
    "\n",
    "class Vehicle:\n",
    "    def __init__(self,mileage,cost):\n",
    "        self.mileage = mileage\n",
    "        self.cost = cost\n",
    "    def show_vehicle_details(self):\n",
    "        print(\"Milage of vehicle is \",self.mileage)\n",
    "        print(\"Cost of Vehicle is \",self.cost)\n",
    "        print(\"This is a vehicle\")"
   ]
  },
  {
   "cell_type": "code",
   "execution_count": 4,
   "id": "4d22718f",
   "metadata": {},
   "outputs": [
    {
     "name": "stdout",
     "output_type": "stream",
     "text": [
      "Milage of vehicle is  300\n",
      "Cost of Vehicle is  500000\n",
      "This is a vehicle\n"
     ]
    }
   ],
   "source": [
    "v1 = Vehicle(300,500000)\n",
    "v1.show_vehicle_details()"
   ]
  },
  {
   "cell_type": "code",
   "execution_count": 8,
   "id": "96be5185",
   "metadata": {},
   "outputs": [],
   "source": [
    "class Car(Vehicle):\n",
    "    def show_car_details(self):\n",
    "        print(\"This is a car\")"
   ]
  },
  {
   "cell_type": "code",
   "execution_count": 10,
   "id": "a5857034",
   "metadata": {},
   "outputs": [
    {
     "name": "stdout",
     "output_type": "stream",
     "text": [
      "Milage of vehicle is  250\n",
      "Cost of Vehicle is  600000\n",
      "This is a vehicle\n",
      "This is a car\n"
     ]
    }
   ],
   "source": [
    "c1 = Car(250,600000)\n",
    "c1.show_vehicle_details()\n",
    "c1.show_car_details()"
   ]
  },
  {
   "cell_type": "markdown",
   "id": "cf47b465",
   "metadata": {},
   "source": [
    "## Overiding init method."
   ]
  },
  {
   "cell_type": "code",
   "execution_count": null,
   "id": "1689caf6",
   "metadata": {},
   "outputs": [],
   "source": [
    "class Bike(Vehicle):\n",
    "    def __init__(self,mileage,cost,tyres,hp):\n",
    "        super().__init__(mileage,cost)\n",
    "        self.tyres = tyres\n",
    "        self.hp = hp\n",
    "    def bike_details(self):\n",
    "        print(\"This is bike\")\n",
    "        print(\"No.Of Tyres \",self.tyres)\n",
    "        print(\"Horse Power of Bike is \",self.hp)\n",
    "        "
   ]
  },
  {
   "cell_type": "code",
   "execution_count": 11,
   "id": "d59763e1",
   "metadata": {},
   "outputs": [
    {
     "ename": "NameError",
     "evalue": "name 'Bike' is not defined",
     "output_type": "error",
     "traceback": [
      "\u001b[1;31m---------------------------------------------------------------------------\u001b[0m",
      "\u001b[1;31mNameError\u001b[0m                                 Traceback (most recent call last)",
      "\u001b[1;32m~\\AppData\\Local\\Temp\\ipykernel_14160\\1795315507.py\u001b[0m in \u001b[0;36m<module>\u001b[1;34m\u001b[0m\n\u001b[1;32m----> 1\u001b[1;33m \u001b[0mb1\u001b[0m \u001b[1;33m=\u001b[0m \u001b[0mBike\u001b[0m\u001b[1;33m(\u001b[0m\u001b[1;36m200\u001b[0m\u001b[1;33m,\u001b[0m\u001b[1;36m300000\u001b[0m\u001b[1;33m,\u001b[0m\u001b[1;36m4\u001b[0m\u001b[1;33m,\u001b[0m\u001b[1;36m989\u001b[0m\u001b[1;33m)\u001b[0m\u001b[1;33m\u001b[0m\u001b[1;33m\u001b[0m\u001b[0m\n\u001b[0m\u001b[0;32m      2\u001b[0m \u001b[0mb1\u001b[0m\u001b[1;33m.\u001b[0m\u001b[0mbike_details\u001b[0m\u001b[1;33m(\u001b[0m\u001b[1;33m)\u001b[0m\u001b[1;33m\u001b[0m\u001b[1;33m\u001b[0m\u001b[0m\n",
      "\u001b[1;31mNameError\u001b[0m: name 'Bike' is not defined"
     ]
    }
   ],
   "source": [
    "b1 = Bike(200,300000,4,989)\n",
    "b1.bike_details()"
   ]
  }
 ],
 "metadata": {
  "kernelspec": {
   "display_name": "Python 3 (ipykernel)",
   "language": "python",
   "name": "python3"
  },
  "language_info": {
   "codemirror_mode": {
    "name": "ipython",
    "version": 3
   },
   "file_extension": ".py",
   "mimetype": "text/x-python",
   "name": "python",
   "nbconvert_exporter": "python",
   "pygments_lexer": "ipython3",
   "version": "3.9.13"
  }
 },
 "nbformat": 4,
 "nbformat_minor": 5
}
