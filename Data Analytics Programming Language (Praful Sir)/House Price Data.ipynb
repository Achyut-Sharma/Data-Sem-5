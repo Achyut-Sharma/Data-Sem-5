{
 "cells": [
  {
   "cell_type": "markdown",
   "id": "dff38d71",
   "metadata": {},
   "source": [
    "\n",
    "## House Price DataSet "
   ]
  },
  {
   "cell_type": "markdown",
   "id": "7222e248",
   "metadata": {},
   "source": [
    "### Date: 03/07/2023"
   ]
  },
  {
   "cell_type": "raw",
   "id": "f3f5475a",
   "metadata": {},
   "source": [
    "**About Dataset**\n",
    "This data set was very useful when I worked on a project .As a Kaggle contributer I am uploading for others to gain knowledge by implementing algorithms.\n",
    "\n",
    "Attributes:\n",
    "1.Id(int)\n",
    "2.Date(int)\n",
    "3.number of bedrooms(int)\n",
    "4.number of bathrooms(float)-convert it into 'int' ,just to give you some practice!\n",
    "5.living area(int)\n",
    "6.lot area(int)\n",
    "7.water front present(float)-convert it into 'int'\n",
    "8.number of views(int)"
   ]
  },
  {
   "cell_type": "code",
   "execution_count": 1,
   "id": "361a2ba8",
   "metadata": {},
   "outputs": [],
   "source": [
    "# Import the packages.\n",
    "import numpy as np\n",
    "import pandas as pd"
   ]
  },
  {
   "cell_type": "code",
   "execution_count": 2,
   "id": "9aca7423",
   "metadata": {},
   "outputs": [
    {
     "ename": "FileNotFoundError",
     "evalue": "[Errno 2] No such file or directory: 'House Price India.csv'",
     "output_type": "error",
     "traceback": [
      "\u001b[1;31m---------------------------------------------------------------------------\u001b[0m",
      "\u001b[1;31mFileNotFoundError\u001b[0m                         Traceback (most recent call last)",
      "\u001b[1;32m~\\AppData\\Local\\Temp\\ipykernel_4796\\3330339372.py\u001b[0m in \u001b[0;36m<module>\u001b[1;34m\u001b[0m\n\u001b[0;32m      1\u001b[0m \u001b[1;31m# Load the dataset.\u001b[0m\u001b[1;33m\u001b[0m\u001b[1;33m\u001b[0m\u001b[0m\n\u001b[1;32m----> 2\u001b[1;33m \u001b[0mHouse_Price_Dataset\u001b[0m \u001b[1;33m=\u001b[0m \u001b[0mpd\u001b[0m\u001b[1;33m.\u001b[0m\u001b[0mread_csv\u001b[0m\u001b[1;33m(\u001b[0m\u001b[1;34m\"House Price India.csv\"\u001b[0m\u001b[1;33m)\u001b[0m\u001b[1;33m\u001b[0m\u001b[1;33m\u001b[0m\u001b[0m\n\u001b[0m",
      "\u001b[1;32m~\\Anaconda3\\lib\\site-packages\\pandas\\util\\_decorators.py\u001b[0m in \u001b[0;36mwrapper\u001b[1;34m(*args, **kwargs)\u001b[0m\n\u001b[0;32m    309\u001b[0m                     \u001b[0mstacklevel\u001b[0m\u001b[1;33m=\u001b[0m\u001b[0mstacklevel\u001b[0m\u001b[1;33m,\u001b[0m\u001b[1;33m\u001b[0m\u001b[1;33m\u001b[0m\u001b[0m\n\u001b[0;32m    310\u001b[0m                 )\n\u001b[1;32m--> 311\u001b[1;33m             \u001b[1;32mreturn\u001b[0m \u001b[0mfunc\u001b[0m\u001b[1;33m(\u001b[0m\u001b[1;33m*\u001b[0m\u001b[0margs\u001b[0m\u001b[1;33m,\u001b[0m \u001b[1;33m**\u001b[0m\u001b[0mkwargs\u001b[0m\u001b[1;33m)\u001b[0m\u001b[1;33m\u001b[0m\u001b[1;33m\u001b[0m\u001b[0m\n\u001b[0m\u001b[0;32m    312\u001b[0m \u001b[1;33m\u001b[0m\u001b[0m\n\u001b[0;32m    313\u001b[0m         \u001b[1;32mreturn\u001b[0m \u001b[0mwrapper\u001b[0m\u001b[1;33m\u001b[0m\u001b[1;33m\u001b[0m\u001b[0m\n",
      "\u001b[1;32m~\\Anaconda3\\lib\\site-packages\\pandas\\io\\parsers\\readers.py\u001b[0m in \u001b[0;36mread_csv\u001b[1;34m(filepath_or_buffer, sep, delimiter, header, names, index_col, usecols, squeeze, prefix, mangle_dupe_cols, dtype, engine, converters, true_values, false_values, skipinitialspace, skiprows, skipfooter, nrows, na_values, keep_default_na, na_filter, verbose, skip_blank_lines, parse_dates, infer_datetime_format, keep_date_col, date_parser, dayfirst, cache_dates, iterator, chunksize, compression, thousands, decimal, lineterminator, quotechar, quoting, doublequote, escapechar, comment, encoding, encoding_errors, dialect, error_bad_lines, warn_bad_lines, on_bad_lines, delim_whitespace, low_memory, memory_map, float_precision, storage_options)\u001b[0m\n\u001b[0;32m    676\u001b[0m     \u001b[0mkwds\u001b[0m\u001b[1;33m.\u001b[0m\u001b[0mupdate\u001b[0m\u001b[1;33m(\u001b[0m\u001b[0mkwds_defaults\u001b[0m\u001b[1;33m)\u001b[0m\u001b[1;33m\u001b[0m\u001b[1;33m\u001b[0m\u001b[0m\n\u001b[0;32m    677\u001b[0m \u001b[1;33m\u001b[0m\u001b[0m\n\u001b[1;32m--> 678\u001b[1;33m     \u001b[1;32mreturn\u001b[0m \u001b[0m_read\u001b[0m\u001b[1;33m(\u001b[0m\u001b[0mfilepath_or_buffer\u001b[0m\u001b[1;33m,\u001b[0m \u001b[0mkwds\u001b[0m\u001b[1;33m)\u001b[0m\u001b[1;33m\u001b[0m\u001b[1;33m\u001b[0m\u001b[0m\n\u001b[0m\u001b[0;32m    679\u001b[0m \u001b[1;33m\u001b[0m\u001b[0m\n\u001b[0;32m    680\u001b[0m \u001b[1;33m\u001b[0m\u001b[0m\n",
      "\u001b[1;32m~\\Anaconda3\\lib\\site-packages\\pandas\\io\\parsers\\readers.py\u001b[0m in \u001b[0;36m_read\u001b[1;34m(filepath_or_buffer, kwds)\u001b[0m\n\u001b[0;32m    573\u001b[0m \u001b[1;33m\u001b[0m\u001b[0m\n\u001b[0;32m    574\u001b[0m     \u001b[1;31m# Create the parser.\u001b[0m\u001b[1;33m\u001b[0m\u001b[1;33m\u001b[0m\u001b[0m\n\u001b[1;32m--> 575\u001b[1;33m     \u001b[0mparser\u001b[0m \u001b[1;33m=\u001b[0m \u001b[0mTextFileReader\u001b[0m\u001b[1;33m(\u001b[0m\u001b[0mfilepath_or_buffer\u001b[0m\u001b[1;33m,\u001b[0m \u001b[1;33m**\u001b[0m\u001b[0mkwds\u001b[0m\u001b[1;33m)\u001b[0m\u001b[1;33m\u001b[0m\u001b[1;33m\u001b[0m\u001b[0m\n\u001b[0m\u001b[0;32m    576\u001b[0m \u001b[1;33m\u001b[0m\u001b[0m\n\u001b[0;32m    577\u001b[0m     \u001b[1;32mif\u001b[0m \u001b[0mchunksize\u001b[0m \u001b[1;32mor\u001b[0m \u001b[0miterator\u001b[0m\u001b[1;33m:\u001b[0m\u001b[1;33m\u001b[0m\u001b[1;33m\u001b[0m\u001b[0m\n",
      "\u001b[1;32m~\\Anaconda3\\lib\\site-packages\\pandas\\io\\parsers\\readers.py\u001b[0m in \u001b[0;36m__init__\u001b[1;34m(self, f, engine, **kwds)\u001b[0m\n\u001b[0;32m    930\u001b[0m \u001b[1;33m\u001b[0m\u001b[0m\n\u001b[0;32m    931\u001b[0m         \u001b[0mself\u001b[0m\u001b[1;33m.\u001b[0m\u001b[0mhandles\u001b[0m\u001b[1;33m:\u001b[0m \u001b[0mIOHandles\u001b[0m \u001b[1;33m|\u001b[0m \u001b[1;32mNone\u001b[0m \u001b[1;33m=\u001b[0m \u001b[1;32mNone\u001b[0m\u001b[1;33m\u001b[0m\u001b[1;33m\u001b[0m\u001b[0m\n\u001b[1;32m--> 932\u001b[1;33m         \u001b[0mself\u001b[0m\u001b[1;33m.\u001b[0m\u001b[0m_engine\u001b[0m \u001b[1;33m=\u001b[0m \u001b[0mself\u001b[0m\u001b[1;33m.\u001b[0m\u001b[0m_make_engine\u001b[0m\u001b[1;33m(\u001b[0m\u001b[0mf\u001b[0m\u001b[1;33m,\u001b[0m \u001b[0mself\u001b[0m\u001b[1;33m.\u001b[0m\u001b[0mengine\u001b[0m\u001b[1;33m)\u001b[0m\u001b[1;33m\u001b[0m\u001b[1;33m\u001b[0m\u001b[0m\n\u001b[0m\u001b[0;32m    933\u001b[0m \u001b[1;33m\u001b[0m\u001b[0m\n\u001b[0;32m    934\u001b[0m     \u001b[1;32mdef\u001b[0m \u001b[0mclose\u001b[0m\u001b[1;33m(\u001b[0m\u001b[0mself\u001b[0m\u001b[1;33m)\u001b[0m\u001b[1;33m:\u001b[0m\u001b[1;33m\u001b[0m\u001b[1;33m\u001b[0m\u001b[0m\n",
      "\u001b[1;32m~\\Anaconda3\\lib\\site-packages\\pandas\\io\\parsers\\readers.py\u001b[0m in \u001b[0;36m_make_engine\u001b[1;34m(self, f, engine)\u001b[0m\n\u001b[0;32m   1214\u001b[0m             \u001b[1;31m# \"Union[str, PathLike[str], ReadCsvBuffer[bytes], ReadCsvBuffer[str]]\"\u001b[0m\u001b[1;33m\u001b[0m\u001b[1;33m\u001b[0m\u001b[0m\n\u001b[0;32m   1215\u001b[0m             \u001b[1;31m# , \"str\", \"bool\", \"Any\", \"Any\", \"Any\", \"Any\", \"Any\"\u001b[0m\u001b[1;33m\u001b[0m\u001b[1;33m\u001b[0m\u001b[0m\n\u001b[1;32m-> 1216\u001b[1;33m             self.handles = get_handle(  # type: ignore[call-overload]\n\u001b[0m\u001b[0;32m   1217\u001b[0m                 \u001b[0mf\u001b[0m\u001b[1;33m,\u001b[0m\u001b[1;33m\u001b[0m\u001b[1;33m\u001b[0m\u001b[0m\n\u001b[0;32m   1218\u001b[0m                 \u001b[0mmode\u001b[0m\u001b[1;33m,\u001b[0m\u001b[1;33m\u001b[0m\u001b[1;33m\u001b[0m\u001b[0m\n",
      "\u001b[1;32m~\\Anaconda3\\lib\\site-packages\\pandas\\io\\common.py\u001b[0m in \u001b[0;36mget_handle\u001b[1;34m(path_or_buf, mode, encoding, compression, memory_map, is_text, errors, storage_options)\u001b[0m\n\u001b[0;32m    784\u001b[0m         \u001b[1;32mif\u001b[0m \u001b[0mioargs\u001b[0m\u001b[1;33m.\u001b[0m\u001b[0mencoding\u001b[0m \u001b[1;32mand\u001b[0m \u001b[1;34m\"b\"\u001b[0m \u001b[1;32mnot\u001b[0m \u001b[1;32min\u001b[0m \u001b[0mioargs\u001b[0m\u001b[1;33m.\u001b[0m\u001b[0mmode\u001b[0m\u001b[1;33m:\u001b[0m\u001b[1;33m\u001b[0m\u001b[1;33m\u001b[0m\u001b[0m\n\u001b[0;32m    785\u001b[0m             \u001b[1;31m# Encoding\u001b[0m\u001b[1;33m\u001b[0m\u001b[1;33m\u001b[0m\u001b[0m\n\u001b[1;32m--> 786\u001b[1;33m             handle = open(\n\u001b[0m\u001b[0;32m    787\u001b[0m                 \u001b[0mhandle\u001b[0m\u001b[1;33m,\u001b[0m\u001b[1;33m\u001b[0m\u001b[1;33m\u001b[0m\u001b[0m\n\u001b[0;32m    788\u001b[0m                 \u001b[0mioargs\u001b[0m\u001b[1;33m.\u001b[0m\u001b[0mmode\u001b[0m\u001b[1;33m,\u001b[0m\u001b[1;33m\u001b[0m\u001b[1;33m\u001b[0m\u001b[0m\n",
      "\u001b[1;31mFileNotFoundError\u001b[0m: [Errno 2] No such file or directory: 'House Price India.csv'"
     ]
    }
   ],
   "source": [
    "# Load the dataset.\n",
    "House_Price_Dataset = pd.read_csv(\"House Price India.csv\")"
   ]
  },
  {
   "cell_type": "code",
   "execution_count": null,
   "id": "d1e7aca4",
   "metadata": {},
   "outputs": [],
   "source": [
    "# Task 1. Show the first 10 datasets.\n",
    "House_Price_Dataset.head(10)\n",
    "#head is used to display upward data."
   ]
  },
  {
   "cell_type": "code",
   "execution_count": null,
   "id": "15736ceb",
   "metadata": {},
   "outputs": [],
   "source": [
    "# Task 2 Show the last 10 Rows:-\n",
    "House_Price_Dataset.tail(10)\n",
    "## \"tail\" is a method used to display last data."
   ]
  },
  {
   "cell_type": "code",
   "execution_count": null,
   "id": "e435d5f2",
   "metadata": {},
   "outputs": [],
   "source": [
    "# Task 3 Show the Size if the Data.\n",
    "House_Price_Dataset.shape"
   ]
  },
  {
   "cell_type": "markdown",
   "id": "cf4616d7",
   "metadata": {},
   "source": [
    "*Important*\n",
    "\n",
    "`shape` is a method used to calculate size of the data."
   ]
  },
  {
   "cell_type": "markdown",
   "id": "5f10f5af",
   "metadata": {},
   "source": [
    "**Inference of Task 3**\n",
    "\n",
    "- we have `14620` Observations (Rows).\n",
    "- we have `23` Attributes (Columns)."
   ]
  },
  {
   "cell_type": "markdown",
   "id": "018fa094",
   "metadata": {},
   "source": [
    "## Steps to get inference from the data or EDA ( Exploratory Data Analysis)\n",
    "### Date: 05/07/2023"
   ]
  },
  {
   "cell_type": "markdown",
   "id": "62dcf5b7",
   "metadata": {},
   "source": [
    "### Step 1: Data Pre-Processing \n",
    "### Step 2: EDA\n",
    "### Step 3: Draw the Conclusion"
   ]
  },
  {
   "cell_type": "markdown",
   "id": "2bae87f2",
   "metadata": {},
   "source": [
    "## Step 1: Data Pre-Processing"
   ]
  },
  {
   "cell_type": "code",
   "execution_count": null,
   "id": "6dbf4ead",
   "metadata": {},
   "outputs": [],
   "source": [
    "House_Price_Dataset.head()"
   ]
  },
  {
   "cell_type": "code",
   "execution_count": null,
   "id": "3e39b54b",
   "metadata": {},
   "outputs": [],
   "source": [
    "# List out all the column Names\n",
    "House_Price_Dataset.columns"
   ]
  },
  {
   "cell_type": "code",
   "execution_count": null,
   "id": "1dc9e416",
   "metadata": {},
   "outputs": [],
   "source": [
    "# Check for valid null values on Data Set\n",
    "\n",
    "House_Price_Dataset.isnull().sum() # .isnull checks for if null value is there and .sum will show the total # of null values in dataset"
   ]
  },
  {
   "cell_type": "markdown",
   "id": "5faeb32c",
   "metadata": {},
   "source": [
    "**Inference**\n",
    "- We don't have any `valid null` values in the Data."
   ]
  },
  {
   "cell_type": "markdown",
   "id": "ae73def6",
   "metadata": {},
   "source": [
    "### Access the Set of Columns"
   ]
  },
  {
   "cell_type": "code",
   "execution_count": null,
   "id": "9d2d0ccd",
   "metadata": {},
   "outputs": [],
   "source": [
    "House_Price_Dataset.columns"
   ]
  },
  {
   "cell_type": "code",
   "execution_count": null,
   "id": "48d587a2",
   "metadata": {},
   "outputs": [],
   "source": [
    "# Access the Home Co-ordinates\n",
    "House_Price_Dataset_Home_Coordinates = House_Price_Dataset[['number of bedrooms', 'number of bathrooms', 'living area', 'lot area', 'number of floors', 'condition of the house', 'Area of the house(excluding basement)', 'Area of the basement']]\n",
    "\n",
    "House_Price_Dataset_Home_Coordinates.head(3)"
   ]
  },
  {
   "cell_type": "code",
   "execution_count": null,
   "id": "daaa2103",
   "metadata": {},
   "outputs": [],
   "source": [
    "# Access the Area Co-ordinates\n",
    "House_Price_Dataset_Area_Coordinates = House_Price_Dataset[['waterfront present', 'number of views', 'Postal Code', 'Lattitude', 'Longitude', 'Number of schools nearby', 'Distance from the airport']]\n",
    "\n",
    "House_Price_Dataset_Area_Coordinates.head(5)"
   ]
  },
  {
   "cell_type": "code",
   "execution_count": null,
   "id": "7a1d5216",
   "metadata": {},
   "outputs": [],
   "source": [
    "# Home Modification Co-Ordinates\n",
    "House_Price_Dataset_Home_Mod_Coordinates = House_Price_Dataset[['Renovation Year', 'living_area_renov', 'lot_area_renov']]\n",
    "\n",
    "House_Price_Dataset_Home_Mod_Coordinates.head(3)"
   ]
  },
  {
   "cell_type": "code",
   "execution_count": null,
   "id": "d6be36fe",
   "metadata": {},
   "outputs": [],
   "source": [
    "# Home Establishment Co-Ordinates\n",
    "House_Price_Dataset_Est_Coordinates = House_Price_Dataset[['id','Date','number of views', 'condition of the house', 'grade of the house','Built Year', 'Price']]\n",
    "\n",
    "House_Price_Dataset_Est_Coordinates.head(3)"
   ]
  },
  {
   "cell_type": "markdown",
   "id": "1f18a699",
   "metadata": {},
   "source": [
    "## Univariate Analysis to Authenticate the Data"
   ]
  },
  {
   "cell_type": "markdown",
   "id": "4453821a",
   "metadata": {},
   "source": [
    "### A: Home Co-Ordinates"
   ]
  },
  {
   "cell_type": "code",
   "execution_count": null,
   "id": "fad6c95c",
   "metadata": {},
   "outputs": [],
   "source": [
    "House_Price_Dataset_Home_Coordinates.head(3)"
   ]
  },
  {
   "cell_type": "code",
   "execution_count": null,
   "id": "800b8d81",
   "metadata": {},
   "outputs": [],
   "source": [
    "House_Price_Dataset_Home_Coordinates.info()"
   ]
  },
  {
   "cell_type": "markdown",
   "id": "3342a725",
   "metadata": {},
   "source": [
    "**Inference**\n",
    "\n",
    "- In this `home Co-Ordinate dataset` we have all Columns `Numerical` in Nature.\n",
    "- In the above Columns: `2 Columns` are `Floats` and Remaning `6` are `Integer`."
   ]
  },
  {
   "cell_type": "code",
   "execution_count": null,
   "id": "84ab4e2c",
   "metadata": {},
   "outputs": [],
   "source": [
    "House_Price_Dataset_Home_Coordinates.describe().T"
   ]
  },
  {
   "cell_type": "markdown",
   "id": "06d9b084",
   "metadata": {},
   "source": [
    "### Date: 07/07/2023"
   ]
  },
  {
   "cell_type": "code",
   "execution_count": null,
   "id": "2b225ee1",
   "metadata": {},
   "outputs": [],
   "source": [
    "# Let's visualize the existing home coordinates\n",
    "# import seaborn library\n",
    "import seaborn as sns\n",
    "\n",
    "#import matplotlib library\n",
    "import matplotlib.pyplot as plt"
   ]
  },
  {
   "cell_type": "code",
   "execution_count": null,
   "id": "53be881f",
   "metadata": {},
   "outputs": [],
   "source": [
    "# draw the pairplot\n",
    "sns.pairplot(House_Price_Dataset_Home_Coordinates)\n",
    "plt.show()"
   ]
  },
  {
   "cell_type": "markdown",
   "id": "ff9369cf",
   "metadata": {},
   "source": [
    "#### Pairplot plots all the combinations of numeric columns from a dataset.\n",
    "#### Here all the attributes present in Home_Coordinates are plotted as Combination by pairplot."
   ]
  },
  {
   "cell_type": "code",
   "execution_count": null,
   "id": "3a813d90",
   "metadata": {},
   "outputs": [],
   "source": [
    "# Draw the pairplot\n",
    "sns.pairplot(House_Price_Dataset_Home_Coordinates, kind=\"hist\")\n",
    "plt.show()"
   ]
  },
  {
   "cell_type": "markdown",
   "id": "6c4db395",
   "metadata": {},
   "source": [
    "**Interpretation:**\n",
    "- Living Area Vs Area of House Excluding Basement.\n",
    "- Area of House Excluding Basement Vs No. of Bathrooms.\n",
    "- Living Area Vs No. of Bathroom.\n",
    "- No of Bedrooms Vs Living Area having gradual growth\n",
    "- No of Bathrooms Vs Condition of house/No. of Floors (No Relation)\n",
    "- Living Area Vs Area of house having hetro scadasticity."
   ]
  },
  {
   "cell_type": "markdown",
   "id": "0d854e2d",
   "metadata": {},
   "source": [
    "### Date: 04/08/2023"
   ]
  },
  {
   "cell_type": "code",
   "execution_count": null,
   "id": "06ea1566",
   "metadata": {},
   "outputs": [],
   "source": [
    "House_Price_Dataset_Home_Coordinates.head()"
   ]
  },
  {
   "cell_type": "markdown",
   "id": "b6659a34",
   "metadata": {},
   "source": [
    "### Univariate Analysis on House_Price_Dataset_Home_Coordinates"
   ]
  },
  {
   "cell_type": "code",
   "execution_count": null,
   "id": "2fe31ab3",
   "metadata": {},
   "outputs": [],
   "source": [
    "# check for columns\n",
    "House_Price_Dataset_Home_Coordinates.columns"
   ]
  },
  {
   "cell_type": "markdown",
   "id": "64a1cc8b",
   "metadata": {},
   "source": [
    "#### Analysis on number of bedrooms"
   ]
  },
  {
   "cell_type": "code",
   "execution_count": null,
   "id": "619e5eed",
   "metadata": {},
   "outputs": [],
   "source": [
    "# checks for the value count\n",
    "# value_count counts the unique value and shows the total number of times it occured whereas count just shows the number of rows present. \n",
    "House_Price_Dataset_Home_Coordinates[\"number of bedrooms\"].value_counts()"
   ]
  },
  {
   "cell_type": "markdown",
   "id": "4f0bc37a",
   "metadata": {},
   "source": [
    "**Interpretation**\n",
    " - Most of the house for selling are `3 BHK` and `4 BHK`."
   ]
  },
  {
   "cell_type": "code",
   "execution_count": null,
   "id": "379b0a9e",
   "metadata": {},
   "outputs": [],
   "source": [
    "# Investigate last 3 observations from above data\n",
    "df_bedroom_num_greater_than_9 = House_Price_Dataset_Home_Coordinates[House_Price_Dataset_Home_Coordinates[\"number of bedrooms\"] > 9]\n",
    "\n",
    "df_bedroom_num_greater_than_9"
   ]
  },
  {
   "cell_type": "markdown",
   "id": "23e8dbe7",
   "metadata": {},
   "source": [
    "**Interpretation**\n",
    " - As we can see here that `number of bedrooms` are `33` and having `1.75 number of bathrooms` which is not possible.\n",
    " - Also it has `1 number of floors` having `1620 plot area` which is also not possible for a property having such less area and having high number of rooms on same floor.\n",
    " - Same assumption can be done for the remaining observation."
   ]
  },
  {
   "cell_type": "code",
   "execution_count": null,
   "id": "0594fabd",
   "metadata": {},
   "outputs": [],
   "source": [
    "# Plot the pair plot\n",
    "sns.pairplot(df_bedroom_num_greater_than_9)\n",
    "plt.show()"
   ]
  },
  {
   "cell_type": "markdown",
   "id": "662136b4",
   "metadata": {},
   "source": [
    "### Task: Delete the all the data from main dataframe where we have number of bedroom > 9"
   ]
  },
  {
   "cell_type": "code",
   "execution_count": null,
   "id": "e87046c9",
   "metadata": {},
   "outputs": [],
   "source": [
    "House_Price_Dataset.columns"
   ]
  },
  {
   "cell_type": "code",
   "execution_count": null,
   "id": "7b17f0e7",
   "metadata": {},
   "outputs": [],
   "source": [
    "House_Price_Dataset_Updated = House_Price_Dataset.drop(House_Price_Dataset[House_Price_Dataset[\"number of bedrooms\"] > 9].index)\n",
    "\n",
    "House_Price_Dataset_Updated[\"number of bedrooms\"].value_counts()"
   ]
  },
  {
   "cell_type": "markdown",
   "id": "312d832b",
   "metadata": {},
   "source": [
    "# Date :- 07 Aug 2023"
   ]
  },
  {
   "cell_type": "code",
   "execution_count": 3,
   "id": "b95131b4",
   "metadata": {
    "scrolled": true
   },
   "outputs": [
    {
     "ename": "NameError",
     "evalue": "name 'House_Price_Dataset' is not defined",
     "output_type": "error",
     "traceback": [
      "\u001b[1;31m---------------------------------------------------------------------------\u001b[0m",
      "\u001b[1;31mNameError\u001b[0m                                 Traceback (most recent call last)",
      "\u001b[1;32m~\\AppData\\Local\\Temp\\ipykernel_4796\\3149067601.py\u001b[0m in \u001b[0;36m<module>\u001b[1;34m\u001b[0m\n\u001b[0;32m      1\u001b[0m \u001b[1;31m# Drop those noice from the main dataframe\u001b[0m\u001b[1;33m\u001b[0m\u001b[1;33m\u001b[0m\u001b[0m\n\u001b[1;32m----> 2\u001b[1;33m \u001b[0mHouse_Price_Dataset\u001b[0m\u001b[1;33m=\u001b[0m \u001b[0mHouse_Price_Dataset\u001b[0m\u001b[1;33m[\u001b[0m\u001b[1;34m\"number of bedrooms\"\u001b[0m\u001b[1;33m]\u001b[0m\u001b[1;33m<=\u001b[0m\u001b[1;36m9\u001b[0m\u001b[1;33m\u001b[0m\u001b[1;33m\u001b[0m\u001b[0m\n\u001b[0m\u001b[0;32m      3\u001b[0m \u001b[1;33m\u001b[0m\u001b[0m\n\u001b[0;32m      4\u001b[0m \u001b[1;31m# Drop those notice from Home coordination data\u001b[0m\u001b[1;33m\u001b[0m\u001b[1;33m\u001b[0m\u001b[0m\n\u001b[0;32m      5\u001b[0m \u001b[1;33m\u001b[0m\u001b[0m\n",
      "\u001b[1;31mNameError\u001b[0m: name 'House_Price_Dataset' is not defined"
     ]
    }
   ],
   "source": [
    "# Drop those noice from the main dataframe\n",
    "House_Price_Dataset= House_Price_Dataset[\"number of bedrooms\"]<=9\n",
    "\n",
    "# Drop those notice from Home coordination data\n",
    "\n",
    "House_Price_Dataset_Home_Coordinats = House_Price_Dataset_Home_Coordiants[House_Price_Dataset__Home_Coordiants[\"number of bedrooms\"]<=9]\n"
   ]
  },
  {
   "cell_type": "code",
   "execution_count": 4,
   "id": "b5a21115",
   "metadata": {},
   "outputs": [
    {
     "ename": "NameError",
     "evalue": "name 'House_Price_Dataset_Home_Coordinats' is not defined",
     "output_type": "error",
     "traceback": [
      "\u001b[1;31m---------------------------------------------------------------------------\u001b[0m",
      "\u001b[1;31mNameError\u001b[0m                                 Traceback (most recent call last)",
      "\u001b[1;32m~\\AppData\\Local\\Temp\\ipykernel_4796\\893939380.py\u001b[0m in \u001b[0;36m<module>\u001b[1;34m\u001b[0m\n\u001b[1;32m----> 1\u001b[1;33m \u001b[0mHouse_Price_Dataset_Home_Coordinats\u001b[0m\u001b[1;33m\u001b[0m\u001b[1;33m\u001b[0m\u001b[0m\n\u001b[0m",
      "\u001b[1;31mNameError\u001b[0m: name 'House_Price_Dataset_Home_Coordinats' is not defined"
     ]
    }
   ],
   "source": [
    "House_Price_Dataset_Home_Coordinats"
   ]
  },
  {
   "cell_type": "code",
   "execution_count": 5,
   "id": "7032387b",
   "metadata": {},
   "outputs": [
    {
     "ename": "NameError",
     "evalue": "name 'House_Price_Dataset_Home_Coordinats' is not defined",
     "output_type": "error",
     "traceback": [
      "\u001b[1;31m---------------------------------------------------------------------------\u001b[0m",
      "\u001b[1;31mNameError\u001b[0m                                 Traceback (most recent call last)",
      "\u001b[1;32m~\\AppData\\Local\\Temp\\ipykernel_4796\\617446276.py\u001b[0m in \u001b[0;36m<module>\u001b[1;34m\u001b[0m\n\u001b[0;32m      1\u001b[0m \u001b[1;31m# Authenticate operation of droping\u001b[0m\u001b[1;33m\u001b[0m\u001b[1;33m\u001b[0m\u001b[0m\n\u001b[1;32m----> 2\u001b[1;33m \u001b[0mHouse_Price_Dataset_Home_Coordinats\u001b[0m\u001b[1;33m[\u001b[0m\u001b[1;34m\"number of bedrooms\"\u001b[0m\u001b[1;33m]\u001b[0m\u001b[1;33m.\u001b[0m\u001b[0mvalue_counts\u001b[0m\u001b[1;33m(\u001b[0m\u001b[1;33m)\u001b[0m\u001b[1;33m\u001b[0m\u001b[1;33m\u001b[0m\u001b[0m\n\u001b[0m",
      "\u001b[1;31mNameError\u001b[0m: name 'House_Price_Dataset_Home_Coordinats' is not defined"
     ]
    }
   ],
   "source": [
    "# Authenticate operation of droping\n",
    "House_Price_Dataset_Home_Coordinats[\"number of bedrooms\"].value_counts()"
   ]
  },
  {
   "cell_type": "code",
   "execution_count": 6,
   "id": "ed1cd89b",
   "metadata": {},
   "outputs": [
    {
     "ename": "NameError",
     "evalue": "name 'House_Price_Dataset_Home_Coordinats' is not defined",
     "output_type": "error",
     "traceback": [
      "\u001b[1;31m---------------------------------------------------------------------------\u001b[0m",
      "\u001b[1;31mNameError\u001b[0m                                 Traceback (most recent call last)",
      "\u001b[1;32m~\\AppData\\Local\\Temp\\ipykernel_4796\\3001409181.py\u001b[0m in \u001b[0;36m<module>\u001b[1;34m\u001b[0m\n\u001b[0;32m      1\u001b[0m \u001b[1;31m#Plot the Value count\u001b[0m\u001b[1;33m\u001b[0m\u001b[1;33m\u001b[0m\u001b[0m\n\u001b[1;32m----> 2\u001b[1;33m \u001b[0mHouse_Price_Dataset_Home_Coordinats\u001b[0m\u001b[1;33m[\u001b[0m\u001b[1;34m\"number of bedrooms\"\u001b[0m\u001b[1;33m]\u001b[0m\u001b[1;33m.\u001b[0m\u001b[0mvalue_counts\u001b[0m\u001b[1;33m(\u001b[0m\u001b[1;33m)\u001b[0m\u001b[1;33m.\u001b[0m\u001b[0mplot\u001b[0m\u001b[1;33m(\u001b[0m\u001b[0mkind\u001b[0m \u001b[1;33m=\u001b[0m \u001b[1;34m\"bar\"\u001b[0m\u001b[1;33m)\u001b[0m\u001b[1;33m\u001b[0m\u001b[1;33m\u001b[0m\u001b[0m\n\u001b[0m",
      "\u001b[1;31mNameError\u001b[0m: name 'House_Price_Dataset_Home_Coordinats' is not defined"
     ]
    }
   ],
   "source": [
    "#Plot the Value count\n",
    "House_Price_Dataset_Home_Coordinats[\"number of bedrooms\"].value_counts().plot(kind = \"bar\", color =\"purple\")"
   ]
  },
  {
   "cell_type": "markdown",
   "id": "ec66c2be",
   "metadata": {},
   "source": [
    "# ** Inference **"
   ]
  },
  {
   "cell_type": "markdown",
   "id": "0b6cbb1a",
   "metadata": {},
   "source": [
    "#  2 number of bathrooms"
   ]
  },
  {
   "cell_type": "code",
   "execution_count": 7,
   "id": "d10bf935",
   "metadata": {},
   "outputs": [
    {
     "ename": "NameError",
     "evalue": "name 'House_Price_Dataset_Home_Coordinats' is not defined",
     "output_type": "error",
     "traceback": [
      "\u001b[1;31m---------------------------------------------------------------------------\u001b[0m",
      "\u001b[1;31mNameError\u001b[0m                                 Traceback (most recent call last)",
      "\u001b[1;32m~\\AppData\\Local\\Temp\\ipykernel_4796\\2263695404.py\u001b[0m in \u001b[0;36m<module>\u001b[1;34m\u001b[0m\n\u001b[1;32m----> 1\u001b[1;33m \u001b[0mHouse_Price_Dataset_Home_Coordinats\u001b[0m\u001b[1;33m.\u001b[0m\u001b[0mhead\u001b[0m\u001b[1;33m(\u001b[0m\u001b[1;36m3\u001b[0m\u001b[1;33m)\u001b[0m\u001b[1;33m\u001b[0m\u001b[1;33m\u001b[0m\u001b[0m\n\u001b[0m",
      "\u001b[1;31mNameError\u001b[0m: name 'House_Price_Dataset_Home_Coordinats' is not defined"
     ]
    }
   ],
   "source": [
    "House_Price_Dataset_Home_Coordinats.head(3)"
   ]
  },
  {
   "cell_type": "markdown",
   "id": "d9cdfea0",
   "metadata": {},
   "source": [
    "# Methods to round off a value."
   ]
  },
  {
   "cell_type": "markdown",
   "id": "e5ac5512",
   "metadata": {},
   "source": [
    "# Method 1"
   ]
  },
  {
   "cell_type": "code",
   "execution_count": 8,
   "id": "cb0ebd33",
   "metadata": {},
   "outputs": [],
   "source": [
    "x = 20.22222"
   ]
  },
  {
   "cell_type": "code",
   "execution_count": 9,
   "id": "4f275af8",
   "metadata": {},
   "outputs": [
    {
     "data": {
      "text/plain": [
       "20.0"
      ]
     },
     "execution_count": 9,
     "metadata": {},
     "output_type": "execute_result"
    }
   ],
   "source": [
    "round(x,0)"
   ]
  },
  {
   "cell_type": "markdown",
   "id": "f48bbe48",
   "metadata": {},
   "source": [
    "# Method 2"
   ]
  },
  {
   "cell_type": "code",
   "execution_count": 10,
   "id": "19ac972b",
   "metadata": {},
   "outputs": [
    {
     "data": {
      "text/plain": [
       "20"
      ]
     },
     "execution_count": 10,
     "metadata": {},
     "output_type": "execute_result"
    }
   ],
   "source": [
    "int(x)"
   ]
  },
  {
   "cell_type": "code",
   "execution_count": null,
   "id": "14662b97",
   "metadata": {},
   "outputs": [],
   "source": []
  }
 ],
 "metadata": {
  "kernelspec": {
   "display_name": "Python 3 (ipykernel)",
   "language": "python",
   "name": "python3"
  },
  "language_info": {
   "codemirror_mode": {
    "name": "ipython",
    "version": 3
   },
   "file_extension": ".py",
   "mimetype": "text/x-python",
   "name": "python",
   "nbconvert_exporter": "python",
   "pygments_lexer": "ipython3",
   "version": "3.9.13"
  }
 },
 "nbformat": 4,
 "nbformat_minor": 5
}
