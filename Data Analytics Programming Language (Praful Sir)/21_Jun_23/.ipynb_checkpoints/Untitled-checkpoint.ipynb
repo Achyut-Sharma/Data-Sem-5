{
 "cells": [
  {
   "cell_type": "code",
   "execution_count": 2,
   "id": "3152cf76",
   "metadata": {},
   "outputs": [],
   "source": [
    "# Import the pandas\n",
    "import pandas as pd"
   ]
  },
  {
   "cell_type": "code",
   "execution_count": 3,
   "id": "1d39f9ea",
   "metadata": {},
   "outputs": [],
   "source": [
    "# Import the numpy\n",
    "import numpy as np"
   ]
  },
  {
   "cell_type": "code",
   "execution_count": 4,
   "id": "063eca0c",
   "metadata": {},
   "outputs": [],
   "source": [
    "s = pd.Series(np.random.randn(5),index=[\"a\",\"b\",\"c\",\"d\",\"e\"])"
   ]
  },
  {
   "cell_type": "code",
   "execution_count": 5,
   "id": "f18ad018",
   "metadata": {},
   "outputs": [
    {
     "data": {
      "text/plain": [
       "a   -1.557303\n",
       "b    0.084043\n",
       "c   -1.887543\n",
       "d   -1.666588\n",
       "e    2.064635\n",
       "dtype: float64"
      ]
     },
     "execution_count": 5,
     "metadata": {},
     "output_type": "execute_result"
    }
   ],
   "source": [
    "s"
   ]
  },
  {
   "cell_type": "code",
   "execution_count": null,
   "id": "dbde0d91",
   "metadata": {},
   "outputs": [],
   "source": [
    "s = pd.Series(np.random.randn(6),index=[\"a\",\"b\",\"c\",\"d\",\"e\",\"f\"])"
   ]
  },
  {
   "cell_type": "code",
   "execution_count": 4,
   "id": "bbeb4858",
   "metadata": {},
   "outputs": [],
   "source": []
  }
 ],
 "metadata": {
  "kernelspec": {
   "display_name": "Python 3 (ipykernel)",
   "language": "python",
   "name": "python3"
  },
  "language_info": {
   "codemirror_mode": {
    "name": "ipython",
    "version": 3
   },
   "file_extension": ".py",
   "mimetype": "text/x-python",
   "name": "python",
   "nbconvert_exporter": "python",
   "pygments_lexer": "ipython3",
   "version": "3.9.13"
  }
 },
 "nbformat": 4,
 "nbformat_minor": 5
}
