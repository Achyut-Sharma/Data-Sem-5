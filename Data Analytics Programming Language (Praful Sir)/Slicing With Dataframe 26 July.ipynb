{
 "cells": [
  {
   "cell_type": "code",
   "execution_count": 1,
   "id": "119b4e36",
   "metadata": {},
   "outputs": [],
   "source": [
    "# Import the required libraries \n",
    "# Import numpy\n",
    "import numpy as np\n",
    "\n",
    "# Import pandas\n",
    "import pandas as pd"
   ]
  },
  {
   "cell_type": "code",
   "execution_count": 2,
   "id": "b31b2396",
   "metadata": {},
   "outputs": [],
   "source": [
    "# create the dataframe in list formate\n",
    "# create the list for data.\n",
    "\n",
    "l1 = [\"Virat\",\"Rohit\",\"Shubham\",\"Jayswal\",\"Ishan\",\"Ashwin\",\"Jadeja\",\"Siraj\",\"Jaidev\"]\n",
    "l2 = [11000,15000,5000,170,1000,8000,9500,800,950]\n",
    "l3 =[121,100,10,150,54,65,51,0,12]"
   ]
  },
  {
   "cell_type": "code",
   "execution_count": 3,
   "id": "d3af8b3f",
   "metadata": {},
   "outputs": [],
   "source": [
    "# Convert list into series.\n",
    "# for l1 \n",
    "s1 = pd.Series(l1)\n",
    "# for l2\n",
    "s2 = pd.Series(l2)\n",
    "# for l3\n",
    "s3 = pd.Series(l3)"
   ]
  },
  {
   "cell_type": "code",
   "execution_count": 4,
   "id": "b6b5d1b0",
   "metadata": {},
   "outputs": [],
   "source": [
    "# convert those series into DataFrame\n",
    "df = pd.DataFrame([s1,s2,s3],index=[\"Player\",\"Total\",\"Last Score\"])"
   ]
  },
  {
   "cell_type": "code",
   "execution_count": 5,
   "id": "25ff3528",
   "metadata": {},
   "outputs": [],
   "source": [
    "# Here \"T\" used with df  is called Transporse."
   ]
  },
  {
   "cell_type": "code",
   "execution_count": 6,
   "id": "39f88838",
   "metadata": {},
   "outputs": [],
   "source": [
    "df = df.T"
   ]
  },
  {
   "cell_type": "code",
   "execution_count": 7,
   "id": "83604b39",
   "metadata": {},
   "outputs": [
    {
     "data": {
      "text/html": [
       "<div>\n",
       "<style scoped>\n",
       "    .dataframe tbody tr th:only-of-type {\n",
       "        vertical-align: middle;\n",
       "    }\n",
       "\n",
       "    .dataframe tbody tr th {\n",
       "        vertical-align: top;\n",
       "    }\n",
       "\n",
       "    .dataframe thead th {\n",
       "        text-align: right;\n",
       "    }\n",
       "</style>\n",
       "<table border=\"1\" class=\"dataframe\">\n",
       "  <thead>\n",
       "    <tr style=\"text-align: right;\">\n",
       "      <th></th>\n",
       "      <th>Player</th>\n",
       "      <th>Total</th>\n",
       "      <th>Last Score</th>\n",
       "    </tr>\n",
       "  </thead>\n",
       "  <tbody>\n",
       "    <tr>\n",
       "      <th>0</th>\n",
       "      <td>Virat</td>\n",
       "      <td>11000</td>\n",
       "      <td>121</td>\n",
       "    </tr>\n",
       "    <tr>\n",
       "      <th>1</th>\n",
       "      <td>Rohit</td>\n",
       "      <td>15000</td>\n",
       "      <td>100</td>\n",
       "    </tr>\n",
       "    <tr>\n",
       "      <th>2</th>\n",
       "      <td>Shubham</td>\n",
       "      <td>5000</td>\n",
       "      <td>10</td>\n",
       "    </tr>\n",
       "    <tr>\n",
       "      <th>3</th>\n",
       "      <td>Jayswal</td>\n",
       "      <td>170</td>\n",
       "      <td>150</td>\n",
       "    </tr>\n",
       "    <tr>\n",
       "      <th>4</th>\n",
       "      <td>Ishan</td>\n",
       "      <td>1000</td>\n",
       "      <td>54</td>\n",
       "    </tr>\n",
       "    <tr>\n",
       "      <th>5</th>\n",
       "      <td>Ashwin</td>\n",
       "      <td>8000</td>\n",
       "      <td>65</td>\n",
       "    </tr>\n",
       "    <tr>\n",
       "      <th>6</th>\n",
       "      <td>Jadeja</td>\n",
       "      <td>9500</td>\n",
       "      <td>51</td>\n",
       "    </tr>\n",
       "    <tr>\n",
       "      <th>7</th>\n",
       "      <td>Siraj</td>\n",
       "      <td>800</td>\n",
       "      <td>0</td>\n",
       "    </tr>\n",
       "    <tr>\n",
       "      <th>8</th>\n",
       "      <td>Jaidev</td>\n",
       "      <td>950</td>\n",
       "      <td>12</td>\n",
       "    </tr>\n",
       "  </tbody>\n",
       "</table>\n",
       "</div>"
      ],
      "text/plain": [
       "    Player  Total Last Score\n",
       "0    Virat  11000        121\n",
       "1    Rohit  15000        100\n",
       "2  Shubham   5000         10\n",
       "3  Jayswal    170        150\n",
       "4    Ishan   1000         54\n",
       "5   Ashwin   8000         65\n",
       "6   Jadeja   9500         51\n",
       "7    Siraj    800          0\n",
       "8   Jaidev    950         12"
      ]
     },
     "execution_count": 7,
     "metadata": {},
     "output_type": "execute_result"
    }
   ],
   "source": [
    "df"
   ]
  },
  {
   "cell_type": "code",
   "execution_count": 13,
   "id": "b8eecc6f",
   "metadata": {},
   "outputs": [],
   "source": [
    "## This is also an alternative way to get desired output ."
   ]
  },
  {
   "cell_type": "code",
   "execution_count": 10,
   "id": "654088ad",
   "metadata": {},
   "outputs": [],
   "source": [
    "df2 = pd.DataFrame({\"Player\":s1,\"total Runs\":s2,\"Last Score\":s3})"
   ]
  },
  {
   "cell_type": "code",
   "execution_count": 12,
   "id": "23734083",
   "metadata": {},
   "outputs": [
    {
     "data": {
      "text/html": [
       "<div>\n",
       "<style scoped>\n",
       "    .dataframe tbody tr th:only-of-type {\n",
       "        vertical-align: middle;\n",
       "    }\n",
       "\n",
       "    .dataframe tbody tr th {\n",
       "        vertical-align: top;\n",
       "    }\n",
       "\n",
       "    .dataframe thead th {\n",
       "        text-align: right;\n",
       "    }\n",
       "</style>\n",
       "<table border=\"1\" class=\"dataframe\">\n",
       "  <thead>\n",
       "    <tr style=\"text-align: right;\">\n",
       "      <th></th>\n",
       "      <th>Player</th>\n",
       "      <th>total Runs</th>\n",
       "      <th>Last Score</th>\n",
       "    </tr>\n",
       "  </thead>\n",
       "  <tbody>\n",
       "    <tr>\n",
       "      <th>0</th>\n",
       "      <td>Virat</td>\n",
       "      <td>11000</td>\n",
       "      <td>121</td>\n",
       "    </tr>\n",
       "    <tr>\n",
       "      <th>1</th>\n",
       "      <td>Rohit</td>\n",
       "      <td>15000</td>\n",
       "      <td>100</td>\n",
       "    </tr>\n",
       "    <tr>\n",
       "      <th>2</th>\n",
       "      <td>Shubham</td>\n",
       "      <td>5000</td>\n",
       "      <td>10</td>\n",
       "    </tr>\n",
       "    <tr>\n",
       "      <th>3</th>\n",
       "      <td>Jayswal</td>\n",
       "      <td>170</td>\n",
       "      <td>150</td>\n",
       "    </tr>\n",
       "    <tr>\n",
       "      <th>4</th>\n",
       "      <td>Ishan</td>\n",
       "      <td>1000</td>\n",
       "      <td>54</td>\n",
       "    </tr>\n",
       "    <tr>\n",
       "      <th>5</th>\n",
       "      <td>Ashwin</td>\n",
       "      <td>8000</td>\n",
       "      <td>65</td>\n",
       "    </tr>\n",
       "    <tr>\n",
       "      <th>6</th>\n",
       "      <td>Jadeja</td>\n",
       "      <td>9500</td>\n",
       "      <td>51</td>\n",
       "    </tr>\n",
       "    <tr>\n",
       "      <th>7</th>\n",
       "      <td>Siraj</td>\n",
       "      <td>800</td>\n",
       "      <td>0</td>\n",
       "    </tr>\n",
       "    <tr>\n",
       "      <th>8</th>\n",
       "      <td>Jaidev</td>\n",
       "      <td>950</td>\n",
       "      <td>12</td>\n",
       "    </tr>\n",
       "  </tbody>\n",
       "</table>\n",
       "</div>"
      ],
      "text/plain": [
       "    Player  total Runs  Last Score\n",
       "0    Virat       11000         121\n",
       "1    Rohit       15000         100\n",
       "2  Shubham        5000          10\n",
       "3  Jayswal         170         150\n",
       "4    Ishan        1000          54\n",
       "5   Ashwin        8000          65\n",
       "6   Jadeja        9500          51\n",
       "7    Siraj         800           0\n",
       "8   Jaidev         950          12"
      ]
     },
     "execution_count": 12,
     "metadata": {},
     "output_type": "execute_result"
    }
   ],
   "source": [
    "df2"
   ]
  },
  {
   "cell_type": "code",
   "execution_count": 14,
   "id": "97016ea6",
   "metadata": {},
   "outputs": [],
   "source": [
    "## Show the Player name and Total Scores only."
   ]
  },
  {
   "cell_type": "code",
   "execution_count": null,
   "id": "54c0bb47",
   "metadata": {},
   "outputs": [],
   "source": [
    "## This is the method to get specified columns from a dataset"
   ]
  },
  {
   "cell_type": "code",
   "execution_count": 17,
   "id": "8f3856c8",
   "metadata": {},
   "outputs": [
    {
     "data": {
      "text/html": [
       "<div>\n",
       "<style scoped>\n",
       "    .dataframe tbody tr th:only-of-type {\n",
       "        vertical-align: middle;\n",
       "    }\n",
       "\n",
       "    .dataframe tbody tr th {\n",
       "        vertical-align: top;\n",
       "    }\n",
       "\n",
       "    .dataframe thead th {\n",
       "        text-align: right;\n",
       "    }\n",
       "</style>\n",
       "<table border=\"1\" class=\"dataframe\">\n",
       "  <thead>\n",
       "    <tr style=\"text-align: right;\">\n",
       "      <th></th>\n",
       "      <th>Player</th>\n",
       "      <th>Total</th>\n",
       "    </tr>\n",
       "  </thead>\n",
       "  <tbody>\n",
       "    <tr>\n",
       "      <th>0</th>\n",
       "      <td>Virat</td>\n",
       "      <td>11000</td>\n",
       "    </tr>\n",
       "    <tr>\n",
       "      <th>1</th>\n",
       "      <td>Rohit</td>\n",
       "      <td>15000</td>\n",
       "    </tr>\n",
       "    <tr>\n",
       "      <th>2</th>\n",
       "      <td>Shubham</td>\n",
       "      <td>5000</td>\n",
       "    </tr>\n",
       "    <tr>\n",
       "      <th>3</th>\n",
       "      <td>Jayswal</td>\n",
       "      <td>170</td>\n",
       "    </tr>\n",
       "    <tr>\n",
       "      <th>4</th>\n",
       "      <td>Ishan</td>\n",
       "      <td>1000</td>\n",
       "    </tr>\n",
       "    <tr>\n",
       "      <th>5</th>\n",
       "      <td>Ashwin</td>\n",
       "      <td>8000</td>\n",
       "    </tr>\n",
       "    <tr>\n",
       "      <th>6</th>\n",
       "      <td>Jadeja</td>\n",
       "      <td>9500</td>\n",
       "    </tr>\n",
       "    <tr>\n",
       "      <th>7</th>\n",
       "      <td>Siraj</td>\n",
       "      <td>800</td>\n",
       "    </tr>\n",
       "    <tr>\n",
       "      <th>8</th>\n",
       "      <td>Jaidev</td>\n",
       "      <td>950</td>\n",
       "    </tr>\n",
       "  </tbody>\n",
       "</table>\n",
       "</div>"
      ],
      "text/plain": [
       "    Player  Total\n",
       "0    Virat  11000\n",
       "1    Rohit  15000\n",
       "2  Shubham   5000\n",
       "3  Jayswal    170\n",
       "4    Ishan   1000\n",
       "5   Ashwin   8000\n",
       "6   Jadeja   9500\n",
       "7    Siraj    800\n",
       "8   Jaidev    950"
      ]
     },
     "execution_count": 17,
     "metadata": {},
     "output_type": "execute_result"
    }
   ],
   "source": [
    "df[[\"Player\",\"Total\"]]"
   ]
  },
  {
   "cell_type": "code",
   "execution_count": null,
   "id": "fac9ab9d",
   "metadata": {},
   "outputs": [],
   "source": []
  }
 ],
 "metadata": {
  "kernelspec": {
   "display_name": "Python 3 (ipykernel)",
   "language": "python",
   "name": "python3"
  },
  "language_info": {
   "codemirror_mode": {
    "name": "ipython",
    "version": 3
   },
   "file_extension": ".py",
   "mimetype": "text/x-python",
   "name": "python",
   "nbconvert_exporter": "python",
   "pygments_lexer": "ipython3",
   "version": "3.9.13"
  }
 },
 "nbformat": 4,
 "nbformat_minor": 5
}
