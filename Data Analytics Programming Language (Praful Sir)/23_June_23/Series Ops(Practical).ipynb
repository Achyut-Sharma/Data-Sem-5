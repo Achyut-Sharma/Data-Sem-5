{
 "cells": [
  {
   "cell_type": "markdown",
   "id": "2d50a3a4",
   "metadata": {},
   "source": [
    "## Python Day 3"
   ]
  },
  {
   "cell_type": "markdown",
   "id": "31552f51",
   "metadata": {},
   "source": [
    "## Dataframe (2 D Array) In Pandas"
   ]
  },
  {
   "cell_type": "code",
   "execution_count": 1,
   "id": "650090db",
   "metadata": {},
   "outputs": [],
   "source": [
    "# Single Dimensional Data Structure"
   ]
  },
  {
   "cell_type": "code",
   "execution_count": 2,
   "id": "a88df41b",
   "metadata": {},
   "outputs": [],
   "source": [
    "import pandas as pd\n",
    "\n",
    "import numpy as np"
   ]
  },
  {
   "cell_type": "code",
   "execution_count": 3,
   "id": "645a836f",
   "metadata": {},
   "outputs": [],
   "source": [
    "b = np.random.randn(5)"
   ]
  },
  {
   "cell_type": "code",
   "execution_count": 4,
   "id": "b2b23c39",
   "metadata": {},
   "outputs": [
    {
     "data": {
      "text/plain": [
       "array([ 0.12804642, -0.74164234,  0.08820035,  0.01943222,  1.42464341])"
      ]
     },
     "execution_count": 4,
     "metadata": {},
     "output_type": "execute_result"
    }
   ],
   "source": [
    "b"
   ]
  },
  {
   "cell_type": "code",
   "execution_count": 5,
   "id": "c1227899",
   "metadata": {},
   "outputs": [],
   "source": [
    "series1 = pd.Series(b)"
   ]
  },
  {
   "cell_type": "code",
   "execution_count": 6,
   "id": "5f73caa7",
   "metadata": {},
   "outputs": [
    {
     "data": {
      "text/plain": [
       "0    0.128046\n",
       "1   -0.741642\n",
       "2    0.088200\n",
       "3    0.019432\n",
       "4    1.424643\n",
       "dtype: float64"
      ]
     },
     "execution_count": 6,
     "metadata": {},
     "output_type": "execute_result"
    }
   ],
   "source": [
    "series1"
   ]
  },
  {
   "cell_type": "code",
   "execution_count": 7,
   "id": "2959502c",
   "metadata": {},
   "outputs": [],
   "source": [
    "a=[1,2,3,4,5]"
   ]
  },
  {
   "cell_type": "code",
   "execution_count": 10,
   "id": "3b211277",
   "metadata": {},
   "outputs": [
    {
     "data": {
      "text/plain": [
       "[1, 2, 3, 4, 5]"
      ]
     },
     "execution_count": 10,
     "metadata": {},
     "output_type": "execute_result"
    }
   ],
   "source": [
    "a"
   ]
  },
  {
   "cell_type": "code",
   "execution_count": 13,
   "id": "8f53ee4a",
   "metadata": {},
   "outputs": [
    {
     "ename": "AttributeError",
     "evalue": "module 'numpy' has no attribute 'randn'",
     "output_type": "error",
     "traceback": [
      "\u001b[1;31m---------------------------------------------------------------------------\u001b[0m",
      "\u001b[1;31mAttributeError\u001b[0m                            Traceback (most recent call last)",
      "\u001b[1;32m~\\AppData\\Local\\Temp\\ipykernel_8356\\3526054972.py\u001b[0m in \u001b[0;36m<module>\u001b[1;34m\u001b[0m\n\u001b[1;32m----> 1\u001b[1;33m \u001b[0mb\u001b[0m \u001b[1;33m=\u001b[0m \u001b[0mnp\u001b[0m\u001b[1;33m.\u001b[0m\u001b[0mrandn\u001b[0m\u001b[1;33m(\u001b[0m\u001b[0ma\u001b[0m\u001b[1;33m)\u001b[0m\u001b[1;33m\u001b[0m\u001b[1;33m\u001b[0m\u001b[0m\n\u001b[0m",
      "\u001b[1;32m~\\Anaconda3\\lib\\site-packages\\numpy\\__init__.py\u001b[0m in \u001b[0;36m__getattr__\u001b[1;34m(attr)\u001b[0m\n\u001b[0;32m    311\u001b[0m                 \u001b[1;32mreturn\u001b[0m \u001b[0mTester\u001b[0m\u001b[1;33m\u001b[0m\u001b[1;33m\u001b[0m\u001b[0m\n\u001b[0;32m    312\u001b[0m \u001b[1;33m\u001b[0m\u001b[0m\n\u001b[1;32m--> 313\u001b[1;33m             raise AttributeError(\"module {!r} has no attribute \"\n\u001b[0m\u001b[0;32m    314\u001b[0m                                  \"{!r}\".format(__name__, attr))\n\u001b[0;32m    315\u001b[0m \u001b[1;33m\u001b[0m\u001b[0m\n",
      "\u001b[1;31mAttributeError\u001b[0m: module 'numpy' has no attribute 'randn'"
     ]
    }
   ],
   "source": [
    "b = np.randn(a)"
   ]
  },
  {
   "cell_type": "code",
   "execution_count": 19,
   "id": "16c45f77",
   "metadata": {},
   "outputs": [
    {
     "data": {
      "text/plain": [
       "0    100\n",
       "1    200\n",
       "2    300\n",
       "3    400\n",
       "4    500\n",
       "dtype: int32"
      ]
     },
     "execution_count": 19,
     "metadata": {},
     "output_type": "execute_result"
    }
   ],
   "source": [
    "# create one list.\n",
    "A =[100,200,300,400,500]\n",
    "\n",
    "# convert that list in array.\n",
    "array_1 = np.array(A)\n",
    "\n",
    "array_1\n",
    "\n",
    "# Convert that array in series.\n",
    "series_1 = pd.Series(array_1)\n",
    "\n",
    "\n",
    "series_1"
   ]
  },
  {
   "cell_type": "code",
   "execution_count": 23,
   "id": "1b4b8ec2",
   "metadata": {},
   "outputs": [
    {
     "data": {
      "text/plain": [
       "0     50.0\n",
       "1    100.0\n",
       "2    150.0\n",
       "3    200.0\n",
       "4    250.0\n",
       "dtype: float64"
      ]
     },
     "execution_count": 23,
     "metadata": {},
     "output_type": "execute_result"
    }
   ],
   "source": [
    "# Perform arithmetic operations in series.\n",
    "Add =series_1 + 1000\n",
    "Add\n",
    "\n",
    "# Multiplication \n",
    "Mul = series_1 * 100\n",
    "Mul\n",
    "\n",
    "# Subtraction\n",
    "Sub = series_1 - 200\n",
    "Sub\n",
    "\n",
    "# Division\n",
    "Div = series_1 / 2\n",
    "Div"
   ]
  },
  {
   "cell_type": "code",
   "execution_count": 29,
   "id": "fd134d01",
   "metadata": {},
   "outputs": [
    {
     "data": {
      "text/plain": [
       "0     10\n",
       "1    abc\n",
       "2     20\n",
       "3     30\n",
       "dtype: object"
      ]
     },
     "execution_count": 29,
     "metadata": {},
     "output_type": "execute_result"
    }
   ],
   "source": [
    "# Try some malfunctioning Operations.\n",
    "# Add a string in list.\n",
    "list_2 = [10,\"abc\",20,30]\n",
    "list_2\n",
    "\n",
    "# convert it into array.\n",
    "array_4 = np.array(list_2)\n",
    "array_4\n",
    "\n",
    "# convert into series.\n",
    "series_3 = pd.Series(array_4)\n",
    "series_3"
   ]
  },
  {
   "cell_type": "code",
   "execution_count": null,
   "id": "d696db44",
   "metadata": {},
   "outputs": [],
   "source": [
    "# Now perform arithmetic operations in them.\n"
   ]
  }
 ],
 "metadata": {
  "kernelspec": {
   "display_name": "Python 3 (ipykernel)",
   "language": "python",
   "name": "python3"
  },
  "language_info": {
   "codemirror_mode": {
    "name": "ipython",
    "version": 3
   },
   "file_extension": ".py",
   "mimetype": "text/x-python",
   "name": "python",
   "nbconvert_exporter": "python",
   "pygments_lexer": "ipython3",
   "version": "3.9.13"
  }
 },
 "nbformat": 4,
 "nbformat_minor": 5
}
